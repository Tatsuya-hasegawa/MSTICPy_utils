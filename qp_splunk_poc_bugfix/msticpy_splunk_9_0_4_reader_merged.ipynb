{
 "cells": [
  {
   "attachments": {},
   "cell_type": "markdown",
   "metadata": {},
   "source": [
    "### Test for docker Splunk latest 9.0.4"
   ]
  },
  {
   "cell_type": "code",
   "execution_count": 13,
   "metadata": {},
   "outputs": [
    {
     "name": "stdout",
     "output_type": "stream",
     "text": [
      "Tue Apr 25 05:41:04 JST 2023\n",
      "Python 3.9.5\n",
      "sys.version\n",
      " 3.9.5 (default, Jun  7 2021, 16:27:44) \n",
      "[Clang 12.0.5 (clang-1205.0.22.9)]\n"
     ]
    }
   ],
   "source": [
    "!date\n",
    "!python -V # check if python version is later than 3.8\n",
    "\n",
    "import sys\n",
    "print(\"sys.version\\n\",sys.version)"
   ]
  },
  {
   "cell_type": "code",
   "execution_count": 14,
   "metadata": {},
   "outputs": [
    {
     "name": "stdout",
     "output_type": "stream",
     "text": [
      "<?xml version=\"1.0\" encoding=\"UTF-8\"?>\n",
      "<!--This is to override browser formatting; see server.conf[httpServer] to disable. . . . . . . . . . . . . . . . . . . . . . . . . . . . . . . . . . . . . . . . . . . . . . . . . . . . . . . . . . . . . . . . . . . . . . . . . . . . . . . . . . . . . . . . . . . . . . . . . . . . . . . . . . . . . . . . . . . . . . . . . . . . . . . . . . . . . . . . . . . . . . . . . . . . . . . . . . . . . . . . . . . . . . . . . . . . . . . . . . . . . . . . . . . . . . . . . . . . . . . . . . . . . . . . . . . . . . . . . . . . . . . . . . . . . . . . . . . . . . . . . . . . . . . . . . . . . . . . . . . . . . . . . . . . . . . . . . . . . . . . . . . . . . . . . . . . . . . . . . . . . . . . . . . . . . . . . . . . . . . . . . . . . . . . . . . . . . . . . . . . . . . . . . . . . . . . . . . . . . . . . . . . . . . . . . . . . . . . . . . . . . . . . . . . . . . . . . . . . . . . . . . . . . . . . . . . . . . . . . . . . . . . . . . . . . . . . . . . . . . . . . . . . . . . . . . . . . . . . . . . . . . . . . . . . . . . .-->\n",
      "<?xml-stylesheet type=\"text/xml\" href=\"/static/atom.xsl\"?>\n",
      "<feed xmlns=\"http://www.w3.org/2005/Atom\" xmlns:s=\"http://dev.splunk.com/ns/rest\">\n",
      "  <title>splunkd</title>\n",
      "  <id>https://localhost:8089/</id>\n",
      "  <updated>2023-04-24T20:41:06+00:00</updated>\n",
      "  <generator build=\"de405f4a7979\" version=\"9.0.4\"/>\n",
      "  <author>\n",
      "    <name>Splunk</name>\n",
      "  </author>\n",
      "  <entry>\n",
      "    <title>rpc</title>\n",
      "    <id>https://localhost:8089/rpc</id>\n",
      "    <updated>1970-01-01T00:00:00+00:00</updated>\n",
      "    <link href=\"/rpc\" rel=\"alternate\"/>\n",
      "  </entry>\n",
      "  <entry>\n",
      "    <title>services</title>\n",
      "    <id>https://localhost:8089/services</id>\n",
      "    <updated>1970-01-01T00:00:00+00:00</updated>\n",
      "    <link href=\"/services\" rel=\"alternate\"/>\n",
      "  </entry>\n",
      "  <entry>\n",
      "    <title>servicesNS</title>\n",
      "    <id>https://localhost:8089/servicesNS</id>\n",
      "    <updated>1970-01-01T00:00:00+00:00</updated>\n",
      "    <link href=\"/servicesNS\" rel=\"alternate\"/>\n",
      "  </entry>\n",
      "  <entry>\n",
      "    <title>static</title>\n",
      "    <id>https://localhost:8089/static</id>\n",
      "    <updated>1970-01-01T00:00:00+00:00</updated>\n",
      "    <link href=\"/static\" rel=\"alternate\"/>\n",
      "  </entry>\n",
      "</feed>\n"
     ]
    }
   ],
   "source": [
    "\n",
    "# check the splunk version via REST API\n",
    "!curl https://localhost:8089 -k\n"
   ]
  },
  {
   "cell_type": "code",
   "execution_count": 16,
   "metadata": {},
   "outputs": [
    {
     "name": "stdout",
     "output_type": "stream",
     "text": [
      "2.4.0\n"
     ]
    }
   ],
   "source": [
    "import msticpy as mp\n",
    "print(mp.__version__)"
   ]
  },
  {
   "cell_type": "code",
   "execution_count": 17,
   "metadata": {},
   "outputs": [
    {
     "name": "stderr",
     "output_type": "stream",
     "text": [
      "2023-04-25 05:41:31,410: WARNING - config validation error Missing or empty 'AzureSentinel' section (nbinit#697)\n",
      "2023-04-25 05:41:31,410: WARNING - Could not find msticpyconfig.yaml in standard search. (nbinit#710)\n"
     ]
    },
    {
     "data": {
      "text/html": [
       "<p style=''><font color='orange'><h3>Notebook setup completed with some warnings.</h3></p>"
      ],
      "text/plain": [
       "<IPython.core.display.HTML object>"
      ]
     },
     "metadata": {},
     "output_type": "display_data"
    },
    {
     "data": {
      "text/html": [
       "<p style=''>One or more configuration items were missing or set incorrectly.</p>"
      ],
      "text/plain": [
       "<IPython.core.display.HTML object>"
      ]
     },
     "metadata": {},
     "output_type": "display_data"
    },
    {
     "data": {
      "text/html": [
       "<p style=''>Please run the <i>Getting Started Guide for Azure Sentinel ML Notebooks</i> notebook. and the <a href='https://msticpy.readthedocs.io/en/latest/getting_started/msticpyconfig.html'>msticpy configuration guide</a>.</p>"
      ],
      "text/plain": [
       "<IPython.core.display.HTML object>"
      ]
     },
     "metadata": {},
     "output_type": "display_data"
    },
    {
     "data": {
      "text/html": [
       "<p style=''>This notebook may still run but with reduced functionality.</p>"
      ],
      "text/plain": [
       "<IPython.core.display.HTML object>"
      ]
     },
     "metadata": {},
     "output_type": "display_data"
    }
   ],
   "source": [
    "mp.init_notebook()"
   ]
  },
  {
   "cell_type": "code",
   "execution_count": 18,
   "metadata": {},
   "outputs": [
    {
     "name": "stdout",
     "output_type": "stream",
     "text": [
      "connected\n"
     ]
    }
   ],
   "source": [
    "splunk_prov = mp.QueryProvider(\"Splunk\")\n",
    "splunk_prov.connect()"
   ]
  },
  {
   "cell_type": "code",
   "execution_count": 19,
   "metadata": {},
   "outputs": [
    {
     "name": "stdout",
     "output_type": "stream",
     "text": [
      "Query:  get_events_parameterized\n",
      "Data source:  Splunk\n",
      "Generic parameterized query from index/source\n",
      "\n",
      "Parameters\n",
      "----------\n",
      "add_query_items: str (optional)\n",
      "    Additional query clauses\n",
      "    (default value is: | head 100)\n",
      "end: datetime\n",
      "    Query end time\n",
      "index: str (optional)\n",
      "    Splunk index name\n",
      "    (default value is: *)\n",
      "project_fields: str (optional)\n",
      "    Project Field names\n",
      "    (default value is: | table TimeCreated, host, EventID, EventDescripti...)\n",
      "source: str (optional)\n",
      "    Splunk source type\n",
      "    (default value is: *)\n",
      "start: datetime\n",
      "    Query start time\n",
      "timeformat: str (optional)\n",
      "    Datetime format to use in Splunk query\n",
      "    (default value is: \"%Y-%m-%d %H:%M:%S.%6N\")\n",
      "Query:\n",
      " search index={index} source={source} timeformat={timeformat} earliest={start} latest={end} {project_fields} {add_query_items}\n"
     ]
    }
   ],
   "source": [
    "splunk_prov.SplunkGeneral.get_events_parameterized('?')\n"
   ]
  },
  {
   "cell_type": "code",
   "execution_count": 20,
   "metadata": {},
   "outputs": [
    {
     "data": {
      "text/plain": [
       "' search index=msticpy source=msticpy_splunk_reader_paging-test.csv timeformat=\"%Y-%m-%d %H:%M:%S.%6N\" earliest=\"2023-04-17 00:00:00\" latest=\"2023-04-19 10:00:00\" | table timestamp,rownum, desc, uuid4, host '"
      ]
     },
     "execution_count": 20,
     "metadata": {},
     "output_type": "execute_result"
    }
   ],
   "source": [
    "splunk_prov.SplunkGeneral.get_events_parameterized('print',\n",
    "    index=\"msticpy\",\n",
    "    source=\"msticpy_splunk_reader_paging-test.csv\",\n",
    "    project_fields=\"| table timestamp,rownum, desc, uuid4, host\",\n",
    "    start=\"2023-04-17 00:00:00.000000\",\n",
    "    end=\"2023-04-19 10:00:00.000000\",    \n",
    "    add_query_items='',\n",
    "    count=0\n",
    ")\n",
    "\n"
   ]
  },
  {
   "cell_type": "code",
   "execution_count": 21,
   "metadata": {},
   "outputs": [
    {
     "name": "stderr",
     "output_type": "stream",
     "text": [
      "Waiting Splunk job to complete: 200.0it [00:01, 195.71it/s]                        \n",
      "Waiting Splunk result to retrieve: 200000it [00:31, 6449.36it/s]                           \n"
     ]
    },
    {
     "data": {
      "text/plain": [
       "100000"
      ]
     },
     "execution_count": 21,
     "metadata": {},
     "output_type": "execute_result"
    }
   ],
   "source": [
    "\n",
    "result_df = splunk_prov.SplunkGeneral.get_events_parameterized(\n",
    "    index=\"msticpy\",\n",
    "    source=\"msticpy_splunk_reader_paging-test.csv\",\n",
    "    project_fields=\"| table timestamp,rownum, desc, uuid4, host\",\n",
    "    start=\"2023-04-17 00:00:00.000000\",\n",
    "    end=\"2023-04-19 10:00:00.000000\",    \n",
    "    add_query_items='',\n",
    "    count=0\n",
    ")\n",
    "len(result_df)"
   ]
  },
  {
   "cell_type": "code",
   "execution_count": 22,
   "metadata": {},
   "outputs": [
    {
     "name": "stderr",
     "output_type": "stream",
     "text": [
      "Waiting Splunk job to complete: 200.0it [00:01, 195.50it/s]                        \n",
      "Waiting Splunk result to retrieve: 200000it [00:00, 253958.21it/s]                            \n"
     ]
    },
    {
     "data": {
      "text/plain": [
       "100000"
      ]
     },
     "execution_count": 22,
     "metadata": {},
     "output_type": "execute_result"
    }
   ],
   "source": [
    "\n",
    "result_df = splunk_prov.SplunkGeneral.get_events_parameterized(\n",
    "    index=\"msticpy\",\n",
    "    source=\"msticpy_splunk_reader_paging-test.csv\",\n",
    "    project_fields=\"| table timestamp,rownum, desc, uuid4, host\",\n",
    "    start=\"2023-04-17 00:00:00.000000\",\n",
    "    end=\"2023-04-19 10:00:00.000000\",    \n",
    "    add_query_items='',\n",
    "    count=0,\n",
    "    page_size=10000\n",
    ")\n",
    "len(result_df)"
   ]
  },
  {
   "cell_type": "code",
   "execution_count": null,
   "metadata": {},
   "outputs": [],
   "source": []
  }
 ],
 "metadata": {
  "kernelspec": {
   "display_name": "Python 3",
   "language": "python",
   "name": "python3"
  },
  "language_info": {
   "codemirror_mode": {
    "name": "ipython",
    "version": 3
   },
   "file_extension": ".py",
   "mimetype": "text/x-python",
   "name": "python",
   "nbconvert_exporter": "python",
   "pygments_lexer": "ipython3",
   "version": "3.9.12"
  },
  "orig_nbformat": 4
 },
 "nbformat": 4,
 "nbformat_minor": 2
}
