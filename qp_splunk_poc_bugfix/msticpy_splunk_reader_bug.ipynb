{
 "cells": [
  {
   "cell_type": "code",
   "execution_count": 1,
   "id": "c576facb-8be4-4243-8a6f-0c7ca469c088",
   "metadata": {},
   "outputs": [
    {
     "name": "stdout",
     "output_type": "stream",
     "text": [
      "Tue Apr 18 15:14:44 JST 2023\n",
      "Python 3.9.5\n"
     ]
    }
   ],
   "source": [
    "!date\n",
    "!python -V # check if python version is later than 3.8"
   ]
  },
  {
   "cell_type": "code",
   "execution_count": 2,
   "id": "57e02f57",
   "metadata": {},
   "outputs": [
    {
     "name": "stdout",
     "output_type": "stream",
     "text": [
      "Requirement already satisfied: msticpy in /Users/hacket/.pyenv/versions/3.9.5/lib/python3.9/site-packages (2.4.0)\n",
      "Requirement already satisfied: pytz>=2019.2 in /Users/hacket/.pyenv/versions/3.9.5/lib/python3.9/site-packages (from msticpy) (2023.3)\n",
      "Requirement already satisfied: httpx==0.23.3 in /Users/hacket/.pyenv/versions/3.9.5/lib/python3.9/site-packages (from msticpy) (0.23.3)\n",
      "Requirement already satisfied: deprecated>=1.2.4 in /Users/hacket/.pyenv/versions/3.9.5/lib/python3.9/site-packages (from msticpy) (1.2.13)\n",
      "Requirement already satisfied: beautifulsoup4>=4.0.0 in /Users/hacket/.pyenv/versions/3.9.5/lib/python3.9/site-packages (from msticpy) (4.12.2)\n",
      "Requirement already satisfied: msal>=1.12.0 in /Users/hacket/.pyenv/versions/3.9.5/lib/python3.9/site-packages (from msticpy) (1.22.0)\n",
      "Requirement already satisfied: tqdm>=4.36.1 in /Users/hacket/.pyenv/versions/3.9.5/lib/python3.9/site-packages (from msticpy) (4.65.0)\n",
      "Requirement already satisfied: lxml>=4.6.5 in /Users/hacket/.pyenv/versions/3.9.5/lib/python3.9/site-packages (from msticpy) (4.9.1)\n",
      "Requirement already satisfied: folium>=0.9.0 in /Users/hacket/.pyenv/versions/3.9.5/lib/python3.9/site-packages (from msticpy) (0.14.0)\n",
      "Requirement already satisfied: pyyaml>=3.13 in /Users/hacket/.pyenv/versions/3.9.5/lib/python3.9/site-packages (from msticpy) (6.0)\n",
      "Requirement already satisfied: tldextract>=2.2.2 in /Users/hacket/.pyenv/versions/3.9.5/lib/python3.9/site-packages (from msticpy) (3.4.0)\n",
      "Requirement already satisfied: numpy>=1.15.4 in /Users/hacket/.pyenv/versions/3.9.5/lib/python3.9/site-packages (from msticpy) (1.24.2)\n",
      "Requirement already satisfied: pandas<2.0.0,>=1.4.0 in /Users/hacket/.pyenv/versions/3.9.5/lib/python3.9/site-packages (from msticpy) (1.5.3)\n",
      "Requirement already satisfied: urllib3>=1.23 in /Users/hacket/.pyenv/versions/3.9.5/lib/python3.9/site-packages (from msticpy) (1.26.15)\n",
      "Requirement already satisfied: geoip2>=2.9.0 in /Users/hacket/.pyenv/versions/3.9.5/lib/python3.9/site-packages (from msticpy) (4.6.0)\n",
      "Requirement already satisfied: azure-identity>=1.10.0 in /Users/hacket/.pyenv/versions/3.9.5/lib/python3.9/site-packages (from msticpy) (1.12.0)\n",
      "Requirement already satisfied: azure-common>=1.1.18 in /Users/hacket/.pyenv/versions/3.9.5/lib/python3.9/site-packages (from msticpy) (1.1.28)\n",
      "Requirement already satisfied: setuptools>=40.6.3 in /Users/hacket/.pyenv/versions/3.9.5/lib/python3.9/site-packages (from msticpy) (56.0.0)\n",
      "Requirement already satisfied: networkx>=2.2 in /Users/hacket/.pyenv/versions/3.9.5/lib/python3.9/site-packages (from msticpy) (3.1)\n",
      "Requirement already satisfied: msrest>=0.6.0 in /Users/hacket/.pyenv/versions/3.9.5/lib/python3.9/site-packages (from msticpy) (0.7.1)\n",
      "Requirement already satisfied: azure-core>=1.24.0 in /Users/hacket/.pyenv/versions/3.9.5/lib/python3.9/site-packages (from msticpy) (1.26.4)\n",
      "Requirement already satisfied: KqlmagicCustom[auth_code_clipboard,jupyter-basic]>=0.1.114.post22 in /Users/hacket/.pyenv/versions/3.9.5/lib/python3.9/site-packages (from msticpy) (0.1.114.post22)\n",
      "Requirement already satisfied: dnspython<3.0.0,>=2.0.0 in /Users/hacket/.pyenv/versions/3.9.5/lib/python3.9/site-packages (from msticpy) (2.3.0)\n",
      "Requirement already satisfied: msal-extensions>=0.3.0 in /Users/hacket/.pyenv/versions/3.9.5/lib/python3.9/site-packages (from msticpy) (1.0.0)\n",
      "Requirement already satisfied: azure-mgmt-subscription>=3.0.0 in /Users/hacket/.pyenv/versions/3.9.5/lib/python3.9/site-packages (from msticpy) (3.1.1)\n",
      "Requirement already satisfied: pygments>=2.0.0 in /Users/hacket/.pyenv/versions/3.9.5/lib/python3.9/site-packages (from msticpy) (2.12.0)\n",
      "Requirement already satisfied: attrs>=18.2.0 in /Users/hacket/.pyenv/versions/3.9.5/lib/python3.9/site-packages (from msticpy) (23.1.0)\n",
      "Requirement already satisfied: bokeh<=2.4.3,>=1.4.0 in /Users/hacket/.pyenv/versions/3.9.5/lib/python3.9/site-packages (from msticpy) (2.4.3)\n",
      "Requirement already satisfied: ipywidgets<8.0.0,>=7.4.2 in /Users/hacket/.pyenv/versions/3.9.5/lib/python3.9/site-packages (from msticpy) (7.7.5)\n",
      "Requirement already satisfied: matplotlib>=3.0.0 in /Users/hacket/.pyenv/versions/3.9.5/lib/python3.9/site-packages (from msticpy) (3.7.1)\n",
      "Requirement already satisfied: pyjwt>=2.3.0 in /Users/hacket/.pyenv/versions/3.9.5/lib/python3.9/site-packages (from msticpy) (2.6.0)\n",
      "Requirement already satisfied: cryptography>=3.1 in /Users/hacket/.pyenv/versions/3.9.5/lib/python3.9/site-packages (from msticpy) (40.0.2)\n",
      "Requirement already satisfied: msrestazure>=0.6.0 in /Users/hacket/.pyenv/versions/3.9.5/lib/python3.9/site-packages (from msticpy) (0.6.4)\n",
      "Requirement already satisfied: ipython>=7.23.1 in /Users/hacket/.pyenv/versions/3.9.5/lib/python3.9/site-packages (from msticpy) (8.4.0)\n",
      "Requirement already satisfied: nest-asyncio>=1.4.0 in /Users/hacket/.pyenv/versions/3.9.5/lib/python3.9/site-packages (from msticpy) (1.5.5)\n",
      "Requirement already satisfied: python-dateutil>=2.8.1 in /Users/hacket/.pyenv/versions/3.9.5/lib/python3.9/site-packages (from msticpy) (2.8.2)\n",
      "Requirement already satisfied: html5lib in /Users/hacket/.pyenv/versions/3.9.5/lib/python3.9/site-packages (from msticpy) (1.1)\n",
      "Requirement already satisfied: typing-extensions>=4.2.0 in /Users/hacket/.pyenv/versions/3.9.5/lib/python3.9/site-packages (from msticpy) (4.5.0)\n",
      "Requirement already satisfied: sniffio in /Users/hacket/.pyenv/versions/3.9.5/lib/python3.9/site-packages (from httpx==0.23.3->msticpy) (1.3.0)\n",
      "Requirement already satisfied: certifi in /Users/hacket/.pyenv/versions/3.9.5/lib/python3.9/site-packages (from httpx==0.23.3->msticpy) (2022.12.7)\n",
      "Requirement already satisfied: httpcore<0.17.0,>=0.15.0 in /Users/hacket/.pyenv/versions/3.9.5/lib/python3.9/site-packages (from httpx==0.23.3->msticpy) (0.16.3)\n",
      "Requirement already satisfied: rfc3986[idna2008]<2,>=1.3 in /Users/hacket/.pyenv/versions/3.9.5/lib/python3.9/site-packages (from httpx==0.23.3->msticpy) (1.5.0)\n",
      "Requirement already satisfied: requests>=2.18.4 in /Users/hacket/.pyenv/versions/3.9.5/lib/python3.9/site-packages (from azure-core>=1.24.0->msticpy) (2.28.2)\n",
      "Requirement already satisfied: six>=1.11.0 in /Users/hacket/.pyenv/versions/3.9.5/lib/python3.9/site-packages (from azure-core>=1.24.0->msticpy) (1.16.0)\n",
      "Requirement already satisfied: azure-mgmt-core<2.0.0,>=1.3.2 in /Users/hacket/.pyenv/versions/3.9.5/lib/python3.9/site-packages (from azure-mgmt-subscription>=3.0.0->msticpy) (1.4.0)\n",
      "Requirement already satisfied: soupsieve>1.2 in /Users/hacket/.pyenv/versions/3.9.5/lib/python3.9/site-packages (from beautifulsoup4>=4.0.0->msticpy) (2.4.1)\n",
      "Requirement already satisfied: Jinja2>=2.9 in /Users/hacket/.pyenv/versions/3.9.5/lib/python3.9/site-packages (from bokeh<=2.4.3,>=1.4.0->msticpy) (3.1.2)\n",
      "Requirement already satisfied: packaging>=16.8 in /Users/hacket/.pyenv/versions/3.9.5/lib/python3.9/site-packages (from bokeh<=2.4.3,>=1.4.0->msticpy) (21.3)\n",
      "Requirement already satisfied: pillow>=7.1.0 in /Users/hacket/.pyenv/versions/3.9.5/lib/python3.9/site-packages (from bokeh<=2.4.3,>=1.4.0->msticpy) (9.5.0)\n",
      "Requirement already satisfied: tornado>=5.1 in /Users/hacket/.pyenv/versions/3.9.5/lib/python3.9/site-packages (from bokeh<=2.4.3,>=1.4.0->msticpy) (6.2)\n",
      "Requirement already satisfied: cffi>=1.12 in /Users/hacket/.pyenv/versions/3.9.5/lib/python3.9/site-packages (from cryptography>=3.1->msticpy) (1.15.1)\n",
      "Requirement already satisfied: pycparser in /Users/hacket/.pyenv/versions/3.9.5/lib/python3.9/site-packages (from cffi>=1.12->cryptography>=3.1->msticpy) (2.21)\n",
      "Requirement already satisfied: wrapt<2,>=1.10 in /Users/hacket/.pyenv/versions/3.9.5/lib/python3.9/site-packages (from deprecated>=1.2.4->msticpy) (1.15.0)\n",
      "Requirement already satisfied: branca>=0.6.0 in /Users/hacket/.pyenv/versions/3.9.5/lib/python3.9/site-packages (from folium>=0.9.0->msticpy) (0.6.0)\n",
      "Requirement already satisfied: aiohttp<4.0.0,>=3.6.2 in /Users/hacket/.pyenv/versions/3.9.5/lib/python3.9/site-packages (from geoip2>=2.9.0->msticpy) (3.8.4)\n",
      "Requirement already satisfied: maxminddb<3.0.0,>=2.2.0 in /Users/hacket/.pyenv/versions/3.9.5/lib/python3.9/site-packages (from geoip2>=2.9.0->msticpy) (2.2.0)\n",
      "Requirement already satisfied: charset-normalizer<4.0,>=2.0 in /Users/hacket/.pyenv/versions/3.9.5/lib/python3.9/site-packages (from aiohttp<4.0.0,>=3.6.2->geoip2>=2.9.0->msticpy) (3.1.0)\n",
      "Requirement already satisfied: yarl<2.0,>=1.0 in /Users/hacket/.pyenv/versions/3.9.5/lib/python3.9/site-packages (from aiohttp<4.0.0,>=3.6.2->geoip2>=2.9.0->msticpy) (1.8.2)\n",
      "Requirement already satisfied: aiosignal>=1.1.2 in /Users/hacket/.pyenv/versions/3.9.5/lib/python3.9/site-packages (from aiohttp<4.0.0,>=3.6.2->geoip2>=2.9.0->msticpy) (1.3.1)\n",
      "Requirement already satisfied: multidict<7.0,>=4.5 in /Users/hacket/.pyenv/versions/3.9.5/lib/python3.9/site-packages (from aiohttp<4.0.0,>=3.6.2->geoip2>=2.9.0->msticpy) (6.0.4)\n",
      "Requirement already satisfied: async-timeout<5.0,>=4.0.0a3 in /Users/hacket/.pyenv/versions/3.9.5/lib/python3.9/site-packages (from aiohttp<4.0.0,>=3.6.2->geoip2>=2.9.0->msticpy) (4.0.2)\n",
      "Requirement already satisfied: frozenlist>=1.1.1 in /Users/hacket/.pyenv/versions/3.9.5/lib/python3.9/site-packages (from aiohttp<4.0.0,>=3.6.2->geoip2>=2.9.0->msticpy) (1.3.3)\n",
      "Requirement already satisfied: anyio<5.0,>=3.0 in /Users/hacket/.pyenv/versions/3.9.5/lib/python3.9/site-packages (from httpcore<0.17.0,>=0.15.0->httpx==0.23.3->msticpy) (3.6.2)\n",
      "Requirement already satisfied: h11<0.15,>=0.13 in /Users/hacket/.pyenv/versions/3.9.5/lib/python3.9/site-packages (from httpcore<0.17.0,>=0.15.0->httpx==0.23.3->msticpy) (0.14.0)\n",
      "Requirement already satisfied: idna>=2.8 in /Users/hacket/.pyenv/versions/3.9.5/lib/python3.9/site-packages (from anyio<5.0,>=3.0->httpcore<0.17.0,>=0.15.0->httpx==0.23.3->msticpy) (3.4)\n",
      "Requirement already satisfied: pickleshare in /Users/hacket/.pyenv/versions/3.9.5/lib/python3.9/site-packages (from ipython>=7.23.1->msticpy) (0.7.5)\n",
      "Requirement already satisfied: traitlets>=5 in /Users/hacket/.pyenv/versions/3.9.5/lib/python3.9/site-packages (from ipython>=7.23.1->msticpy) (5.9.0)\n",
      "Requirement already satisfied: jedi>=0.16 in /Users/hacket/.pyenv/versions/3.9.5/lib/python3.9/site-packages (from ipython>=7.23.1->msticpy) (0.18.1)\n",
      "Requirement already satisfied: matplotlib-inline in /Users/hacket/.pyenv/versions/3.9.5/lib/python3.9/site-packages (from ipython>=7.23.1->msticpy) (0.1.3)\n",
      "Requirement already satisfied: stack-data in /Users/hacket/.pyenv/versions/3.9.5/lib/python3.9/site-packages (from ipython>=7.23.1->msticpy) (0.3.0)\n",
      "Requirement already satisfied: decorator in /Users/hacket/.pyenv/versions/3.9.5/lib/python3.9/site-packages (from ipython>=7.23.1->msticpy) (5.1.1)\n",
      "Requirement already satisfied: prompt-toolkit!=3.0.0,!=3.0.1,<3.1.0,>=2.0.0 in /Users/hacket/.pyenv/versions/3.9.5/lib/python3.9/site-packages (from ipython>=7.23.1->msticpy) (3.0.30)\n",
      "Requirement already satisfied: pexpect>4.3 in /Users/hacket/.pyenv/versions/3.9.5/lib/python3.9/site-packages (from ipython>=7.23.1->msticpy) (4.8.0)\n",
      "Requirement already satisfied: appnope in /Users/hacket/.pyenv/versions/3.9.5/lib/python3.9/site-packages (from ipython>=7.23.1->msticpy) (0.1.3)\n",
      "Requirement already satisfied: backcall in /Users/hacket/.pyenv/versions/3.9.5/lib/python3.9/site-packages (from ipython>=7.23.1->msticpy) (0.2.0)\n",
      "Requirement already satisfied: ipython-genutils~=0.2.0 in /Users/hacket/.pyenv/versions/3.9.5/lib/python3.9/site-packages (from ipywidgets<8.0.0,>=7.4.2->msticpy) (0.2.0)\n",
      "Requirement already satisfied: widgetsnbextension~=3.6.4 in /Users/hacket/.pyenv/versions/3.9.5/lib/python3.9/site-packages (from ipywidgets<8.0.0,>=7.4.2->msticpy) (3.6.4)\n",
      "Requirement already satisfied: jupyterlab-widgets<3,>=1.0.0 in /Users/hacket/.pyenv/versions/3.9.5/lib/python3.9/site-packages (from ipywidgets<8.0.0,>=7.4.2->msticpy) (1.1.4)\n",
      "Requirement already satisfied: ipykernel>=4.5.1 in /Users/hacket/.pyenv/versions/3.9.5/lib/python3.9/site-packages (from ipywidgets<8.0.0,>=7.4.2->msticpy) (6.15.1)\n",
      "Requirement already satisfied: jupyter-client>=6.1.12 in /Users/hacket/.pyenv/versions/3.9.5/lib/python3.9/site-packages (from ipykernel>=4.5.1->ipywidgets<8.0.0,>=7.4.2->msticpy) (8.2.0)\n",
      "Requirement already satisfied: debugpy>=1.0 in /Users/hacket/.pyenv/versions/3.9.5/lib/python3.9/site-packages (from ipykernel>=4.5.1->ipywidgets<8.0.0,>=7.4.2->msticpy) (1.6.2)\n",
      "Requirement already satisfied: psutil in /Users/hacket/.pyenv/versions/3.9.5/lib/python3.9/site-packages (from ipykernel>=4.5.1->ipywidgets<8.0.0,>=7.4.2->msticpy) (5.9.1)\n",
      "Requirement already satisfied: pyzmq>=17 in /Users/hacket/.pyenv/versions/3.9.5/lib/python3.9/site-packages (from ipykernel>=4.5.1->ipywidgets<8.0.0,>=7.4.2->msticpy) (25.0.2)\n",
      "Requirement already satisfied: parso<0.9.0,>=0.8.0 in /Users/hacket/.pyenv/versions/3.9.5/lib/python3.9/site-packages (from jedi>=0.16->ipython>=7.23.1->msticpy) (0.8.3)\n",
      "Requirement already satisfied: MarkupSafe>=2.0 in /Users/hacket/.pyenv/versions/3.9.5/lib/python3.9/site-packages (from Jinja2>=2.9->bokeh<=2.4.3,>=1.4.0->msticpy) (2.1.2)\n",
      "Requirement already satisfied: importlib-metadata>=4.8.3 in /Users/hacket/.pyenv/versions/3.9.5/lib/python3.9/site-packages (from jupyter-client>=6.1.12->ipykernel>=4.5.1->ipywidgets<8.0.0,>=7.4.2->msticpy) (6.4.1)\n",
      "Requirement already satisfied: jupyter-core!=5.0.*,>=4.12 in /Users/hacket/.pyenv/versions/3.9.5/lib/python3.9/site-packages (from jupyter-client>=6.1.12->ipykernel>=4.5.1->ipywidgets<8.0.0,>=7.4.2->msticpy) (5.3.0)\n",
      "Requirement already satisfied: zipp>=0.5 in /Users/hacket/.pyenv/versions/3.9.5/lib/python3.9/site-packages (from importlib-metadata>=4.8.3->jupyter-client>=6.1.12->ipykernel>=4.5.1->ipywidgets<8.0.0,>=7.4.2->msticpy) (3.15.0)\n",
      "Requirement already satisfied: platformdirs>=2.5 in /Users/hacket/.pyenv/versions/3.9.5/lib/python3.9/site-packages (from jupyter-core!=5.0.*,>=4.12->jupyter-client>=6.1.12->ipykernel>=4.5.1->ipywidgets<8.0.0,>=7.4.2->msticpy) (3.2.0)\n",
      "Requirement already satisfied: prettytable>=0.7.2 in /Users/hacket/.pyenv/versions/3.9.5/lib/python3.9/site-packages (from KqlmagicCustom[auth_code_clipboard,jupyter-basic]>=0.1.114.post22->msticpy) (3.7.0)\n",
      "Requirement already satisfied: pyperclip>=1.7.0 in /Users/hacket/.pyenv/versions/3.9.5/lib/python3.9/site-packages (from KqlmagicCustom[auth_code_clipboard,jupyter-basic]>=0.1.114.post22->msticpy) (1.8.2)\n",
      "Requirement already satisfied: fonttools>=4.22.0 in /Users/hacket/.pyenv/versions/3.9.5/lib/python3.9/site-packages (from matplotlib>=3.0.0->msticpy) (4.39.3)\n",
      "Requirement already satisfied: importlib-resources>=3.2.0 in /Users/hacket/.pyenv/versions/3.9.5/lib/python3.9/site-packages (from matplotlib>=3.0.0->msticpy) (5.12.0)\n",
      "Requirement already satisfied: cycler>=0.10 in /Users/hacket/.pyenv/versions/3.9.5/lib/python3.9/site-packages (from matplotlib>=3.0.0->msticpy) (0.11.0)\n",
      "Requirement already satisfied: kiwisolver>=1.0.1 in /Users/hacket/.pyenv/versions/3.9.5/lib/python3.9/site-packages (from matplotlib>=3.0.0->msticpy) (1.4.4)\n",
      "Requirement already satisfied: contourpy>=1.0.1 in /Users/hacket/.pyenv/versions/3.9.5/lib/python3.9/site-packages (from matplotlib>=3.0.0->msticpy) (1.0.7)\n",
      "Requirement already satisfied: pyparsing>=2.3.1 in /Users/hacket/.pyenv/versions/3.9.5/lib/python3.9/site-packages (from matplotlib>=3.0.0->msticpy) (3.0.9)\n",
      "Requirement already satisfied: portalocker<3,>=1.0 in /Users/hacket/.pyenv/versions/3.9.5/lib/python3.9/site-packages (from msal-extensions>=0.3.0->msticpy) (2.7.0)\n",
      "Requirement already satisfied: requests-oauthlib>=0.5.0 in /Users/hacket/.pyenv/versions/3.9.5/lib/python3.9/site-packages (from msrest>=0.6.0->msticpy) (1.3.1)\n",
      "Requirement already satisfied: isodate>=0.6.0 in /Users/hacket/.pyenv/versions/3.9.5/lib/python3.9/site-packages (from msrest>=0.6.0->msticpy) (0.6.1)\n",
      "Requirement already satisfied: adal<2.0.0,>=0.6.0 in /Users/hacket/.pyenv/versions/3.9.5/lib/python3.9/site-packages (from msrestazure>=0.6.0->msticpy) (1.2.7)\n",
      "Requirement already satisfied: ptyprocess>=0.5 in /Users/hacket/.pyenv/versions/3.9.5/lib/python3.9/site-packages (from pexpect>4.3->ipython>=7.23.1->msticpy) (0.7.0)\n",
      "Requirement already satisfied: wcwidth in /Users/hacket/.pyenv/versions/3.9.5/lib/python3.9/site-packages (from prettytable>=0.7.2->KqlmagicCustom[auth_code_clipboard,jupyter-basic]>=0.1.114.post22->msticpy) (0.2.5)\n",
      "Requirement already satisfied: oauthlib>=3.0.0 in /Users/hacket/.pyenv/versions/3.9.5/lib/python3.9/site-packages (from requests-oauthlib>=0.5.0->msrest>=0.6.0->msticpy) (3.2.2)\n",
      "Requirement already satisfied: requests-file>=1.4 in /Users/hacket/.pyenv/versions/3.9.5/lib/python3.9/site-packages (from tldextract>=2.2.2->msticpy) (1.5.1)\n",
      "Requirement already satisfied: filelock>=3.0.8 in /Users/hacket/.pyenv/versions/3.9.5/lib/python3.9/site-packages (from tldextract>=2.2.2->msticpy) (3.11.0)\n",
      "Requirement already satisfied: notebook>=4.4.1 in /Users/hacket/.pyenv/versions/3.9.5/lib/python3.9/site-packages (from widgetsnbextension~=3.6.4->ipywidgets<8.0.0,>=7.4.2->msticpy) (6.5.4)\n",
      "Requirement already satisfied: Send2Trash>=1.8.0 in /Users/hacket/.pyenv/versions/3.9.5/lib/python3.9/site-packages (from notebook>=4.4.1->widgetsnbextension~=3.6.4->ipywidgets<8.0.0,>=7.4.2->msticpy) (1.8.0)\n",
      "Requirement already satisfied: nbformat in /Users/hacket/.pyenv/versions/3.9.5/lib/python3.9/site-packages (from notebook>=4.4.1->widgetsnbextension~=3.6.4->ipywidgets<8.0.0,>=7.4.2->msticpy) (5.8.0)\n",
      "Requirement already satisfied: nbconvert>=5 in /Users/hacket/.pyenv/versions/3.9.5/lib/python3.9/site-packages (from notebook>=4.4.1->widgetsnbextension~=3.6.4->ipywidgets<8.0.0,>=7.4.2->msticpy) (7.3.1)\n",
      "Requirement already satisfied: nbclassic>=0.4.7 in /Users/hacket/.pyenv/versions/3.9.5/lib/python3.9/site-packages (from notebook>=4.4.1->widgetsnbextension~=3.6.4->ipywidgets<8.0.0,>=7.4.2->msticpy) (0.5.5)\n",
      "Requirement already satisfied: argon2-cffi in /Users/hacket/.pyenv/versions/3.9.5/lib/python3.9/site-packages (from notebook>=4.4.1->widgetsnbextension~=3.6.4->ipywidgets<8.0.0,>=7.4.2->msticpy) (21.3.0)\n",
      "Requirement already satisfied: terminado>=0.8.3 in /Users/hacket/.pyenv/versions/3.9.5/lib/python3.9/site-packages (from notebook>=4.4.1->widgetsnbextension~=3.6.4->ipywidgets<8.0.0,>=7.4.2->msticpy) (0.17.1)\n",
      "Requirement already satisfied: prometheus-client in /Users/hacket/.pyenv/versions/3.9.5/lib/python3.9/site-packages (from notebook>=4.4.1->widgetsnbextension~=3.6.4->ipywidgets<8.0.0,>=7.4.2->msticpy) (0.16.0)\n",
      "Requirement already satisfied: notebook-shim>=0.1.0 in /Users/hacket/.pyenv/versions/3.9.5/lib/python3.9/site-packages (from nbclassic>=0.4.7->notebook>=4.4.1->widgetsnbextension~=3.6.4->ipywidgets<8.0.0,>=7.4.2->msticpy) (0.2.2)\n",
      "Requirement already satisfied: jupyter-server>=1.8 in /Users/hacket/.pyenv/versions/3.9.5/lib/python3.9/site-packages (from nbclassic>=0.4.7->notebook>=4.4.1->widgetsnbextension~=3.6.4->ipywidgets<8.0.0,>=7.4.2->msticpy) (2.5.0)\n",
      "Requirement already satisfied: jupyter-server-terminals in /Users/hacket/.pyenv/versions/3.9.5/lib/python3.9/site-packages (from jupyter-server>=1.8->nbclassic>=0.4.7->notebook>=4.4.1->widgetsnbextension~=3.6.4->ipywidgets<8.0.0,>=7.4.2->msticpy) (0.4.4)\n",
      "Requirement already satisfied: jupyter-events>=0.4.0 in /Users/hacket/.pyenv/versions/3.9.5/lib/python3.9/site-packages (from jupyter-server>=1.8->nbclassic>=0.4.7->notebook>=4.4.1->widgetsnbextension~=3.6.4->ipywidgets<8.0.0,>=7.4.2->msticpy) (0.6.3)\n",
      "Requirement already satisfied: websocket-client in /Users/hacket/.pyenv/versions/3.9.5/lib/python3.9/site-packages (from jupyter-server>=1.8->nbclassic>=0.4.7->notebook>=4.4.1->widgetsnbextension~=3.6.4->ipywidgets<8.0.0,>=7.4.2->msticpy) (1.5.1)\n",
      "Requirement already satisfied: jsonschema[format-nongpl]>=3.2.0 in /Users/hacket/.pyenv/versions/3.9.5/lib/python3.9/site-packages (from jupyter-events>=0.4.0->jupyter-server>=1.8->nbclassic>=0.4.7->notebook>=4.4.1->widgetsnbextension~=3.6.4->ipywidgets<8.0.0,>=7.4.2->msticpy) (4.17.3)\n",
      "Requirement already satisfied: rfc3986-validator>=0.1.1 in /Users/hacket/.pyenv/versions/3.9.5/lib/python3.9/site-packages (from jupyter-events>=0.4.0->jupyter-server>=1.8->nbclassic>=0.4.7->notebook>=4.4.1->widgetsnbextension~=3.6.4->ipywidgets<8.0.0,>=7.4.2->msticpy) (0.1.1)\n",
      "Requirement already satisfied: rfc3339-validator in /Users/hacket/.pyenv/versions/3.9.5/lib/python3.9/site-packages (from jupyter-events>=0.4.0->jupyter-server>=1.8->nbclassic>=0.4.7->notebook>=4.4.1->widgetsnbextension~=3.6.4->ipywidgets<8.0.0,>=7.4.2->msticpy) (0.1.4)\n",
      "Requirement already satisfied: python-json-logger>=2.0.4 in /Users/hacket/.pyenv/versions/3.9.5/lib/python3.9/site-packages (from jupyter-events>=0.4.0->jupyter-server>=1.8->nbclassic>=0.4.7->notebook>=4.4.1->widgetsnbextension~=3.6.4->ipywidgets<8.0.0,>=7.4.2->msticpy) (2.0.7)\n",
      "Requirement already satisfied: pyrsistent!=0.17.0,!=0.17.1,!=0.17.2,>=0.14.0 in /Users/hacket/.pyenv/versions/3.9.5/lib/python3.9/site-packages (from jsonschema[format-nongpl]>=3.2.0->jupyter-events>=0.4.0->jupyter-server>=1.8->nbclassic>=0.4.7->notebook>=4.4.1->widgetsnbextension~=3.6.4->ipywidgets<8.0.0,>=7.4.2->msticpy) (0.19.3)\n",
      "Requirement already satisfied: jsonpointer>1.13 in /Users/hacket/.pyenv/versions/3.9.5/lib/python3.9/site-packages (from jsonschema[format-nongpl]>=3.2.0->jupyter-events>=0.4.0->jupyter-server>=1.8->nbclassic>=0.4.7->notebook>=4.4.1->widgetsnbextension~=3.6.4->ipywidgets<8.0.0,>=7.4.2->msticpy) (2.3)\n",
      "Requirement already satisfied: uri-template in /Users/hacket/.pyenv/versions/3.9.5/lib/python3.9/site-packages (from jsonschema[format-nongpl]>=3.2.0->jupyter-events>=0.4.0->jupyter-server>=1.8->nbclassic>=0.4.7->notebook>=4.4.1->widgetsnbextension~=3.6.4->ipywidgets<8.0.0,>=7.4.2->msticpy) (1.2.0)\n",
      "Requirement already satisfied: fqdn in /Users/hacket/.pyenv/versions/3.9.5/lib/python3.9/site-packages (from jsonschema[format-nongpl]>=3.2.0->jupyter-events>=0.4.0->jupyter-server>=1.8->nbclassic>=0.4.7->notebook>=4.4.1->widgetsnbextension~=3.6.4->ipywidgets<8.0.0,>=7.4.2->msticpy) (1.5.1)\n",
      "Requirement already satisfied: webcolors>=1.11 in /Users/hacket/.pyenv/versions/3.9.5/lib/python3.9/site-packages (from jsonschema[format-nongpl]>=3.2.0->jupyter-events>=0.4.0->jupyter-server>=1.8->nbclassic>=0.4.7->notebook>=4.4.1->widgetsnbextension~=3.6.4->ipywidgets<8.0.0,>=7.4.2->msticpy) (1.13)\n",
      "Requirement already satisfied: isoduration in /Users/hacket/.pyenv/versions/3.9.5/lib/python3.9/site-packages (from jsonschema[format-nongpl]>=3.2.0->jupyter-events>=0.4.0->jupyter-server>=1.8->nbclassic>=0.4.7->notebook>=4.4.1->widgetsnbextension~=3.6.4->ipywidgets<8.0.0,>=7.4.2->msticpy) (20.11.0)\n",
      "Requirement already satisfied: pandocfilters>=1.4.1 in /Users/hacket/.pyenv/versions/3.9.5/lib/python3.9/site-packages (from nbconvert>=5->notebook>=4.4.1->widgetsnbextension~=3.6.4->ipywidgets<8.0.0,>=7.4.2->msticpy) (1.5.0)\n",
      "Requirement already satisfied: tinycss2 in /Users/hacket/.pyenv/versions/3.9.5/lib/python3.9/site-packages (from nbconvert>=5->notebook>=4.4.1->widgetsnbextension~=3.6.4->ipywidgets<8.0.0,>=7.4.2->msticpy) (1.2.1)\n",
      "Requirement already satisfied: bleach in /Users/hacket/.pyenv/versions/3.9.5/lib/python3.9/site-packages (from nbconvert>=5->notebook>=4.4.1->widgetsnbextension~=3.6.4->ipywidgets<8.0.0,>=7.4.2->msticpy) (6.0.0)\n",
      "Requirement already satisfied: mistune<3,>=2.0.3 in /Users/hacket/.pyenv/versions/3.9.5/lib/python3.9/site-packages (from nbconvert>=5->notebook>=4.4.1->widgetsnbextension~=3.6.4->ipywidgets<8.0.0,>=7.4.2->msticpy) (2.0.5)\n",
      "Requirement already satisfied: nbclient>=0.5.0 in /Users/hacket/.pyenv/versions/3.9.5/lib/python3.9/site-packages (from nbconvert>=5->notebook>=4.4.1->widgetsnbextension~=3.6.4->ipywidgets<8.0.0,>=7.4.2->msticpy) (0.7.3)\n",
      "Requirement already satisfied: defusedxml in /Users/hacket/.pyenv/versions/3.9.5/lib/python3.9/site-packages (from nbconvert>=5->notebook>=4.4.1->widgetsnbextension~=3.6.4->ipywidgets<8.0.0,>=7.4.2->msticpy) (0.7.1)\n",
      "Requirement already satisfied: jupyterlab-pygments in /Users/hacket/.pyenv/versions/3.9.5/lib/python3.9/site-packages (from nbconvert>=5->notebook>=4.4.1->widgetsnbextension~=3.6.4->ipywidgets<8.0.0,>=7.4.2->msticpy) (0.2.2)\n",
      "Requirement already satisfied: fastjsonschema in /Users/hacket/.pyenv/versions/3.9.5/lib/python3.9/site-packages (from nbformat->notebook>=4.4.1->widgetsnbextension~=3.6.4->ipywidgets<8.0.0,>=7.4.2->msticpy) (2.16.3)\n",
      "Requirement already satisfied: argon2-cffi-bindings in /Users/hacket/.pyenv/versions/3.9.5/lib/python3.9/site-packages (from argon2-cffi->notebook>=4.4.1->widgetsnbextension~=3.6.4->ipywidgets<8.0.0,>=7.4.2->msticpy) (21.2.0)\n",
      "Requirement already satisfied: webencodings in /Users/hacket/.pyenv/versions/3.9.5/lib/python3.9/site-packages (from bleach->nbconvert>=5->notebook>=4.4.1->widgetsnbextension~=3.6.4->ipywidgets<8.0.0,>=7.4.2->msticpy) (0.5.1)\n",
      "Requirement already satisfied: arrow>=0.15.0 in /Users/hacket/.pyenv/versions/3.9.5/lib/python3.9/site-packages (from isoduration->jsonschema[format-nongpl]>=3.2.0->jupyter-events>=0.4.0->jupyter-server>=1.8->nbclassic>=0.4.7->notebook>=4.4.1->widgetsnbextension~=3.6.4->ipywidgets<8.0.0,>=7.4.2->msticpy) (1.2.3)\n",
      "Requirement already satisfied: executing in /Users/hacket/.pyenv/versions/3.9.5/lib/python3.9/site-packages (from stack-data->ipython>=7.23.1->msticpy) (0.8.3)\n",
      "Requirement already satisfied: asttokens in /Users/hacket/.pyenv/versions/3.9.5/lib/python3.9/site-packages (from stack-data->ipython>=7.23.1->msticpy) (2.0.5)\n",
      "Requirement already satisfied: pure-eval in /Users/hacket/.pyenv/versions/3.9.5/lib/python3.9/site-packages (from stack-data->ipython>=7.23.1->msticpy) (0.2.2)\n",
      "\u001b[33mWARNING: You are using pip version 21.1.1; however, version 23.0.1 is available.\n",
      "You should consider upgrading via the '/Users/hacket/.pyenv/versions/3.9.5/bin/python -m pip install --upgrade pip' command.\u001b[0m\n",
      "Note: you may need to restart the kernel to use updated packages.\n"
     ]
    }
   ],
   "source": [
    "pip install msticpy"
   ]
  },
  {
   "cell_type": "code",
   "execution_count": 4,
   "id": "fb49168b-568f-4d81-8dc0-b228626101fb",
   "metadata": {},
   "outputs": [
    {
     "name": "stdout",
     "output_type": "stream",
     "text": [
      "2.4.0\n"
     ]
    }
   ],
   "source": [
    "import msticpy as mp\n",
    "print(mp.__version__)"
   ]
  },
  {
   "cell_type": "code",
   "execution_count": 5,
   "id": "64d21347-fd4c-4471-a68e-ffb1c33c4edb",
   "metadata": {},
   "outputs": [
    {
     "ename": "ModuleNotFoundError",
     "evalue": "No module named 'azure.mgmt.resource'",
     "output_type": "error",
     "traceback": [
      "\u001b[0;31m---------------------------------------------------------------------------\u001b[0m",
      "\u001b[0;31mModuleNotFoundError\u001b[0m                       Traceback (most recent call last)",
      "\u001b[1;32m/Users/hacket/Myprojects/programming_practice/JupiterLab/msticpy_practice/msticpy_splunk_reader_bug.ipynb Cell 4\u001b[0m in \u001b[0;36m<cell line: 1>\u001b[0;34m()\u001b[0m\n\u001b[0;32m----> <a href='vscode-notebook-cell:/Users/hacket/Myprojects/programming_practice/JupiterLab/msticpy_practice/msticpy_splunk_reader_bug.ipynb#W4sZmlsZQ%3D%3D?line=0'>1</a>\u001b[0m mp\u001b[39m.\u001b[39;49minit_notebook()\n",
      "File \u001b[0;32m~/.pyenv/versions/3.9.5/lib/python3.9/site-packages/msticpy/__init__.py:182\u001b[0m, in \u001b[0;36m__getattr__\u001b[0;34m(attrib)\u001b[0m\n\u001b[1;32m    162\u001b[0m \u001b[39m\"\"\"\u001b[39;00m\n\u001b[1;32m    163\u001b[0m \u001b[39mImport and return an attribute of MSTICPy.\u001b[39;00m\n\u001b[1;32m    164\u001b[0m \n\u001b[0;32m   (...)\u001b[0m\n\u001b[1;32m    179\u001b[0m \n\u001b[1;32m    180\u001b[0m \u001b[39m\"\"\"\u001b[39;00m\n\u001b[1;32m    181\u001b[0m \u001b[39mif\u001b[39;00m attrib \u001b[39min\u001b[39;00m _DEFAULT_IMPORTS:\n\u001b[0;32m--> 182\u001b[0m     module \u001b[39m=\u001b[39m importlib\u001b[39m.\u001b[39;49mimport_module(_DEFAULT_IMPORTS[attrib])\n\u001b[1;32m    183\u001b[0m     \u001b[39mreturn\u001b[39;00m \u001b[39mgetattr\u001b[39m(module, attrib)\n\u001b[1;32m    184\u001b[0m \u001b[39mraise\u001b[39;00m \u001b[39mAttributeError\u001b[39;00m(\u001b[39mf\u001b[39m\u001b[39m\"\u001b[39m\u001b[39mmsticpy has no attribute \u001b[39m\u001b[39m{\u001b[39;00mattrib\u001b[39m}\u001b[39;00m\u001b[39m\"\u001b[39m)\n",
      "File \u001b[0;32m~/.pyenv/versions/3.9.5/lib/python3.9/importlib/__init__.py:127\u001b[0m, in \u001b[0;36mimport_module\u001b[0;34m(name, package)\u001b[0m\n\u001b[1;32m    125\u001b[0m             \u001b[39mbreak\u001b[39;00m\n\u001b[1;32m    126\u001b[0m         level \u001b[39m+\u001b[39m\u001b[39m=\u001b[39m \u001b[39m1\u001b[39m\n\u001b[0;32m--> 127\u001b[0m \u001b[39mreturn\u001b[39;00m _bootstrap\u001b[39m.\u001b[39;49m_gcd_import(name[level:], package, level)\n",
      "File \u001b[0;32m<frozen importlib._bootstrap>:1030\u001b[0m, in \u001b[0;36m_gcd_import\u001b[0;34m(name, package, level)\u001b[0m\n",
      "File \u001b[0;32m<frozen importlib._bootstrap>:1007\u001b[0m, in \u001b[0;36m_find_and_load\u001b[0;34m(name, import_)\u001b[0m\n",
      "File \u001b[0;32m<frozen importlib._bootstrap>:986\u001b[0m, in \u001b[0;36m_find_and_load_unlocked\u001b[0;34m(name, import_)\u001b[0m\n",
      "File \u001b[0;32m<frozen importlib._bootstrap>:680\u001b[0m, in \u001b[0;36m_load_unlocked\u001b[0;34m(spec)\u001b[0m\n",
      "File \u001b[0;32m<frozen importlib._bootstrap_external>:855\u001b[0m, in \u001b[0;36mexec_module\u001b[0;34m(self, module)\u001b[0m\n",
      "File \u001b[0;32m<frozen importlib._bootstrap>:228\u001b[0m, in \u001b[0;36m_call_with_frames_removed\u001b[0;34m(f, *args, **kwds)\u001b[0m\n",
      "File \u001b[0;32m~/.pyenv/versions/3.9.5/lib/python3.9/site-packages/msticpy/init/nbinit.py:82\u001b[0m, in \u001b[0;36m<module>\u001b[0;34m\u001b[0m\n\u001b[1;32m     73\u001b[0m \u001b[39mfrom\u001b[39;00m \u001b[39m.\u001b[39;00m\u001b[39m.\u001b[39;00m\u001b[39mcommon\u001b[39;00m\u001b[39m.\u001b[39;00m\u001b[39mpkg_config\u001b[39;00m \u001b[39mimport\u001b[39;00m _HOME_PATH, get_config, refresh_config, validate_config\n\u001b[1;32m     74\u001b[0m \u001b[39mfrom\u001b[39;00m \u001b[39m.\u001b[39;00m\u001b[39m.\u001b[39;00m\u001b[39mcommon\u001b[39;00m\u001b[39m.\u001b[39;00m\u001b[39mutility\u001b[39;00m \u001b[39mimport\u001b[39;00m (\n\u001b[1;32m     75\u001b[0m     check_and_install_missing_packages,\n\u001b[1;32m     76\u001b[0m     check_kwargs,\n\u001b[0;32m   (...)\u001b[0m\n\u001b[1;32m     80\u001b[0m     unit_testing,\n\u001b[1;32m     81\u001b[0m )\n\u001b[0;32m---> 82\u001b[0m \u001b[39mfrom\u001b[39;00m \u001b[39m.\u001b[39;00m\u001b[39mazure_ml_tools\u001b[39;00m \u001b[39mimport\u001b[39;00m check_versions \u001b[39mas\u001b[39;00m check_versions_aml\n\u001b[1;32m     83\u001b[0m \u001b[39mfrom\u001b[39;00m \u001b[39m.\u001b[39;00m\u001b[39mazure_ml_tools\u001b[39;00m \u001b[39mimport\u001b[39;00m is_in_aml, populate_config_to_mp_config\n\u001b[1;32m     84\u001b[0m \u001b[39mfrom\u001b[39;00m \u001b[39m.\u001b[39;00m\u001b[39mazure_synapse_tools\u001b[39;00m \u001b[39mimport\u001b[39;00m init_synapse, is_in_synapse\n",
      "File \u001b[0;32m~/.pyenv/versions/3.9.5/lib/python3.9/site-packages/msticpy/init/azure_ml_tools.py:26\u001b[0m, in \u001b[0;36m<module>\u001b[0;34m\u001b[0m\n\u001b[1;32m     24\u001b[0m \u001b[39mfrom\u001b[39;00m \u001b[39m.\u001b[39;00m\u001b[39m.\u001b[39;00m\u001b[39mcommon\u001b[39;00m\u001b[39m.\u001b[39;00m\u001b[39mpkg_config\u001b[39;00m \u001b[39mimport\u001b[39;00m _HOME_PATH, refresh_config\n\u001b[1;32m     25\u001b[0m \u001b[39mfrom\u001b[39;00m \u001b[39m.\u001b[39;00m\u001b[39m.\u001b[39;00m\u001b[39mcommon\u001b[39;00m\u001b[39m.\u001b[39;00m\u001b[39mutility\u001b[39;00m \u001b[39mimport\u001b[39;00m search_for_file\n\u001b[0;32m---> 26\u001b[0m \u001b[39mfrom\u001b[39;00m \u001b[39m.\u001b[39;00m\u001b[39m.\u001b[39;00m\u001b[39mconfig\u001b[39;00m \u001b[39mimport\u001b[39;00m MpConfigFile\n\u001b[1;32m     28\u001b[0m __version__ \u001b[39m=\u001b[39m VERSION\n\u001b[1;32m     30\u001b[0m logger \u001b[39m=\u001b[39m logging\u001b[39m.\u001b[39mgetLogger(\u001b[39m__name__\u001b[39m)\n",
      "File \u001b[0;32m~/.pyenv/versions/3.9.5/lib/python3.9/site-packages/msticpy/config/__init__.py:19\u001b[0m, in \u001b[0;36m<module>\u001b[0;34m\u001b[0m\n\u001b[1;32m     16\u001b[0m \u001b[39mfrom\u001b[39;00m \u001b[39m.\u001b[39;00m\u001b[39mmp_config_control\u001b[39;00m \u001b[39mimport\u001b[39;00m MpConfigControls\n\u001b[1;32m     18\u001b[0m \u001b[39m# flake8: noqa: F403\u001b[39;00m\n\u001b[0;32m---> 19\u001b[0m \u001b[39mfrom\u001b[39;00m \u001b[39m.\u001b[39;00m\u001b[39mmp_config_edit\u001b[39;00m \u001b[39mimport\u001b[39;00m MpConfigEdit\n\u001b[1;32m     20\u001b[0m \u001b[39mfrom\u001b[39;00m \u001b[39m.\u001b[39;00m\u001b[39mmp_config_file\u001b[39;00m \u001b[39mimport\u001b[39;00m MpConfigFile\n",
      "File \u001b[0;32m~/.pyenv/versions/3.9.5/lib/python3.9/site-packages/msticpy/config/mp_config_edit.py:14\u001b[0m, in \u001b[0;36m<module>\u001b[0;34m\u001b[0m\n\u001b[1;32m     12\u001b[0m \u001b[39mfrom\u001b[39;00m \u001b[39m.\u001b[39;00m\u001b[39m.\u001b[39;00m\u001b[39m_version\u001b[39;00m \u001b[39mimport\u001b[39;00m VERSION\n\u001b[1;32m     13\u001b[0m \u001b[39mfrom\u001b[39;00m \u001b[39m.\u001b[39;00m\u001b[39mce_azure\u001b[39;00m \u001b[39mimport\u001b[39;00m CEAzure\n\u001b[0;32m---> 14\u001b[0m \u001b[39mfrom\u001b[39;00m \u001b[39m.\u001b[39;00m\u001b[39mce_azure_sentinel\u001b[39;00m \u001b[39mimport\u001b[39;00m CEAzureSentinel\n\u001b[1;32m     15\u001b[0m \u001b[39mfrom\u001b[39;00m \u001b[39m.\u001b[39;00m\u001b[39mce_data_providers\u001b[39;00m \u001b[39mimport\u001b[39;00m CEDataProviders\n\u001b[1;32m     16\u001b[0m \u001b[39mfrom\u001b[39;00m \u001b[39m.\u001b[39;00m\u001b[39mce_keyvault\u001b[39;00m \u001b[39mimport\u001b[39;00m CEKeyVault\n",
      "File \u001b[0;32m~/.pyenv/versions/3.9.5/lib/python3.9/site-packages/msticpy/config/ce_azure_sentinel.py:12\u001b[0m, in \u001b[0;36m<module>\u001b[0;34m\u001b[0m\n\u001b[1;32m      9\u001b[0m \u001b[39mimport\u001b[39;00m \u001b[39mipywidgets\u001b[39;00m \u001b[39mas\u001b[39;00m \u001b[39mwidgets\u001b[39;00m\n\u001b[1;32m     11\u001b[0m \u001b[39mfrom\u001b[39;00m \u001b[39m.\u001b[39;00m\u001b[39m.\u001b[39;00m\u001b[39m_version\u001b[39;00m \u001b[39mimport\u001b[39;00m VERSION\n\u001b[0;32m---> 12\u001b[0m \u001b[39mfrom\u001b[39;00m \u001b[39m.\u001b[39;00m\u001b[39m.\u001b[39;00m\u001b[39mcontext\u001b[39;00m\u001b[39m.\u001b[39;00m\u001b[39mazure\u001b[39;00m\u001b[39m.\u001b[39;00m\u001b[39msentinel_core\u001b[39;00m \u001b[39mimport\u001b[39;00m MicrosoftSentinel\n\u001b[1;32m     13\u001b[0m \u001b[39mfrom\u001b[39;00m \u001b[39m.\u001b[39;00m\u001b[39mce_common\u001b[39;00m \u001b[39mimport\u001b[39;00m (\n\u001b[1;32m     14\u001b[0m     ITEM_LIST_LAYOUT,\n\u001b[1;32m     15\u001b[0m     get_or_create_mpc_section,\n\u001b[1;32m     16\u001b[0m     get_wgt_ctrl,\n\u001b[1;32m     17\u001b[0m     print_debug,\n\u001b[1;32m     18\u001b[0m )\n\u001b[1;32m     19\u001b[0m \u001b[39mfrom\u001b[39;00m \u001b[39m.\u001b[39;00m\u001b[39mcomp_edit\u001b[39;00m \u001b[39mimport\u001b[39;00m CEItemsBase, CompEditDisplayMixin\n",
      "File \u001b[0;32m~/.pyenv/versions/3.9.5/lib/python3.9/site-packages/msticpy/context/azure/__init__.py:9\u001b[0m, in \u001b[0;36m<module>\u001b[0;34m\u001b[0m\n\u001b[1;32m      6\u001b[0m \u001b[39m\"\"\"Data provider sub-package.\"\"\"\u001b[39;00m\n\u001b[1;32m      8\u001b[0m \u001b[39m# flake8: noqa: F401\u001b[39;00m\n\u001b[0;32m----> 9\u001b[0m \u001b[39mfrom\u001b[39;00m \u001b[39m.\u001b[39;00m\u001b[39mazure_data\u001b[39;00m \u001b[39mimport\u001b[39;00m AzureData\n\u001b[1;32m     10\u001b[0m \u001b[39mfrom\u001b[39;00m \u001b[39m.\u001b[39;00m\u001b[39msentinel_core\u001b[39;00m \u001b[39mimport\u001b[39;00m MicrosoftSentinel\n",
      "File \u001b[0;32m~/.pyenv/versions/3.9.5/lib/python3.9/site-packages/msticpy/context/azure/azure_data.py:15\u001b[0m, in \u001b[0;36m<module>\u001b[0;34m\u001b[0m\n\u001b[1;32m     13\u001b[0m \u001b[39mfrom\u001b[39;00m \u001b[39mazure\u001b[39;00m\u001b[39m.\u001b[39;00m\u001b[39mcommon\u001b[39;00m\u001b[39m.\u001b[39;00m\u001b[39mexceptions\u001b[39;00m \u001b[39mimport\u001b[39;00m CloudError\n\u001b[1;32m     14\u001b[0m \u001b[39mfrom\u001b[39;00m \u001b[39mazure\u001b[39;00m\u001b[39m.\u001b[39;00m\u001b[39mcore\u001b[39;00m\u001b[39m.\u001b[39;00m\u001b[39mexceptions\u001b[39;00m \u001b[39mimport\u001b[39;00m ClientAuthenticationError\n\u001b[0;32m---> 15\u001b[0m \u001b[39mfrom\u001b[39;00m \u001b[39mazure\u001b[39;00m\u001b[39m.\u001b[39;00m\u001b[39mmgmt\u001b[39;00m\u001b[39m.\u001b[39;00m\u001b[39mresource\u001b[39;00m\u001b[39m.\u001b[39;00m\u001b[39msubscriptions\u001b[39;00m \u001b[39mimport\u001b[39;00m SubscriptionClient\n\u001b[1;32m     17\u001b[0m \u001b[39mfrom\u001b[39;00m \u001b[39m.\u001b[39;00m\u001b[39m.\u001b[39;00m\u001b[39m.\u001b[39;00m\u001b[39m_version\u001b[39;00m \u001b[39mimport\u001b[39;00m VERSION\n\u001b[1;32m     18\u001b[0m \u001b[39mfrom\u001b[39;00m \u001b[39m.\u001b[39;00m\u001b[39m.\u001b[39;00m\u001b[39m.\u001b[39;00m\u001b[39mauth\u001b[39;00m\u001b[39m.\u001b[39;00m\u001b[39mazure_auth\u001b[39;00m \u001b[39mimport\u001b[39;00m (\n\u001b[1;32m     19\u001b[0m     AzCredentials,\n\u001b[1;32m     20\u001b[0m     AzureCloudConfig,\n\u001b[0;32m   (...)\u001b[0m\n\u001b[1;32m     23\u001b[0m     only_interactive_cred,\n\u001b[1;32m     24\u001b[0m )\n",
      "\u001b[0;31mModuleNotFoundError\u001b[0m: No module named 'azure.mgmt.resource'"
     ]
    }
   ],
   "source": [
    "mp.init_notebook()"
   ]
  },
  {
   "cell_type": "code",
   "execution_count": 6,
   "id": "0164ea7a-7030-4fc1-ab31-6db29d599cb4",
   "metadata": {},
   "outputs": [
    {
     "name": "stdout",
     "output_type": "stream",
     "text": [
      "Collecting azure-mgmt-resource\n",
      "  Using cached azure_mgmt_resource-23.0.0-py3-none-any.whl (2.5 MB)\n",
      "Requirement already satisfied: azure-mgmt-core<2.0.0,>=1.3.2 in /Users/hacket/.pyenv/versions/3.9.5/lib/python3.9/site-packages (from azure-mgmt-resource) (1.4.0)\n",
      "Requirement already satisfied: isodate<1.0.0,>=0.6.1 in /Users/hacket/.pyenv/versions/3.9.5/lib/python3.9/site-packages (from azure-mgmt-resource) (0.6.1)\n",
      "Requirement already satisfied: azure-common~=1.1 in /Users/hacket/.pyenv/versions/3.9.5/lib/python3.9/site-packages (from azure-mgmt-resource) (1.1.28)\n",
      "Requirement already satisfied: azure-core<2.0.0,>=1.26.2 in /Users/hacket/.pyenv/versions/3.9.5/lib/python3.9/site-packages (from azure-mgmt-core<2.0.0,>=1.3.2->azure-mgmt-resource) (1.26.4)\n",
      "Requirement already satisfied: six>=1.11.0 in /Users/hacket/.pyenv/versions/3.9.5/lib/python3.9/site-packages (from azure-core<2.0.0,>=1.26.2->azure-mgmt-core<2.0.0,>=1.3.2->azure-mgmt-resource) (1.16.0)\n",
      "Requirement already satisfied: requests>=2.18.4 in /Users/hacket/.pyenv/versions/3.9.5/lib/python3.9/site-packages (from azure-core<2.0.0,>=1.26.2->azure-mgmt-core<2.0.0,>=1.3.2->azure-mgmt-resource) (2.28.2)\n",
      "Requirement already satisfied: typing-extensions>=4.3.0 in /Users/hacket/.pyenv/versions/3.9.5/lib/python3.9/site-packages (from azure-core<2.0.0,>=1.26.2->azure-mgmt-core<2.0.0,>=1.3.2->azure-mgmt-resource) (4.5.0)\n",
      "Requirement already satisfied: urllib3<1.27,>=1.21.1 in /Users/hacket/.pyenv/versions/3.9.5/lib/python3.9/site-packages (from requests>=2.18.4->azure-core<2.0.0,>=1.26.2->azure-mgmt-core<2.0.0,>=1.3.2->azure-mgmt-resource) (1.26.15)\n",
      "Requirement already satisfied: idna<4,>=2.5 in /Users/hacket/.pyenv/versions/3.9.5/lib/python3.9/site-packages (from requests>=2.18.4->azure-core<2.0.0,>=1.26.2->azure-mgmt-core<2.0.0,>=1.3.2->azure-mgmt-resource) (3.4)\n",
      "Requirement already satisfied: charset-normalizer<4,>=2 in /Users/hacket/.pyenv/versions/3.9.5/lib/python3.9/site-packages (from requests>=2.18.4->azure-core<2.0.0,>=1.26.2->azure-mgmt-core<2.0.0,>=1.3.2->azure-mgmt-resource) (3.1.0)\n",
      "Requirement already satisfied: certifi>=2017.4.17 in /Users/hacket/.pyenv/versions/3.9.5/lib/python3.9/site-packages (from requests>=2.18.4->azure-core<2.0.0,>=1.26.2->azure-mgmt-core<2.0.0,>=1.3.2->azure-mgmt-resource) (2022.12.7)\n",
      "Installing collected packages: azure-mgmt-resource\n",
      "Successfully installed azure-mgmt-resource-23.0.0\n",
      "\u001b[33mWARNING: You are using pip version 21.1.1; however, version 23.0.1 is available.\n",
      "You should consider upgrading via the '/Users/hacket/.pyenv/versions/3.9.5/bin/python3.9 -m pip install --upgrade pip' command.\u001b[0m\n",
      "Requirement already satisfied: azure-identity in /Users/hacket/.pyenv/versions/3.9.5/lib/python3.9/site-packages (1.12.0)\n",
      "Requirement already satisfied: cryptography>=2.5 in /Users/hacket/.pyenv/versions/3.9.5/lib/python3.9/site-packages (from azure-identity) (40.0.2)\n",
      "Requirement already satisfied: msal-extensions<2.0.0,>=0.3.0 in /Users/hacket/.pyenv/versions/3.9.5/lib/python3.9/site-packages (from azure-identity) (1.0.0)\n",
      "Requirement already satisfied: six>=1.12.0 in /Users/hacket/.pyenv/versions/3.9.5/lib/python3.9/site-packages (from azure-identity) (1.16.0)\n",
      "Requirement already satisfied: azure-core<2.0.0,>=1.11.0 in /Users/hacket/.pyenv/versions/3.9.5/lib/python3.9/site-packages (from azure-identity) (1.26.4)\n",
      "Requirement already satisfied: msal<2.0.0,>=1.12.0 in /Users/hacket/.pyenv/versions/3.9.5/lib/python3.9/site-packages (from azure-identity) (1.22.0)\n",
      "Requirement already satisfied: requests>=2.18.4 in /Users/hacket/.pyenv/versions/3.9.5/lib/python3.9/site-packages (from azure-core<2.0.0,>=1.11.0->azure-identity) (2.28.2)\n",
      "Requirement already satisfied: typing-extensions>=4.3.0 in /Users/hacket/.pyenv/versions/3.9.5/lib/python3.9/site-packages (from azure-core<2.0.0,>=1.11.0->azure-identity) (4.5.0)\n",
      "Requirement already satisfied: cffi>=1.12 in /Users/hacket/.pyenv/versions/3.9.5/lib/python3.9/site-packages (from cryptography>=2.5->azure-identity) (1.15.1)\n",
      "Requirement already satisfied: pycparser in /Users/hacket/.pyenv/versions/3.9.5/lib/python3.9/site-packages (from cffi>=1.12->cryptography>=2.5->azure-identity) (2.21)\n",
      "Requirement already satisfied: PyJWT[crypto]<3,>=1.0.0 in /Users/hacket/.pyenv/versions/3.9.5/lib/python3.9/site-packages (from msal<2.0.0,>=1.12.0->azure-identity) (2.6.0)\n",
      "Requirement already satisfied: portalocker<3,>=1.0 in /Users/hacket/.pyenv/versions/3.9.5/lib/python3.9/site-packages (from msal-extensions<2.0.0,>=0.3.0->azure-identity) (2.7.0)\n",
      "Requirement already satisfied: charset-normalizer<4,>=2 in /Users/hacket/.pyenv/versions/3.9.5/lib/python3.9/site-packages (from requests>=2.18.4->azure-core<2.0.0,>=1.11.0->azure-identity) (3.1.0)\n",
      "Requirement already satisfied: certifi>=2017.4.17 in /Users/hacket/.pyenv/versions/3.9.5/lib/python3.9/site-packages (from requests>=2.18.4->azure-core<2.0.0,>=1.11.0->azure-identity) (2022.12.7)\n",
      "Requirement already satisfied: idna<4,>=2.5 in /Users/hacket/.pyenv/versions/3.9.5/lib/python3.9/site-packages (from requests>=2.18.4->azure-core<2.0.0,>=1.11.0->azure-identity) (3.4)\n",
      "Requirement already satisfied: urllib3<1.27,>=1.21.1 in /Users/hacket/.pyenv/versions/3.9.5/lib/python3.9/site-packages (from requests>=2.18.4->azure-core<2.0.0,>=1.11.0->azure-identity) (1.26.15)\n",
      "\u001b[33mWARNING: You are using pip version 21.1.1; however, version 23.0.1 is available.\n",
      "You should consider upgrading via the '/Users/hacket/.pyenv/versions/3.9.5/bin/python3.9 -m pip install --upgrade pip' command.\u001b[0m\n",
      "Requirement already satisfied: msticpy[azure] in /Users/hacket/.pyenv/versions/3.9.5/lib/python3.9/site-packages (2.4.0)\n",
      "Requirement already satisfied: pyyaml>=3.13 in /Users/hacket/.pyenv/versions/3.9.5/lib/python3.9/site-packages (from msticpy[azure]) (6.0)\n",
      "Requirement already satisfied: attrs>=18.2.0 in /Users/hacket/.pyenv/versions/3.9.5/lib/python3.9/site-packages (from msticpy[azure]) (23.1.0)\n",
      "Requirement already satisfied: bokeh<=2.4.3,>=1.4.0 in /Users/hacket/.pyenv/versions/3.9.5/lib/python3.9/site-packages (from msticpy[azure]) (2.4.3)\n",
      "Requirement already satisfied: urllib3>=1.23 in /Users/hacket/.pyenv/versions/3.9.5/lib/python3.9/site-packages (from msticpy[azure]) (1.26.15)\n",
      "Requirement already satisfied: pygments>=2.0.0 in /Users/hacket/.pyenv/versions/3.9.5/lib/python3.9/site-packages (from msticpy[azure]) (2.12.0)\n",
      "Requirement already satisfied: msal-extensions>=0.3.0 in /Users/hacket/.pyenv/versions/3.9.5/lib/python3.9/site-packages (from msticpy[azure]) (1.0.0)\n",
      "Requirement already satisfied: python-dateutil>=2.8.1 in /Users/hacket/.pyenv/versions/3.9.5/lib/python3.9/site-packages (from msticpy[azure]) (2.8.2)\n",
      "Requirement already satisfied: msrest>=0.6.0 in /Users/hacket/.pyenv/versions/3.9.5/lib/python3.9/site-packages (from msticpy[azure]) (0.7.1)\n",
      "Requirement already satisfied: azure-mgmt-subscription>=3.0.0 in /Users/hacket/.pyenv/versions/3.9.5/lib/python3.9/site-packages (from msticpy[azure]) (3.1.1)\n",
      "Requirement already satisfied: httpx==0.23.3 in /Users/hacket/.pyenv/versions/3.9.5/lib/python3.9/site-packages (from msticpy[azure]) (0.23.3)\n",
      "Requirement already satisfied: nest-asyncio>=1.4.0 in /Users/hacket/.pyenv/versions/3.9.5/lib/python3.9/site-packages (from msticpy[azure]) (1.5.5)\n",
      "Requirement already satisfied: pytz>=2019.2 in /Users/hacket/.pyenv/versions/3.9.5/lib/python3.9/site-packages (from msticpy[azure]) (2023.3)\n",
      "Requirement already satisfied: dnspython<3.0.0,>=2.0.0 in /Users/hacket/.pyenv/versions/3.9.5/lib/python3.9/site-packages (from msticpy[azure]) (2.3.0)\n",
      "Requirement already satisfied: setuptools>=40.6.3 in /Users/hacket/.pyenv/versions/3.9.5/lib/python3.9/site-packages (from msticpy[azure]) (56.0.0)\n",
      "Requirement already satisfied: geoip2>=2.9.0 in /Users/hacket/.pyenv/versions/3.9.5/lib/python3.9/site-packages (from msticpy[azure]) (4.6.0)\n",
      "Requirement already satisfied: msal>=1.12.0 in /Users/hacket/.pyenv/versions/3.9.5/lib/python3.9/site-packages (from msticpy[azure]) (1.22.0)\n",
      "Requirement already satisfied: matplotlib>=3.0.0 in /Users/hacket/.pyenv/versions/3.9.5/lib/python3.9/site-packages (from msticpy[azure]) (3.7.1)\n",
      "Requirement already satisfied: pyjwt>=2.3.0 in /Users/hacket/.pyenv/versions/3.9.5/lib/python3.9/site-packages (from msticpy[azure]) (2.6.0)\n",
      "Requirement already satisfied: typing-extensions>=4.2.0 in /Users/hacket/.pyenv/versions/3.9.5/lib/python3.9/site-packages (from msticpy[azure]) (4.5.0)\n",
      "Requirement already satisfied: ipywidgets<8.0.0,>=7.4.2 in /Users/hacket/.pyenv/versions/3.9.5/lib/python3.9/site-packages (from msticpy[azure]) (7.7.5)\n",
      "Requirement already satisfied: azure-common>=1.1.18 in /Users/hacket/.pyenv/versions/3.9.5/lib/python3.9/site-packages (from msticpy[azure]) (1.1.28)\n",
      "Requirement already satisfied: tldextract>=2.2.2 in /Users/hacket/.pyenv/versions/3.9.5/lib/python3.9/site-packages (from msticpy[azure]) (3.4.0)\n",
      "Requirement already satisfied: folium>=0.9.0 in /Users/hacket/.pyenv/versions/3.9.5/lib/python3.9/site-packages (from msticpy[azure]) (0.14.0)\n",
      "Requirement already satisfied: beautifulsoup4>=4.0.0 in /Users/hacket/.pyenv/versions/3.9.5/lib/python3.9/site-packages (from msticpy[azure]) (4.12.2)\n",
      "Requirement already satisfied: cryptography>=3.1 in /Users/hacket/.pyenv/versions/3.9.5/lib/python3.9/site-packages (from msticpy[azure]) (40.0.2)\n",
      "Requirement already satisfied: deprecated>=1.2.4 in /Users/hacket/.pyenv/versions/3.9.5/lib/python3.9/site-packages (from msticpy[azure]) (1.2.13)\n",
      "Requirement already satisfied: azure-core>=1.24.0 in /Users/hacket/.pyenv/versions/3.9.5/lib/python3.9/site-packages (from msticpy[azure]) (1.26.4)\n",
      "Requirement already satisfied: azure-identity>=1.10.0 in /Users/hacket/.pyenv/versions/3.9.5/lib/python3.9/site-packages (from msticpy[azure]) (1.12.0)\n",
      "Requirement already satisfied: pandas<2.0.0,>=1.4.0 in /Users/hacket/.pyenv/versions/3.9.5/lib/python3.9/site-packages (from msticpy[azure]) (1.5.3)\n",
      "Requirement already satisfied: lxml>=4.6.5 in /Users/hacket/.pyenv/versions/3.9.5/lib/python3.9/site-packages (from msticpy[azure]) (4.9.1)\n",
      "Requirement already satisfied: ipython>=7.23.1 in /Users/hacket/.pyenv/versions/3.9.5/lib/python3.9/site-packages (from msticpy[azure]) (8.4.0)\n",
      "Requirement already satisfied: networkx>=2.2 in /Users/hacket/.pyenv/versions/3.9.5/lib/python3.9/site-packages (from msticpy[azure]) (3.1)\n",
      "Requirement already satisfied: msrestazure>=0.6.0 in /Users/hacket/.pyenv/versions/3.9.5/lib/python3.9/site-packages (from msticpy[azure]) (0.6.4)\n",
      "Requirement already satisfied: numpy>=1.15.4 in /Users/hacket/.pyenv/versions/3.9.5/lib/python3.9/site-packages (from msticpy[azure]) (1.24.2)\n",
      "Requirement already satisfied: tqdm>=4.36.1 in /Users/hacket/.pyenv/versions/3.9.5/lib/python3.9/site-packages (from msticpy[azure]) (4.65.0)\n",
      "Requirement already satisfied: KqlmagicCustom[auth_code_clipboard,jupyter-basic]>=0.1.114.post22 in /Users/hacket/.pyenv/versions/3.9.5/lib/python3.9/site-packages (from msticpy[azure]) (0.1.114.post22)\n",
      "Requirement already satisfied: html5lib in /Users/hacket/.pyenv/versions/3.9.5/lib/python3.9/site-packages (from msticpy[azure]) (1.1)\n",
      "Collecting keyring>=13.2.1\n",
      "  Using cached keyring-23.13.1-py3-none-any.whl (37 kB)\n",
      "Collecting azure-mgmt-monitor>=2.0.0\n",
      "  Using cached azure_mgmt_monitor-6.0.0-py3-none-any.whl (1.3 MB)\n",
      "Collecting azure-mgmt-network>=2.7.0\n",
      "  Using cached azure_mgmt_network-23.0.0-py3-none-any.whl (642 kB)\n",
      "Requirement already satisfied: azure-mgmt-core>=1.2.1 in /Users/hacket/.pyenv/versions/3.9.5/lib/python3.9/site-packages (from msticpy[azure]) (1.4.0)\n",
      "Collecting azure-keyvault-secrets>=4.0.0\n",
      "  Using cached azure_keyvault_secrets-4.7.0-py3-none-any.whl (348 kB)\n",
      "Collecting azure-mgmt-compute>=4.6.2\n",
      "  Using cached azure_mgmt_compute-29.1.0-py3-none-any.whl (7.2 MB)\n",
      "Collecting azure-mgmt-resourcegraph>=8.0.0\n",
      "  Using cached azure_mgmt_resourcegraph-8.0.0-py2.py3-none-any.whl (27 kB)\n",
      "Collecting azure-mgmt-keyvault>=2.0.0\n",
      "  Using cached azure_mgmt_keyvault-10.2.1-py3-none-any.whl (779 kB)\n",
      "Collecting azure-storage-blob>=12.5.0\n",
      "  Using cached azure_storage_blob-12.16.0-py3-none-any.whl (387 kB)\n",
      "Requirement already satisfied: azure-mgmt-resource>=16.1.0 in /Users/hacket/.pyenv/versions/3.9.5/lib/python3.9/site-packages (from msticpy[azure]) (23.0.0)\n",
      "Requirement already satisfied: rfc3986[idna2008]<2,>=1.3 in /Users/hacket/.pyenv/versions/3.9.5/lib/python3.9/site-packages (from httpx==0.23.3->msticpy[azure]) (1.5.0)\n",
      "Requirement already satisfied: sniffio in /Users/hacket/.pyenv/versions/3.9.5/lib/python3.9/site-packages (from httpx==0.23.3->msticpy[azure]) (1.3.0)\n",
      "Requirement already satisfied: certifi in /Users/hacket/.pyenv/versions/3.9.5/lib/python3.9/site-packages (from httpx==0.23.3->msticpy[azure]) (2022.12.7)\n",
      "Requirement already satisfied: httpcore<0.17.0,>=0.15.0 in /Users/hacket/.pyenv/versions/3.9.5/lib/python3.9/site-packages (from httpx==0.23.3->msticpy[azure]) (0.16.3)\n",
      "Requirement already satisfied: six>=1.11.0 in /Users/hacket/.pyenv/versions/3.9.5/lib/python3.9/site-packages (from azure-core>=1.24.0->msticpy[azure]) (1.16.0)\n",
      "Requirement already satisfied: requests>=2.18.4 in /Users/hacket/.pyenv/versions/3.9.5/lib/python3.9/site-packages (from azure-core>=1.24.0->msticpy[azure]) (2.28.2)\n",
      "Requirement already satisfied: isodate>=0.6.1 in /Users/hacket/.pyenv/versions/3.9.5/lib/python3.9/site-packages (from azure-keyvault-secrets>=4.0.0->msticpy[azure]) (0.6.1)\n",
      "Requirement already satisfied: soupsieve>1.2 in /Users/hacket/.pyenv/versions/3.9.5/lib/python3.9/site-packages (from beautifulsoup4>=4.0.0->msticpy[azure]) (2.4.1)\n",
      "Requirement already satisfied: pillow>=7.1.0 in /Users/hacket/.pyenv/versions/3.9.5/lib/python3.9/site-packages (from bokeh<=2.4.3,>=1.4.0->msticpy[azure]) (9.5.0)\n",
      "Requirement already satisfied: tornado>=5.1 in /Users/hacket/.pyenv/versions/3.9.5/lib/python3.9/site-packages (from bokeh<=2.4.3,>=1.4.0->msticpy[azure]) (6.2)\n",
      "Requirement already satisfied: packaging>=16.8 in /Users/hacket/.pyenv/versions/3.9.5/lib/python3.9/site-packages (from bokeh<=2.4.3,>=1.4.0->msticpy[azure]) (21.3)\n",
      "Requirement already satisfied: Jinja2>=2.9 in /Users/hacket/.pyenv/versions/3.9.5/lib/python3.9/site-packages (from bokeh<=2.4.3,>=1.4.0->msticpy[azure]) (3.1.2)\n",
      "Requirement already satisfied: cffi>=1.12 in /Users/hacket/.pyenv/versions/3.9.5/lib/python3.9/site-packages (from cryptography>=3.1->msticpy[azure]) (1.15.1)\n",
      "Requirement already satisfied: pycparser in /Users/hacket/.pyenv/versions/3.9.5/lib/python3.9/site-packages (from cffi>=1.12->cryptography>=3.1->msticpy[azure]) (2.21)\n",
      "Requirement already satisfied: wrapt<2,>=1.10 in /Users/hacket/.pyenv/versions/3.9.5/lib/python3.9/site-packages (from deprecated>=1.2.4->msticpy[azure]) (1.15.0)\n",
      "Requirement already satisfied: branca>=0.6.0 in /Users/hacket/.pyenv/versions/3.9.5/lib/python3.9/site-packages (from folium>=0.9.0->msticpy[azure]) (0.6.0)\n",
      "Requirement already satisfied: aiohttp<4.0.0,>=3.6.2 in /Users/hacket/.pyenv/versions/3.9.5/lib/python3.9/site-packages (from geoip2>=2.9.0->msticpy[azure]) (3.8.4)\n",
      "Requirement already satisfied: maxminddb<3.0.0,>=2.2.0 in /Users/hacket/.pyenv/versions/3.9.5/lib/python3.9/site-packages (from geoip2>=2.9.0->msticpy[azure]) (2.2.0)\n",
      "Requirement already satisfied: async-timeout<5.0,>=4.0.0a3 in /Users/hacket/.pyenv/versions/3.9.5/lib/python3.9/site-packages (from aiohttp<4.0.0,>=3.6.2->geoip2>=2.9.0->msticpy[azure]) (4.0.2)\n",
      "Requirement already satisfied: frozenlist>=1.1.1 in /Users/hacket/.pyenv/versions/3.9.5/lib/python3.9/site-packages (from aiohttp<4.0.0,>=3.6.2->geoip2>=2.9.0->msticpy[azure]) (1.3.3)\n",
      "Requirement already satisfied: multidict<7.0,>=4.5 in /Users/hacket/.pyenv/versions/3.9.5/lib/python3.9/site-packages (from aiohttp<4.0.0,>=3.6.2->geoip2>=2.9.0->msticpy[azure]) (6.0.4)\n",
      "Requirement already satisfied: yarl<2.0,>=1.0 in /Users/hacket/.pyenv/versions/3.9.5/lib/python3.9/site-packages (from aiohttp<4.0.0,>=3.6.2->geoip2>=2.9.0->msticpy[azure]) (1.8.2)\n",
      "Requirement already satisfied: charset-normalizer<4.0,>=2.0 in /Users/hacket/.pyenv/versions/3.9.5/lib/python3.9/site-packages (from aiohttp<4.0.0,>=3.6.2->geoip2>=2.9.0->msticpy[azure]) (3.1.0)\n",
      "Requirement already satisfied: aiosignal>=1.1.2 in /Users/hacket/.pyenv/versions/3.9.5/lib/python3.9/site-packages (from aiohttp<4.0.0,>=3.6.2->geoip2>=2.9.0->msticpy[azure]) (1.3.1)\n",
      "Requirement already satisfied: anyio<5.0,>=3.0 in /Users/hacket/.pyenv/versions/3.9.5/lib/python3.9/site-packages (from httpcore<0.17.0,>=0.15.0->httpx==0.23.3->msticpy[azure]) (3.6.2)\n",
      "Requirement already satisfied: h11<0.15,>=0.13 in /Users/hacket/.pyenv/versions/3.9.5/lib/python3.9/site-packages (from httpcore<0.17.0,>=0.15.0->httpx==0.23.3->msticpy[azure]) (0.14.0)\n",
      "Requirement already satisfied: idna>=2.8 in /Users/hacket/.pyenv/versions/3.9.5/lib/python3.9/site-packages (from anyio<5.0,>=3.0->httpcore<0.17.0,>=0.15.0->httpx==0.23.3->msticpy[azure]) (3.4)\n",
      "Requirement already satisfied: backcall in /Users/hacket/.pyenv/versions/3.9.5/lib/python3.9/site-packages (from ipython>=7.23.1->msticpy[azure]) (0.2.0)\n",
      "Requirement already satisfied: appnope in /Users/hacket/.pyenv/versions/3.9.5/lib/python3.9/site-packages (from ipython>=7.23.1->msticpy[azure]) (0.1.3)\n",
      "Requirement already satisfied: prompt-toolkit!=3.0.0,!=3.0.1,<3.1.0,>=2.0.0 in /Users/hacket/.pyenv/versions/3.9.5/lib/python3.9/site-packages (from ipython>=7.23.1->msticpy[azure]) (3.0.30)\n",
      "Requirement already satisfied: traitlets>=5 in /Users/hacket/.pyenv/versions/3.9.5/lib/python3.9/site-packages (from ipython>=7.23.1->msticpy[azure]) (5.9.0)\n",
      "Requirement already satisfied: stack-data in /Users/hacket/.pyenv/versions/3.9.5/lib/python3.9/site-packages (from ipython>=7.23.1->msticpy[azure]) (0.3.0)\n",
      "Requirement already satisfied: pexpect>4.3 in /Users/hacket/.pyenv/versions/3.9.5/lib/python3.9/site-packages (from ipython>=7.23.1->msticpy[azure]) (4.8.0)\n",
      "Requirement already satisfied: jedi>=0.16 in /Users/hacket/.pyenv/versions/3.9.5/lib/python3.9/site-packages (from ipython>=7.23.1->msticpy[azure]) (0.18.1)\n",
      "Requirement already satisfied: pickleshare in /Users/hacket/.pyenv/versions/3.9.5/lib/python3.9/site-packages (from ipython>=7.23.1->msticpy[azure]) (0.7.5)\n",
      "Requirement already satisfied: matplotlib-inline in /Users/hacket/.pyenv/versions/3.9.5/lib/python3.9/site-packages (from ipython>=7.23.1->msticpy[azure]) (0.1.3)\n",
      "Requirement already satisfied: decorator in /Users/hacket/.pyenv/versions/3.9.5/lib/python3.9/site-packages (from ipython>=7.23.1->msticpy[azure]) (5.1.1)\n",
      "Requirement already satisfied: jupyterlab-widgets<3,>=1.0.0 in /Users/hacket/.pyenv/versions/3.9.5/lib/python3.9/site-packages (from ipywidgets<8.0.0,>=7.4.2->msticpy[azure]) (1.1.4)\n",
      "Requirement already satisfied: ipython-genutils~=0.2.0 in /Users/hacket/.pyenv/versions/3.9.5/lib/python3.9/site-packages (from ipywidgets<8.0.0,>=7.4.2->msticpy[azure]) (0.2.0)\n",
      "Requirement already satisfied: widgetsnbextension~=3.6.4 in /Users/hacket/.pyenv/versions/3.9.5/lib/python3.9/site-packages (from ipywidgets<8.0.0,>=7.4.2->msticpy[azure]) (3.6.4)\n",
      "Requirement already satisfied: ipykernel>=4.5.1 in /Users/hacket/.pyenv/versions/3.9.5/lib/python3.9/site-packages (from ipywidgets<8.0.0,>=7.4.2->msticpy[azure]) (6.15.1)\n",
      "Requirement already satisfied: psutil in /Users/hacket/.pyenv/versions/3.9.5/lib/python3.9/site-packages (from ipykernel>=4.5.1->ipywidgets<8.0.0,>=7.4.2->msticpy[azure]) (5.9.1)\n",
      "Requirement already satisfied: jupyter-client>=6.1.12 in /Users/hacket/.pyenv/versions/3.9.5/lib/python3.9/site-packages (from ipykernel>=4.5.1->ipywidgets<8.0.0,>=7.4.2->msticpy[azure]) (8.2.0)\n",
      "Requirement already satisfied: debugpy>=1.0 in /Users/hacket/.pyenv/versions/3.9.5/lib/python3.9/site-packages (from ipykernel>=4.5.1->ipywidgets<8.0.0,>=7.4.2->msticpy[azure]) (1.6.2)\n",
      "Requirement already satisfied: pyzmq>=17 in /Users/hacket/.pyenv/versions/3.9.5/lib/python3.9/site-packages (from ipykernel>=4.5.1->ipywidgets<8.0.0,>=7.4.2->msticpy[azure]) (25.0.2)\n",
      "Requirement already satisfied: parso<0.9.0,>=0.8.0 in /Users/hacket/.pyenv/versions/3.9.5/lib/python3.9/site-packages (from jedi>=0.16->ipython>=7.23.1->msticpy[azure]) (0.8.3)\n",
      "Requirement already satisfied: MarkupSafe>=2.0 in /Users/hacket/.pyenv/versions/3.9.5/lib/python3.9/site-packages (from Jinja2>=2.9->bokeh<=2.4.3,>=1.4.0->msticpy[azure]) (2.1.2)\n",
      "Requirement already satisfied: jupyter-core!=5.0.*,>=4.12 in /Users/hacket/.pyenv/versions/3.9.5/lib/python3.9/site-packages (from jupyter-client>=6.1.12->ipykernel>=4.5.1->ipywidgets<8.0.0,>=7.4.2->msticpy[azure]) (5.3.0)\n",
      "Requirement already satisfied: importlib-metadata>=4.8.3 in /Users/hacket/.pyenv/versions/3.9.5/lib/python3.9/site-packages (from jupyter-client>=6.1.12->ipykernel>=4.5.1->ipywidgets<8.0.0,>=7.4.2->msticpy[azure]) (6.4.1)\n",
      "Requirement already satisfied: zipp>=0.5 in /Users/hacket/.pyenv/versions/3.9.5/lib/python3.9/site-packages (from importlib-metadata>=4.8.3->jupyter-client>=6.1.12->ipykernel>=4.5.1->ipywidgets<8.0.0,>=7.4.2->msticpy[azure]) (3.15.0)\n",
      "Requirement already satisfied: platformdirs>=2.5 in /Users/hacket/.pyenv/versions/3.9.5/lib/python3.9/site-packages (from jupyter-core!=5.0.*,>=4.12->jupyter-client>=6.1.12->ipykernel>=4.5.1->ipywidgets<8.0.0,>=7.4.2->msticpy[azure]) (3.2.0)\n",
      "Collecting jaraco.classes\n",
      "  Using cached jaraco.classes-3.2.3-py3-none-any.whl (6.0 kB)\n",
      "Requirement already satisfied: pyperclip>=1.7.0 in /Users/hacket/.pyenv/versions/3.9.5/lib/python3.9/site-packages (from KqlmagicCustom[auth_code_clipboard,jupyter-basic]>=0.1.114.post22->msticpy[azure]) (1.8.2)\n",
      "Requirement already satisfied: prettytable>=0.7.2 in /Users/hacket/.pyenv/versions/3.9.5/lib/python3.9/site-packages (from KqlmagicCustom[auth_code_clipboard,jupyter-basic]>=0.1.114.post22->msticpy[azure]) (3.7.0)\n",
      "Requirement already satisfied: kiwisolver>=1.0.1 in /Users/hacket/.pyenv/versions/3.9.5/lib/python3.9/site-packages (from matplotlib>=3.0.0->msticpy[azure]) (1.4.4)\n",
      "Requirement already satisfied: contourpy>=1.0.1 in /Users/hacket/.pyenv/versions/3.9.5/lib/python3.9/site-packages (from matplotlib>=3.0.0->msticpy[azure]) (1.0.7)\n",
      "Requirement already satisfied: importlib-resources>=3.2.0 in /Users/hacket/.pyenv/versions/3.9.5/lib/python3.9/site-packages (from matplotlib>=3.0.0->msticpy[azure]) (5.12.0)\n",
      "Requirement already satisfied: fonttools>=4.22.0 in /Users/hacket/.pyenv/versions/3.9.5/lib/python3.9/site-packages (from matplotlib>=3.0.0->msticpy[azure]) (4.39.3)\n",
      "Requirement already satisfied: pyparsing>=2.3.1 in /Users/hacket/.pyenv/versions/3.9.5/lib/python3.9/site-packages (from matplotlib>=3.0.0->msticpy[azure]) (3.0.9)\n",
      "Requirement already satisfied: cycler>=0.10 in /Users/hacket/.pyenv/versions/3.9.5/lib/python3.9/site-packages (from matplotlib>=3.0.0->msticpy[azure]) (0.11.0)\n",
      "Requirement already satisfied: portalocker<3,>=1.0 in /Users/hacket/.pyenv/versions/3.9.5/lib/python3.9/site-packages (from msal-extensions>=0.3.0->msticpy[azure]) (2.7.0)\n",
      "Requirement already satisfied: requests-oauthlib>=0.5.0 in /Users/hacket/.pyenv/versions/3.9.5/lib/python3.9/site-packages (from msrest>=0.6.0->msticpy[azure]) (1.3.1)\n",
      "Requirement already satisfied: adal<2.0.0,>=0.6.0 in /Users/hacket/.pyenv/versions/3.9.5/lib/python3.9/site-packages (from msrestazure>=0.6.0->msticpy[azure]) (1.2.7)\n",
      "Requirement already satisfied: ptyprocess>=0.5 in /Users/hacket/.pyenv/versions/3.9.5/lib/python3.9/site-packages (from pexpect>4.3->ipython>=7.23.1->msticpy[azure]) (0.7.0)\n",
      "Requirement already satisfied: wcwidth in /Users/hacket/.pyenv/versions/3.9.5/lib/python3.9/site-packages (from prettytable>=0.7.2->KqlmagicCustom[auth_code_clipboard,jupyter-basic]>=0.1.114.post22->msticpy[azure]) (0.2.5)\n",
      "Requirement already satisfied: oauthlib>=3.0.0 in /Users/hacket/.pyenv/versions/3.9.5/lib/python3.9/site-packages (from requests-oauthlib>=0.5.0->msrest>=0.6.0->msticpy[azure]) (3.2.2)\n",
      "Requirement already satisfied: requests-file>=1.4 in /Users/hacket/.pyenv/versions/3.9.5/lib/python3.9/site-packages (from tldextract>=2.2.2->msticpy[azure]) (1.5.1)\n",
      "Requirement already satisfied: filelock>=3.0.8 in /Users/hacket/.pyenv/versions/3.9.5/lib/python3.9/site-packages (from tldextract>=2.2.2->msticpy[azure]) (3.11.0)\n",
      "Requirement already satisfied: notebook>=4.4.1 in /Users/hacket/.pyenv/versions/3.9.5/lib/python3.9/site-packages (from widgetsnbextension~=3.6.4->ipywidgets<8.0.0,>=7.4.2->msticpy[azure]) (6.5.4)\n",
      "Requirement already satisfied: prometheus-client in /Users/hacket/.pyenv/versions/3.9.5/lib/python3.9/site-packages (from notebook>=4.4.1->widgetsnbextension~=3.6.4->ipywidgets<8.0.0,>=7.4.2->msticpy[azure]) (0.16.0)\n",
      "Requirement already satisfied: nbclassic>=0.4.7 in /Users/hacket/.pyenv/versions/3.9.5/lib/python3.9/site-packages (from notebook>=4.4.1->widgetsnbextension~=3.6.4->ipywidgets<8.0.0,>=7.4.2->msticpy[azure]) (0.5.5)\n",
      "Requirement already satisfied: nbconvert>=5 in /Users/hacket/.pyenv/versions/3.9.5/lib/python3.9/site-packages (from notebook>=4.4.1->widgetsnbextension~=3.6.4->ipywidgets<8.0.0,>=7.4.2->msticpy[azure]) (7.3.1)\n",
      "Requirement already satisfied: Send2Trash>=1.8.0 in /Users/hacket/.pyenv/versions/3.9.5/lib/python3.9/site-packages (from notebook>=4.4.1->widgetsnbextension~=3.6.4->ipywidgets<8.0.0,>=7.4.2->msticpy[azure]) (1.8.0)\n",
      "Requirement already satisfied: terminado>=0.8.3 in /Users/hacket/.pyenv/versions/3.9.5/lib/python3.9/site-packages (from notebook>=4.4.1->widgetsnbextension~=3.6.4->ipywidgets<8.0.0,>=7.4.2->msticpy[azure]) (0.17.1)\n",
      "Requirement already satisfied: nbformat in /Users/hacket/.pyenv/versions/3.9.5/lib/python3.9/site-packages (from notebook>=4.4.1->widgetsnbextension~=3.6.4->ipywidgets<8.0.0,>=7.4.2->msticpy[azure]) (5.8.0)\n",
      "Requirement already satisfied: argon2-cffi in /Users/hacket/.pyenv/versions/3.9.5/lib/python3.9/site-packages (from notebook>=4.4.1->widgetsnbextension~=3.6.4->ipywidgets<8.0.0,>=7.4.2->msticpy[azure]) (21.3.0)\n",
      "Requirement already satisfied: notebook-shim>=0.1.0 in /Users/hacket/.pyenv/versions/3.9.5/lib/python3.9/site-packages (from nbclassic>=0.4.7->notebook>=4.4.1->widgetsnbextension~=3.6.4->ipywidgets<8.0.0,>=7.4.2->msticpy[azure]) (0.2.2)\n",
      "Requirement already satisfied: jupyter-server>=1.8 in /Users/hacket/.pyenv/versions/3.9.5/lib/python3.9/site-packages (from nbclassic>=0.4.7->notebook>=4.4.1->widgetsnbextension~=3.6.4->ipywidgets<8.0.0,>=7.4.2->msticpy[azure]) (2.5.0)\n",
      "Requirement already satisfied: jupyter-events>=0.4.0 in /Users/hacket/.pyenv/versions/3.9.5/lib/python3.9/site-packages (from jupyter-server>=1.8->nbclassic>=0.4.7->notebook>=4.4.1->widgetsnbextension~=3.6.4->ipywidgets<8.0.0,>=7.4.2->msticpy[azure]) (0.6.3)\n",
      "Requirement already satisfied: websocket-client in /Users/hacket/.pyenv/versions/3.9.5/lib/python3.9/site-packages (from jupyter-server>=1.8->nbclassic>=0.4.7->notebook>=4.4.1->widgetsnbextension~=3.6.4->ipywidgets<8.0.0,>=7.4.2->msticpy[azure]) (1.5.1)\n",
      "Requirement already satisfied: jupyter-server-terminals in /Users/hacket/.pyenv/versions/3.9.5/lib/python3.9/site-packages (from jupyter-server>=1.8->nbclassic>=0.4.7->notebook>=4.4.1->widgetsnbextension~=3.6.4->ipywidgets<8.0.0,>=7.4.2->msticpy[azure]) (0.4.4)\n",
      "Requirement already satisfied: rfc3986-validator>=0.1.1 in /Users/hacket/.pyenv/versions/3.9.5/lib/python3.9/site-packages (from jupyter-events>=0.4.0->jupyter-server>=1.8->nbclassic>=0.4.7->notebook>=4.4.1->widgetsnbextension~=3.6.4->ipywidgets<8.0.0,>=7.4.2->msticpy[azure]) (0.1.1)\n",
      "Requirement already satisfied: rfc3339-validator in /Users/hacket/.pyenv/versions/3.9.5/lib/python3.9/site-packages (from jupyter-events>=0.4.0->jupyter-server>=1.8->nbclassic>=0.4.7->notebook>=4.4.1->widgetsnbextension~=3.6.4->ipywidgets<8.0.0,>=7.4.2->msticpy[azure]) (0.1.4)\n",
      "Requirement already satisfied: jsonschema[format-nongpl]>=3.2.0 in /Users/hacket/.pyenv/versions/3.9.5/lib/python3.9/site-packages (from jupyter-events>=0.4.0->jupyter-server>=1.8->nbclassic>=0.4.7->notebook>=4.4.1->widgetsnbextension~=3.6.4->ipywidgets<8.0.0,>=7.4.2->msticpy[azure]) (4.17.3)\n",
      "Requirement already satisfied: python-json-logger>=2.0.4 in /Users/hacket/.pyenv/versions/3.9.5/lib/python3.9/site-packages (from jupyter-events>=0.4.0->jupyter-server>=1.8->nbclassic>=0.4.7->notebook>=4.4.1->widgetsnbextension~=3.6.4->ipywidgets<8.0.0,>=7.4.2->msticpy[azure]) (2.0.7)\n",
      "Requirement already satisfied: pyrsistent!=0.17.0,!=0.17.1,!=0.17.2,>=0.14.0 in /Users/hacket/.pyenv/versions/3.9.5/lib/python3.9/site-packages (from jsonschema[format-nongpl]>=3.2.0->jupyter-events>=0.4.0->jupyter-server>=1.8->nbclassic>=0.4.7->notebook>=4.4.1->widgetsnbextension~=3.6.4->ipywidgets<8.0.0,>=7.4.2->msticpy[azure]) (0.19.3)\n",
      "Requirement already satisfied: webcolors>=1.11 in /Users/hacket/.pyenv/versions/3.9.5/lib/python3.9/site-packages (from jsonschema[format-nongpl]>=3.2.0->jupyter-events>=0.4.0->jupyter-server>=1.8->nbclassic>=0.4.7->notebook>=4.4.1->widgetsnbextension~=3.6.4->ipywidgets<8.0.0,>=7.4.2->msticpy[azure]) (1.13)\n",
      "Requirement already satisfied: uri-template in /Users/hacket/.pyenv/versions/3.9.5/lib/python3.9/site-packages (from jsonschema[format-nongpl]>=3.2.0->jupyter-events>=0.4.0->jupyter-server>=1.8->nbclassic>=0.4.7->notebook>=4.4.1->widgetsnbextension~=3.6.4->ipywidgets<8.0.0,>=7.4.2->msticpy[azure]) (1.2.0)\n",
      "Requirement already satisfied: jsonpointer>1.13 in /Users/hacket/.pyenv/versions/3.9.5/lib/python3.9/site-packages (from jsonschema[format-nongpl]>=3.2.0->jupyter-events>=0.4.0->jupyter-server>=1.8->nbclassic>=0.4.7->notebook>=4.4.1->widgetsnbextension~=3.6.4->ipywidgets<8.0.0,>=7.4.2->msticpy[azure]) (2.3)\n",
      "Requirement already satisfied: fqdn in /Users/hacket/.pyenv/versions/3.9.5/lib/python3.9/site-packages (from jsonschema[format-nongpl]>=3.2.0->jupyter-events>=0.4.0->jupyter-server>=1.8->nbclassic>=0.4.7->notebook>=4.4.1->widgetsnbextension~=3.6.4->ipywidgets<8.0.0,>=7.4.2->msticpy[azure]) (1.5.1)\n",
      "Requirement already satisfied: isoduration in /Users/hacket/.pyenv/versions/3.9.5/lib/python3.9/site-packages (from jsonschema[format-nongpl]>=3.2.0->jupyter-events>=0.4.0->jupyter-server>=1.8->nbclassic>=0.4.7->notebook>=4.4.1->widgetsnbextension~=3.6.4->ipywidgets<8.0.0,>=7.4.2->msticpy[azure]) (20.11.0)\n",
      "Requirement already satisfied: nbclient>=0.5.0 in /Users/hacket/.pyenv/versions/3.9.5/lib/python3.9/site-packages (from nbconvert>=5->notebook>=4.4.1->widgetsnbextension~=3.6.4->ipywidgets<8.0.0,>=7.4.2->msticpy[azure]) (0.7.3)\n",
      "Requirement already satisfied: mistune<3,>=2.0.3 in /Users/hacket/.pyenv/versions/3.9.5/lib/python3.9/site-packages (from nbconvert>=5->notebook>=4.4.1->widgetsnbextension~=3.6.4->ipywidgets<8.0.0,>=7.4.2->msticpy[azure]) (2.0.5)\n",
      "Requirement already satisfied: jupyterlab-pygments in /Users/hacket/.pyenv/versions/3.9.5/lib/python3.9/site-packages (from nbconvert>=5->notebook>=4.4.1->widgetsnbextension~=3.6.4->ipywidgets<8.0.0,>=7.4.2->msticpy[azure]) (0.2.2)\n",
      "Requirement already satisfied: pandocfilters>=1.4.1 in /Users/hacket/.pyenv/versions/3.9.5/lib/python3.9/site-packages (from nbconvert>=5->notebook>=4.4.1->widgetsnbextension~=3.6.4->ipywidgets<8.0.0,>=7.4.2->msticpy[azure]) (1.5.0)\n",
      "Requirement already satisfied: tinycss2 in /Users/hacket/.pyenv/versions/3.9.5/lib/python3.9/site-packages (from nbconvert>=5->notebook>=4.4.1->widgetsnbextension~=3.6.4->ipywidgets<8.0.0,>=7.4.2->msticpy[azure]) (1.2.1)\n",
      "Requirement already satisfied: defusedxml in /Users/hacket/.pyenv/versions/3.9.5/lib/python3.9/site-packages (from nbconvert>=5->notebook>=4.4.1->widgetsnbextension~=3.6.4->ipywidgets<8.0.0,>=7.4.2->msticpy[azure]) (0.7.1)\n",
      "Requirement already satisfied: bleach in /Users/hacket/.pyenv/versions/3.9.5/lib/python3.9/site-packages (from nbconvert>=5->notebook>=4.4.1->widgetsnbextension~=3.6.4->ipywidgets<8.0.0,>=7.4.2->msticpy[azure]) (6.0.0)\n",
      "Requirement already satisfied: fastjsonschema in /Users/hacket/.pyenv/versions/3.9.5/lib/python3.9/site-packages (from nbformat->notebook>=4.4.1->widgetsnbextension~=3.6.4->ipywidgets<8.0.0,>=7.4.2->msticpy[azure]) (2.16.3)\n",
      "Requirement already satisfied: argon2-cffi-bindings in /Users/hacket/.pyenv/versions/3.9.5/lib/python3.9/site-packages (from argon2-cffi->notebook>=4.4.1->widgetsnbextension~=3.6.4->ipywidgets<8.0.0,>=7.4.2->msticpy[azure]) (21.2.0)\n",
      "Requirement already satisfied: webencodings in /Users/hacket/.pyenv/versions/3.9.5/lib/python3.9/site-packages (from bleach->nbconvert>=5->notebook>=4.4.1->widgetsnbextension~=3.6.4->ipywidgets<8.0.0,>=7.4.2->msticpy[azure]) (0.5.1)\n",
      "Requirement already satisfied: arrow>=0.15.0 in /Users/hacket/.pyenv/versions/3.9.5/lib/python3.9/site-packages (from isoduration->jsonschema[format-nongpl]>=3.2.0->jupyter-events>=0.4.0->jupyter-server>=1.8->nbclassic>=0.4.7->notebook>=4.4.1->widgetsnbextension~=3.6.4->ipywidgets<8.0.0,>=7.4.2->msticpy[azure]) (1.2.3)\n",
      "Collecting more-itertools\n",
      "  Using cached more_itertools-9.1.0-py3-none-any.whl (54 kB)\n",
      "Requirement already satisfied: executing in /Users/hacket/.pyenv/versions/3.9.5/lib/python3.9/site-packages (from stack-data->ipython>=7.23.1->msticpy[azure]) (0.8.3)\n",
      "Requirement already satisfied: pure-eval in /Users/hacket/.pyenv/versions/3.9.5/lib/python3.9/site-packages (from stack-data->ipython>=7.23.1->msticpy[azure]) (0.2.2)\n",
      "Requirement already satisfied: asttokens in /Users/hacket/.pyenv/versions/3.9.5/lib/python3.9/site-packages (from stack-data->ipython>=7.23.1->msticpy[azure]) (2.0.5)\n",
      "Installing collected packages: more-itertools, jaraco.classes, keyring, azure-storage-blob, azure-mgmt-resourcegraph, azure-mgmt-network, azure-mgmt-monitor, azure-mgmt-keyvault, azure-mgmt-compute, azure-keyvault-secrets\n",
      "Successfully installed azure-keyvault-secrets-4.7.0 azure-mgmt-compute-29.1.0 azure-mgmt-keyvault-10.2.1 azure-mgmt-monitor-6.0.0 azure-mgmt-network-23.0.0 azure-mgmt-resourcegraph-8.0.0 azure-storage-blob-12.16.0 jaraco.classes-3.2.3 keyring-23.13.1 more-itertools-9.1.0\n",
      "\u001b[33mWARNING: You are using pip version 21.1.1; however, version 23.0.1 is available.\n",
      "You should consider upgrading via the '/Users/hacket/.pyenv/versions/3.9.5/bin/python3.9 -m pip install --upgrade pip' command.\u001b[0m\n"
     ]
    }
   ],
   "source": [
    "!pip install azure-mgmt-resource\n",
    "!pip install azure-identity\n",
    "!pip install msticpy\\[azure]"
   ]
  },
  {
   "cell_type": "code",
   "execution_count": 9,
   "id": "c8aa349f",
   "metadata": {},
   "outputs": [
    {
     "name": "stdout",
     "output_type": "stream",
     "text": [
      "Requirement already satisfied: msticpy[splunk] in /Users/hacket/.pyenv/versions/3.9.5/lib/python3.9/site-packages (2.4.0)\n",
      "Requirement already satisfied: pyjwt>=2.3.0 in /Users/hacket/.pyenv/versions/3.9.5/lib/python3.9/site-packages (from msticpy[splunk]) (2.6.0)\n",
      "Requirement already satisfied: tldextract>=2.2.2 in /Users/hacket/.pyenv/versions/3.9.5/lib/python3.9/site-packages (from msticpy[splunk]) (3.4.0)\n",
      "Requirement already satisfied: typing-extensions>=4.2.0 in /Users/hacket/.pyenv/versions/3.9.5/lib/python3.9/site-packages (from msticpy[splunk]) (4.5.0)\n",
      "Requirement already satisfied: numpy>=1.15.4 in /Users/hacket/.pyenv/versions/3.9.5/lib/python3.9/site-packages (from msticpy[splunk]) (1.24.2)\n",
      "Requirement already satisfied: folium>=0.9.0 in /Users/hacket/.pyenv/versions/3.9.5/lib/python3.9/site-packages (from msticpy[splunk]) (0.14.0)\n",
      "Requirement already satisfied: python-dateutil>=2.8.1 in /Users/hacket/.pyenv/versions/3.9.5/lib/python3.9/site-packages (from msticpy[splunk]) (2.8.2)\n",
      "Requirement already satisfied: ipython>=7.23.1 in /Users/hacket/.pyenv/versions/3.9.5/lib/python3.9/site-packages (from msticpy[splunk]) (8.4.0)\n",
      "Requirement already satisfied: msal-extensions>=0.3.0 in /Users/hacket/.pyenv/versions/3.9.5/lib/python3.9/site-packages (from msticpy[splunk]) (1.0.0)\n",
      "Requirement already satisfied: nest-asyncio>=1.4.0 in /Users/hacket/.pyenv/versions/3.9.5/lib/python3.9/site-packages (from msticpy[splunk]) (1.5.5)\n",
      "Requirement already satisfied: bokeh<=2.4.3,>=1.4.0 in /Users/hacket/.pyenv/versions/3.9.5/lib/python3.9/site-packages (from msticpy[splunk]) (2.4.3)\n",
      "Requirement already satisfied: lxml>=4.6.5 in /Users/hacket/.pyenv/versions/3.9.5/lib/python3.9/site-packages (from msticpy[splunk]) (4.9.1)\n",
      "Requirement already satisfied: beautifulsoup4>=4.0.0 in /Users/hacket/.pyenv/versions/3.9.5/lib/python3.9/site-packages (from msticpy[splunk]) (4.12.2)\n",
      "Requirement already satisfied: urllib3>=1.23 in /Users/hacket/.pyenv/versions/3.9.5/lib/python3.9/site-packages (from msticpy[splunk]) (1.26.15)\n",
      "Requirement already satisfied: geoip2>=2.9.0 in /Users/hacket/.pyenv/versions/3.9.5/lib/python3.9/site-packages (from msticpy[splunk]) (4.6.0)\n",
      "Requirement already satisfied: deprecated>=1.2.4 in /Users/hacket/.pyenv/versions/3.9.5/lib/python3.9/site-packages (from msticpy[splunk]) (1.2.13)\n",
      "Requirement already satisfied: tqdm>=4.36.1 in /Users/hacket/.pyenv/versions/3.9.5/lib/python3.9/site-packages (from msticpy[splunk]) (4.65.0)\n",
      "Requirement already satisfied: attrs>=18.2.0 in /Users/hacket/.pyenv/versions/3.9.5/lib/python3.9/site-packages (from msticpy[splunk]) (23.1.0)\n",
      "Requirement already satisfied: pygments>=2.0.0 in /Users/hacket/.pyenv/versions/3.9.5/lib/python3.9/site-packages (from msticpy[splunk]) (2.12.0)\n",
      "Requirement already satisfied: networkx>=2.2 in /Users/hacket/.pyenv/versions/3.9.5/lib/python3.9/site-packages (from msticpy[splunk]) (3.1)\n",
      "Requirement already satisfied: msrestazure>=0.6.0 in /Users/hacket/.pyenv/versions/3.9.5/lib/python3.9/site-packages (from msticpy[splunk]) (0.6.4)\n",
      "Requirement already satisfied: matplotlib>=3.0.0 in /Users/hacket/.pyenv/versions/3.9.5/lib/python3.9/site-packages (from msticpy[splunk]) (3.7.1)\n",
      "Requirement already satisfied: azure-core>=1.24.0 in /Users/hacket/.pyenv/versions/3.9.5/lib/python3.9/site-packages (from msticpy[splunk]) (1.26.4)\n",
      "Requirement already satisfied: dnspython<3.0.0,>=2.0.0 in /Users/hacket/.pyenv/versions/3.9.5/lib/python3.9/site-packages (from msticpy[splunk]) (2.3.0)\n",
      "Requirement already satisfied: azure-identity>=1.10.0 in /Users/hacket/.pyenv/versions/3.9.5/lib/python3.9/site-packages (from msticpy[splunk]) (1.12.0)\n",
      "Requirement already satisfied: ipywidgets<8.0.0,>=7.4.2 in /Users/hacket/.pyenv/versions/3.9.5/lib/python3.9/site-packages (from msticpy[splunk]) (7.7.5)\n",
      "Requirement already satisfied: pyyaml>=3.13 in /Users/hacket/.pyenv/versions/3.9.5/lib/python3.9/site-packages (from msticpy[splunk]) (6.0)\n",
      "Requirement already satisfied: httpx==0.23.3 in /Users/hacket/.pyenv/versions/3.9.5/lib/python3.9/site-packages (from msticpy[splunk]) (0.23.3)\n",
      "Requirement already satisfied: KqlmagicCustom[auth_code_clipboard,jupyter-basic]>=0.1.114.post22 in /Users/hacket/.pyenv/versions/3.9.5/lib/python3.9/site-packages (from msticpy[splunk]) (0.1.114.post22)\n",
      "Requirement already satisfied: msal>=1.12.0 in /Users/hacket/.pyenv/versions/3.9.5/lib/python3.9/site-packages (from msticpy[splunk]) (1.22.0)\n",
      "Requirement already satisfied: pandas<2.0.0,>=1.4.0 in /Users/hacket/.pyenv/versions/3.9.5/lib/python3.9/site-packages (from msticpy[splunk]) (1.5.3)\n",
      "Requirement already satisfied: msrest>=0.6.0 in /Users/hacket/.pyenv/versions/3.9.5/lib/python3.9/site-packages (from msticpy[splunk]) (0.7.1)\n",
      "Requirement already satisfied: cryptography>=3.1 in /Users/hacket/.pyenv/versions/3.9.5/lib/python3.9/site-packages (from msticpy[splunk]) (40.0.2)\n",
      "Requirement already satisfied: azure-mgmt-subscription>=3.0.0 in /Users/hacket/.pyenv/versions/3.9.5/lib/python3.9/site-packages (from msticpy[splunk]) (3.1.1)\n",
      "Requirement already satisfied: setuptools>=40.6.3 in /Users/hacket/.pyenv/versions/3.9.5/lib/python3.9/site-packages (from msticpy[splunk]) (56.0.0)\n",
      "Requirement already satisfied: pytz>=2019.2 in /Users/hacket/.pyenv/versions/3.9.5/lib/python3.9/site-packages (from msticpy[splunk]) (2023.3)\n",
      "Requirement already satisfied: html5lib in /Users/hacket/.pyenv/versions/3.9.5/lib/python3.9/site-packages (from msticpy[splunk]) (1.1)\n",
      "Requirement already satisfied: azure-common>=1.1.18 in /Users/hacket/.pyenv/versions/3.9.5/lib/python3.9/site-packages (from msticpy[splunk]) (1.1.28)\n",
      "Collecting splunk-sdk>=1.6.0\n",
      "  Using cached splunk_sdk-1.7.3-py3-none-any.whl\n",
      "Requirement already satisfied: httpcore<0.17.0,>=0.15.0 in /Users/hacket/.pyenv/versions/3.9.5/lib/python3.9/site-packages (from httpx==0.23.3->msticpy[splunk]) (0.16.3)\n",
      "Requirement already satisfied: certifi in /Users/hacket/.pyenv/versions/3.9.5/lib/python3.9/site-packages (from httpx==0.23.3->msticpy[splunk]) (2022.12.7)\n",
      "Requirement already satisfied: sniffio in /Users/hacket/.pyenv/versions/3.9.5/lib/python3.9/site-packages (from httpx==0.23.3->msticpy[splunk]) (1.3.0)\n",
      "Requirement already satisfied: rfc3986[idna2008]<2,>=1.3 in /Users/hacket/.pyenv/versions/3.9.5/lib/python3.9/site-packages (from httpx==0.23.3->msticpy[splunk]) (1.5.0)\n",
      "Requirement already satisfied: six>=1.11.0 in /Users/hacket/.pyenv/versions/3.9.5/lib/python3.9/site-packages (from azure-core>=1.24.0->msticpy[splunk]) (1.16.0)\n",
      "Requirement already satisfied: requests>=2.18.4 in /Users/hacket/.pyenv/versions/3.9.5/lib/python3.9/site-packages (from azure-core>=1.24.0->msticpy[splunk]) (2.28.2)\n",
      "Requirement already satisfied: azure-mgmt-core<2.0.0,>=1.3.2 in /Users/hacket/.pyenv/versions/3.9.5/lib/python3.9/site-packages (from azure-mgmt-subscription>=3.0.0->msticpy[splunk]) (1.4.0)\n",
      "Requirement already satisfied: soupsieve>1.2 in /Users/hacket/.pyenv/versions/3.9.5/lib/python3.9/site-packages (from beautifulsoup4>=4.0.0->msticpy[splunk]) (2.4.1)\n",
      "Requirement already satisfied: packaging>=16.8 in /Users/hacket/.pyenv/versions/3.9.5/lib/python3.9/site-packages (from bokeh<=2.4.3,>=1.4.0->msticpy[splunk]) (21.3)\n",
      "Requirement already satisfied: tornado>=5.1 in /Users/hacket/.pyenv/versions/3.9.5/lib/python3.9/site-packages (from bokeh<=2.4.3,>=1.4.0->msticpy[splunk]) (6.2)\n",
      "Requirement already satisfied: pillow>=7.1.0 in /Users/hacket/.pyenv/versions/3.9.5/lib/python3.9/site-packages (from bokeh<=2.4.3,>=1.4.0->msticpy[splunk]) (9.5.0)\n",
      "Requirement already satisfied: Jinja2>=2.9 in /Users/hacket/.pyenv/versions/3.9.5/lib/python3.9/site-packages (from bokeh<=2.4.3,>=1.4.0->msticpy[splunk]) (3.1.2)\n",
      "Requirement already satisfied: cffi>=1.12 in /Users/hacket/.pyenv/versions/3.9.5/lib/python3.9/site-packages (from cryptography>=3.1->msticpy[splunk]) (1.15.1)\n",
      "Requirement already satisfied: pycparser in /Users/hacket/.pyenv/versions/3.9.5/lib/python3.9/site-packages (from cffi>=1.12->cryptography>=3.1->msticpy[splunk]) (2.21)\n",
      "Requirement already satisfied: wrapt<2,>=1.10 in /Users/hacket/.pyenv/versions/3.9.5/lib/python3.9/site-packages (from deprecated>=1.2.4->msticpy[splunk]) (1.15.0)\n",
      "Requirement already satisfied: branca>=0.6.0 in /Users/hacket/.pyenv/versions/3.9.5/lib/python3.9/site-packages (from folium>=0.9.0->msticpy[splunk]) (0.6.0)\n",
      "Requirement already satisfied: maxminddb<3.0.0,>=2.2.0 in /Users/hacket/.pyenv/versions/3.9.5/lib/python3.9/site-packages (from geoip2>=2.9.0->msticpy[splunk]) (2.2.0)\n",
      "Requirement already satisfied: aiohttp<4.0.0,>=3.6.2 in /Users/hacket/.pyenv/versions/3.9.5/lib/python3.9/site-packages (from geoip2>=2.9.0->msticpy[splunk]) (3.8.4)\n",
      "Requirement already satisfied: multidict<7.0,>=4.5 in /Users/hacket/.pyenv/versions/3.9.5/lib/python3.9/site-packages (from aiohttp<4.0.0,>=3.6.2->geoip2>=2.9.0->msticpy[splunk]) (6.0.4)\n",
      "Requirement already satisfied: yarl<2.0,>=1.0 in /Users/hacket/.pyenv/versions/3.9.5/lib/python3.9/site-packages (from aiohttp<4.0.0,>=3.6.2->geoip2>=2.9.0->msticpy[splunk]) (1.8.2)\n",
      "Requirement already satisfied: async-timeout<5.0,>=4.0.0a3 in /Users/hacket/.pyenv/versions/3.9.5/lib/python3.9/site-packages (from aiohttp<4.0.0,>=3.6.2->geoip2>=2.9.0->msticpy[splunk]) (4.0.2)\n",
      "Requirement already satisfied: aiosignal>=1.1.2 in /Users/hacket/.pyenv/versions/3.9.5/lib/python3.9/site-packages (from aiohttp<4.0.0,>=3.6.2->geoip2>=2.9.0->msticpy[splunk]) (1.3.1)\n",
      "Requirement already satisfied: charset-normalizer<4.0,>=2.0 in /Users/hacket/.pyenv/versions/3.9.5/lib/python3.9/site-packages (from aiohttp<4.0.0,>=3.6.2->geoip2>=2.9.0->msticpy[splunk]) (3.1.0)\n",
      "Requirement already satisfied: frozenlist>=1.1.1 in /Users/hacket/.pyenv/versions/3.9.5/lib/python3.9/site-packages (from aiohttp<4.0.0,>=3.6.2->geoip2>=2.9.0->msticpy[splunk]) (1.3.3)\n",
      "Requirement already satisfied: anyio<5.0,>=3.0 in /Users/hacket/.pyenv/versions/3.9.5/lib/python3.9/site-packages (from httpcore<0.17.0,>=0.15.0->httpx==0.23.3->msticpy[splunk]) (3.6.2)\n",
      "Requirement already satisfied: h11<0.15,>=0.13 in /Users/hacket/.pyenv/versions/3.9.5/lib/python3.9/site-packages (from httpcore<0.17.0,>=0.15.0->httpx==0.23.3->msticpy[splunk]) (0.14.0)\n",
      "Requirement already satisfied: idna>=2.8 in /Users/hacket/.pyenv/versions/3.9.5/lib/python3.9/site-packages (from anyio<5.0,>=3.0->httpcore<0.17.0,>=0.15.0->httpx==0.23.3->msticpy[splunk]) (3.4)\n",
      "Requirement already satisfied: jedi>=0.16 in /Users/hacket/.pyenv/versions/3.9.5/lib/python3.9/site-packages (from ipython>=7.23.1->msticpy[splunk]) (0.18.1)\n",
      "Requirement already satisfied: pickleshare in /Users/hacket/.pyenv/versions/3.9.5/lib/python3.9/site-packages (from ipython>=7.23.1->msticpy[splunk]) (0.7.5)\n",
      "Requirement already satisfied: pexpect>4.3 in /Users/hacket/.pyenv/versions/3.9.5/lib/python3.9/site-packages (from ipython>=7.23.1->msticpy[splunk]) (4.8.0)\n",
      "Requirement already satisfied: backcall in /Users/hacket/.pyenv/versions/3.9.5/lib/python3.9/site-packages (from ipython>=7.23.1->msticpy[splunk]) (0.2.0)\n",
      "Requirement already satisfied: decorator in /Users/hacket/.pyenv/versions/3.9.5/lib/python3.9/site-packages (from ipython>=7.23.1->msticpy[splunk]) (5.1.1)\n",
      "Requirement already satisfied: stack-data in /Users/hacket/.pyenv/versions/3.9.5/lib/python3.9/site-packages (from ipython>=7.23.1->msticpy[splunk]) (0.3.0)\n",
      "Requirement already satisfied: appnope in /Users/hacket/.pyenv/versions/3.9.5/lib/python3.9/site-packages (from ipython>=7.23.1->msticpy[splunk]) (0.1.3)\n",
      "Requirement already satisfied: traitlets>=5 in /Users/hacket/.pyenv/versions/3.9.5/lib/python3.9/site-packages (from ipython>=7.23.1->msticpy[splunk]) (5.9.0)\n",
      "Requirement already satisfied: prompt-toolkit!=3.0.0,!=3.0.1,<3.1.0,>=2.0.0 in /Users/hacket/.pyenv/versions/3.9.5/lib/python3.9/site-packages (from ipython>=7.23.1->msticpy[splunk]) (3.0.30)\n",
      "Requirement already satisfied: matplotlib-inline in /Users/hacket/.pyenv/versions/3.9.5/lib/python3.9/site-packages (from ipython>=7.23.1->msticpy[splunk]) (0.1.3)\n",
      "Requirement already satisfied: jupyterlab-widgets<3,>=1.0.0 in /Users/hacket/.pyenv/versions/3.9.5/lib/python3.9/site-packages (from ipywidgets<8.0.0,>=7.4.2->msticpy[splunk]) (1.1.4)\n",
      "Requirement already satisfied: ipykernel>=4.5.1 in /Users/hacket/.pyenv/versions/3.9.5/lib/python3.9/site-packages (from ipywidgets<8.0.0,>=7.4.2->msticpy[splunk]) (6.15.1)\n",
      "Requirement already satisfied: widgetsnbextension~=3.6.4 in /Users/hacket/.pyenv/versions/3.9.5/lib/python3.9/site-packages (from ipywidgets<8.0.0,>=7.4.2->msticpy[splunk]) (3.6.4)\n",
      "Requirement already satisfied: ipython-genutils~=0.2.0 in /Users/hacket/.pyenv/versions/3.9.5/lib/python3.9/site-packages (from ipywidgets<8.0.0,>=7.4.2->msticpy[splunk]) (0.2.0)\n",
      "Requirement already satisfied: psutil in /Users/hacket/.pyenv/versions/3.9.5/lib/python3.9/site-packages (from ipykernel>=4.5.1->ipywidgets<8.0.0,>=7.4.2->msticpy[splunk]) (5.9.1)\n",
      "Requirement already satisfied: jupyter-client>=6.1.12 in /Users/hacket/.pyenv/versions/3.9.5/lib/python3.9/site-packages (from ipykernel>=4.5.1->ipywidgets<8.0.0,>=7.4.2->msticpy[splunk]) (8.2.0)\n",
      "Requirement already satisfied: pyzmq>=17 in /Users/hacket/.pyenv/versions/3.9.5/lib/python3.9/site-packages (from ipykernel>=4.5.1->ipywidgets<8.0.0,>=7.4.2->msticpy[splunk]) (25.0.2)\n",
      "Requirement already satisfied: debugpy>=1.0 in /Users/hacket/.pyenv/versions/3.9.5/lib/python3.9/site-packages (from ipykernel>=4.5.1->ipywidgets<8.0.0,>=7.4.2->msticpy[splunk]) (1.6.2)\n",
      "Requirement already satisfied: parso<0.9.0,>=0.8.0 in /Users/hacket/.pyenv/versions/3.9.5/lib/python3.9/site-packages (from jedi>=0.16->ipython>=7.23.1->msticpy[splunk]) (0.8.3)\n",
      "Requirement already satisfied: MarkupSafe>=2.0 in /Users/hacket/.pyenv/versions/3.9.5/lib/python3.9/site-packages (from Jinja2>=2.9->bokeh<=2.4.3,>=1.4.0->msticpy[splunk]) (2.1.2)\n",
      "Requirement already satisfied: importlib-metadata>=4.8.3 in /Users/hacket/.pyenv/versions/3.9.5/lib/python3.9/site-packages (from jupyter-client>=6.1.12->ipykernel>=4.5.1->ipywidgets<8.0.0,>=7.4.2->msticpy[splunk]) (6.4.1)\n",
      "Requirement already satisfied: jupyter-core!=5.0.*,>=4.12 in /Users/hacket/.pyenv/versions/3.9.5/lib/python3.9/site-packages (from jupyter-client>=6.1.12->ipykernel>=4.5.1->ipywidgets<8.0.0,>=7.4.2->msticpy[splunk]) (5.3.0)\n",
      "Requirement already satisfied: zipp>=0.5 in /Users/hacket/.pyenv/versions/3.9.5/lib/python3.9/site-packages (from importlib-metadata>=4.8.3->jupyter-client>=6.1.12->ipykernel>=4.5.1->ipywidgets<8.0.0,>=7.4.2->msticpy[splunk]) (3.15.0)\n",
      "Requirement already satisfied: platformdirs>=2.5 in /Users/hacket/.pyenv/versions/3.9.5/lib/python3.9/site-packages (from jupyter-core!=5.0.*,>=4.12->jupyter-client>=6.1.12->ipykernel>=4.5.1->ipywidgets<8.0.0,>=7.4.2->msticpy[splunk]) (3.2.0)\n",
      "Requirement already satisfied: prettytable>=0.7.2 in /Users/hacket/.pyenv/versions/3.9.5/lib/python3.9/site-packages (from KqlmagicCustom[auth_code_clipboard,jupyter-basic]>=0.1.114.post22->msticpy[splunk]) (3.7.0)\n",
      "Requirement already satisfied: pyperclip>=1.7.0 in /Users/hacket/.pyenv/versions/3.9.5/lib/python3.9/site-packages (from KqlmagicCustom[auth_code_clipboard,jupyter-basic]>=0.1.114.post22->msticpy[splunk]) (1.8.2)\n",
      "Requirement already satisfied: fonttools>=4.22.0 in /Users/hacket/.pyenv/versions/3.9.5/lib/python3.9/site-packages (from matplotlib>=3.0.0->msticpy[splunk]) (4.39.3)\n",
      "Requirement already satisfied: kiwisolver>=1.0.1 in /Users/hacket/.pyenv/versions/3.9.5/lib/python3.9/site-packages (from matplotlib>=3.0.0->msticpy[splunk]) (1.4.4)\n",
      "Requirement already satisfied: cycler>=0.10 in /Users/hacket/.pyenv/versions/3.9.5/lib/python3.9/site-packages (from matplotlib>=3.0.0->msticpy[splunk]) (0.11.0)\n",
      "Requirement already satisfied: importlib-resources>=3.2.0 in /Users/hacket/.pyenv/versions/3.9.5/lib/python3.9/site-packages (from matplotlib>=3.0.0->msticpy[splunk]) (5.12.0)\n",
      "Requirement already satisfied: pyparsing>=2.3.1 in /Users/hacket/.pyenv/versions/3.9.5/lib/python3.9/site-packages (from matplotlib>=3.0.0->msticpy[splunk]) (3.0.9)\n",
      "Requirement already satisfied: contourpy>=1.0.1 in /Users/hacket/.pyenv/versions/3.9.5/lib/python3.9/site-packages (from matplotlib>=3.0.0->msticpy[splunk]) (1.0.7)\n",
      "Requirement already satisfied: portalocker<3,>=1.0 in /Users/hacket/.pyenv/versions/3.9.5/lib/python3.9/site-packages (from msal-extensions>=0.3.0->msticpy[splunk]) (2.7.0)\n",
      "Requirement already satisfied: isodate>=0.6.0 in /Users/hacket/.pyenv/versions/3.9.5/lib/python3.9/site-packages (from msrest>=0.6.0->msticpy[splunk]) (0.6.1)\n",
      "Requirement already satisfied: requests-oauthlib>=0.5.0 in /Users/hacket/.pyenv/versions/3.9.5/lib/python3.9/site-packages (from msrest>=0.6.0->msticpy[splunk]) (1.3.1)\n",
      "Requirement already satisfied: adal<2.0.0,>=0.6.0 in /Users/hacket/.pyenv/versions/3.9.5/lib/python3.9/site-packages (from msrestazure>=0.6.0->msticpy[splunk]) (1.2.7)\n",
      "Requirement already satisfied: ptyprocess>=0.5 in /Users/hacket/.pyenv/versions/3.9.5/lib/python3.9/site-packages (from pexpect>4.3->ipython>=7.23.1->msticpy[splunk]) (0.7.0)\n",
      "Requirement already satisfied: wcwidth in /Users/hacket/.pyenv/versions/3.9.5/lib/python3.9/site-packages (from prettytable>=0.7.2->KqlmagicCustom[auth_code_clipboard,jupyter-basic]>=0.1.114.post22->msticpy[splunk]) (0.2.5)\n",
      "Requirement already satisfied: oauthlib>=3.0.0 in /Users/hacket/.pyenv/versions/3.9.5/lib/python3.9/site-packages (from requests-oauthlib>=0.5.0->msrest>=0.6.0->msticpy[splunk]) (3.2.2)\n",
      "Requirement already satisfied: requests-file>=1.4 in /Users/hacket/.pyenv/versions/3.9.5/lib/python3.9/site-packages (from tldextract>=2.2.2->msticpy[splunk]) (1.5.1)\n",
      "Requirement already satisfied: filelock>=3.0.8 in /Users/hacket/.pyenv/versions/3.9.5/lib/python3.9/site-packages (from tldextract>=2.2.2->msticpy[splunk]) (3.11.0)\n",
      "Requirement already satisfied: notebook>=4.4.1 in /Users/hacket/.pyenv/versions/3.9.5/lib/python3.9/site-packages (from widgetsnbextension~=3.6.4->ipywidgets<8.0.0,>=7.4.2->msticpy[splunk]) (6.5.4)\n",
      "Requirement already satisfied: argon2-cffi in /Users/hacket/.pyenv/versions/3.9.5/lib/python3.9/site-packages (from notebook>=4.4.1->widgetsnbextension~=3.6.4->ipywidgets<8.0.0,>=7.4.2->msticpy[splunk]) (21.3.0)\n",
      "Requirement already satisfied: terminado>=0.8.3 in /Users/hacket/.pyenv/versions/3.9.5/lib/python3.9/site-packages (from notebook>=4.4.1->widgetsnbextension~=3.6.4->ipywidgets<8.0.0,>=7.4.2->msticpy[splunk]) (0.17.1)\n",
      "Requirement already satisfied: nbconvert>=5 in /Users/hacket/.pyenv/versions/3.9.5/lib/python3.9/site-packages (from notebook>=4.4.1->widgetsnbextension~=3.6.4->ipywidgets<8.0.0,>=7.4.2->msticpy[splunk]) (7.3.1)\n",
      "Requirement already satisfied: nbclassic>=0.4.7 in /Users/hacket/.pyenv/versions/3.9.5/lib/python3.9/site-packages (from notebook>=4.4.1->widgetsnbextension~=3.6.4->ipywidgets<8.0.0,>=7.4.2->msticpy[splunk]) (0.5.5)\n",
      "Requirement already satisfied: Send2Trash>=1.8.0 in /Users/hacket/.pyenv/versions/3.9.5/lib/python3.9/site-packages (from notebook>=4.4.1->widgetsnbextension~=3.6.4->ipywidgets<8.0.0,>=7.4.2->msticpy[splunk]) (1.8.0)\n",
      "Requirement already satisfied: prometheus-client in /Users/hacket/.pyenv/versions/3.9.5/lib/python3.9/site-packages (from notebook>=4.4.1->widgetsnbextension~=3.6.4->ipywidgets<8.0.0,>=7.4.2->msticpy[splunk]) (0.16.0)\n",
      "Requirement already satisfied: nbformat in /Users/hacket/.pyenv/versions/3.9.5/lib/python3.9/site-packages (from notebook>=4.4.1->widgetsnbextension~=3.6.4->ipywidgets<8.0.0,>=7.4.2->msticpy[splunk]) (5.8.0)\n",
      "Requirement already satisfied: jupyter-server>=1.8 in /Users/hacket/.pyenv/versions/3.9.5/lib/python3.9/site-packages (from nbclassic>=0.4.7->notebook>=4.4.1->widgetsnbextension~=3.6.4->ipywidgets<8.0.0,>=7.4.2->msticpy[splunk]) (2.5.0)\n",
      "Requirement already satisfied: notebook-shim>=0.1.0 in /Users/hacket/.pyenv/versions/3.9.5/lib/python3.9/site-packages (from nbclassic>=0.4.7->notebook>=4.4.1->widgetsnbextension~=3.6.4->ipywidgets<8.0.0,>=7.4.2->msticpy[splunk]) (0.2.2)\n",
      "Requirement already satisfied: jupyter-server-terminals in /Users/hacket/.pyenv/versions/3.9.5/lib/python3.9/site-packages (from jupyter-server>=1.8->nbclassic>=0.4.7->notebook>=4.4.1->widgetsnbextension~=3.6.4->ipywidgets<8.0.0,>=7.4.2->msticpy[splunk]) (0.4.4)\n",
      "Requirement already satisfied: websocket-client in /Users/hacket/.pyenv/versions/3.9.5/lib/python3.9/site-packages (from jupyter-server>=1.8->nbclassic>=0.4.7->notebook>=4.4.1->widgetsnbextension~=3.6.4->ipywidgets<8.0.0,>=7.4.2->msticpy[splunk]) (1.5.1)\n",
      "Requirement already satisfied: jupyter-events>=0.4.0 in /Users/hacket/.pyenv/versions/3.9.5/lib/python3.9/site-packages (from jupyter-server>=1.8->nbclassic>=0.4.7->notebook>=4.4.1->widgetsnbextension~=3.6.4->ipywidgets<8.0.0,>=7.4.2->msticpy[splunk]) (0.6.3)\n",
      "Requirement already satisfied: jsonschema[format-nongpl]>=3.2.0 in /Users/hacket/.pyenv/versions/3.9.5/lib/python3.9/site-packages (from jupyter-events>=0.4.0->jupyter-server>=1.8->nbclassic>=0.4.7->notebook>=4.4.1->widgetsnbextension~=3.6.4->ipywidgets<8.0.0,>=7.4.2->msticpy[splunk]) (4.17.3)\n",
      "Requirement already satisfied: rfc3986-validator>=0.1.1 in /Users/hacket/.pyenv/versions/3.9.5/lib/python3.9/site-packages (from jupyter-events>=0.4.0->jupyter-server>=1.8->nbclassic>=0.4.7->notebook>=4.4.1->widgetsnbextension~=3.6.4->ipywidgets<8.0.0,>=7.4.2->msticpy[splunk]) (0.1.1)\n",
      "Requirement already satisfied: python-json-logger>=2.0.4 in /Users/hacket/.pyenv/versions/3.9.5/lib/python3.9/site-packages (from jupyter-events>=0.4.0->jupyter-server>=1.8->nbclassic>=0.4.7->notebook>=4.4.1->widgetsnbextension~=3.6.4->ipywidgets<8.0.0,>=7.4.2->msticpy[splunk]) (2.0.7)\n",
      "Requirement already satisfied: rfc3339-validator in /Users/hacket/.pyenv/versions/3.9.5/lib/python3.9/site-packages (from jupyter-events>=0.4.0->jupyter-server>=1.8->nbclassic>=0.4.7->notebook>=4.4.1->widgetsnbextension~=3.6.4->ipywidgets<8.0.0,>=7.4.2->msticpy[splunk]) (0.1.4)\n",
      "Requirement already satisfied: pyrsistent!=0.17.0,!=0.17.1,!=0.17.2,>=0.14.0 in /Users/hacket/.pyenv/versions/3.9.5/lib/python3.9/site-packages (from jsonschema[format-nongpl]>=3.2.0->jupyter-events>=0.4.0->jupyter-server>=1.8->nbclassic>=0.4.7->notebook>=4.4.1->widgetsnbextension~=3.6.4->ipywidgets<8.0.0,>=7.4.2->msticpy[splunk]) (0.19.3)\n",
      "Requirement already satisfied: isoduration in /Users/hacket/.pyenv/versions/3.9.5/lib/python3.9/site-packages (from jsonschema[format-nongpl]>=3.2.0->jupyter-events>=0.4.0->jupyter-server>=1.8->nbclassic>=0.4.7->notebook>=4.4.1->widgetsnbextension~=3.6.4->ipywidgets<8.0.0,>=7.4.2->msticpy[splunk]) (20.11.0)\n",
      "Requirement already satisfied: webcolors>=1.11 in /Users/hacket/.pyenv/versions/3.9.5/lib/python3.9/site-packages (from jsonschema[format-nongpl]>=3.2.0->jupyter-events>=0.4.0->jupyter-server>=1.8->nbclassic>=0.4.7->notebook>=4.4.1->widgetsnbextension~=3.6.4->ipywidgets<8.0.0,>=7.4.2->msticpy[splunk]) (1.13)\n",
      "Requirement already satisfied: uri-template in /Users/hacket/.pyenv/versions/3.9.5/lib/python3.9/site-packages (from jsonschema[format-nongpl]>=3.2.0->jupyter-events>=0.4.0->jupyter-server>=1.8->nbclassic>=0.4.7->notebook>=4.4.1->widgetsnbextension~=3.6.4->ipywidgets<8.0.0,>=7.4.2->msticpy[splunk]) (1.2.0)\n",
      "Requirement already satisfied: fqdn in /Users/hacket/.pyenv/versions/3.9.5/lib/python3.9/site-packages (from jsonschema[format-nongpl]>=3.2.0->jupyter-events>=0.4.0->jupyter-server>=1.8->nbclassic>=0.4.7->notebook>=4.4.1->widgetsnbextension~=3.6.4->ipywidgets<8.0.0,>=7.4.2->msticpy[splunk]) (1.5.1)\n",
      "Requirement already satisfied: jsonpointer>1.13 in /Users/hacket/.pyenv/versions/3.9.5/lib/python3.9/site-packages (from jsonschema[format-nongpl]>=3.2.0->jupyter-events>=0.4.0->jupyter-server>=1.8->nbclassic>=0.4.7->notebook>=4.4.1->widgetsnbextension~=3.6.4->ipywidgets<8.0.0,>=7.4.2->msticpy[splunk]) (2.3)\n",
      "Requirement already satisfied: tinycss2 in /Users/hacket/.pyenv/versions/3.9.5/lib/python3.9/site-packages (from nbconvert>=5->notebook>=4.4.1->widgetsnbextension~=3.6.4->ipywidgets<8.0.0,>=7.4.2->msticpy[splunk]) (1.2.1)\n",
      "Requirement already satisfied: bleach in /Users/hacket/.pyenv/versions/3.9.5/lib/python3.9/site-packages (from nbconvert>=5->notebook>=4.4.1->widgetsnbextension~=3.6.4->ipywidgets<8.0.0,>=7.4.2->msticpy[splunk]) (6.0.0)\n",
      "Requirement already satisfied: nbclient>=0.5.0 in /Users/hacket/.pyenv/versions/3.9.5/lib/python3.9/site-packages (from nbconvert>=5->notebook>=4.4.1->widgetsnbextension~=3.6.4->ipywidgets<8.0.0,>=7.4.2->msticpy[splunk]) (0.7.3)\n",
      "Requirement already satisfied: defusedxml in /Users/hacket/.pyenv/versions/3.9.5/lib/python3.9/site-packages (from nbconvert>=5->notebook>=4.4.1->widgetsnbextension~=3.6.4->ipywidgets<8.0.0,>=7.4.2->msticpy[splunk]) (0.7.1)\n",
      "Requirement already satisfied: pandocfilters>=1.4.1 in /Users/hacket/.pyenv/versions/3.9.5/lib/python3.9/site-packages (from nbconvert>=5->notebook>=4.4.1->widgetsnbextension~=3.6.4->ipywidgets<8.0.0,>=7.4.2->msticpy[splunk]) (1.5.0)\n",
      "Requirement already satisfied: mistune<3,>=2.0.3 in /Users/hacket/.pyenv/versions/3.9.5/lib/python3.9/site-packages (from nbconvert>=5->notebook>=4.4.1->widgetsnbextension~=3.6.4->ipywidgets<8.0.0,>=7.4.2->msticpy[splunk]) (2.0.5)\n",
      "Requirement already satisfied: jupyterlab-pygments in /Users/hacket/.pyenv/versions/3.9.5/lib/python3.9/site-packages (from nbconvert>=5->notebook>=4.4.1->widgetsnbextension~=3.6.4->ipywidgets<8.0.0,>=7.4.2->msticpy[splunk]) (0.2.2)\n",
      "Requirement already satisfied: fastjsonschema in /Users/hacket/.pyenv/versions/3.9.5/lib/python3.9/site-packages (from nbformat->notebook>=4.4.1->widgetsnbextension~=3.6.4->ipywidgets<8.0.0,>=7.4.2->msticpy[splunk]) (2.16.3)\n",
      "Requirement already satisfied: argon2-cffi-bindings in /Users/hacket/.pyenv/versions/3.9.5/lib/python3.9/site-packages (from argon2-cffi->notebook>=4.4.1->widgetsnbextension~=3.6.4->ipywidgets<8.0.0,>=7.4.2->msticpy[splunk]) (21.2.0)\n",
      "Requirement already satisfied: webencodings in /Users/hacket/.pyenv/versions/3.9.5/lib/python3.9/site-packages (from bleach->nbconvert>=5->notebook>=4.4.1->widgetsnbextension~=3.6.4->ipywidgets<8.0.0,>=7.4.2->msticpy[splunk]) (0.5.1)\n",
      "Requirement already satisfied: arrow>=0.15.0 in /Users/hacket/.pyenv/versions/3.9.5/lib/python3.9/site-packages (from isoduration->jsonschema[format-nongpl]>=3.2.0->jupyter-events>=0.4.0->jupyter-server>=1.8->nbclassic>=0.4.7->notebook>=4.4.1->widgetsnbextension~=3.6.4->ipywidgets<8.0.0,>=7.4.2->msticpy[splunk]) (1.2.3)\n",
      "Requirement already satisfied: pure-eval in /Users/hacket/.pyenv/versions/3.9.5/lib/python3.9/site-packages (from stack-data->ipython>=7.23.1->msticpy[splunk]) (0.2.2)\n",
      "Requirement already satisfied: asttokens in /Users/hacket/.pyenv/versions/3.9.5/lib/python3.9/site-packages (from stack-data->ipython>=7.23.1->msticpy[splunk]) (2.0.5)\n",
      "Requirement already satisfied: executing in /Users/hacket/.pyenv/versions/3.9.5/lib/python3.9/site-packages (from stack-data->ipython>=7.23.1->msticpy[splunk]) (0.8.3)\n",
      "Installing collected packages: splunk-sdk\n",
      "Successfully installed splunk-sdk-1.7.3\n",
      "\u001b[33mWARNING: You are using pip version 21.1.1; however, version 23.0.1 is available.\n",
      "You should consider upgrading via the '/Users/hacket/.pyenv/versions/3.9.5/bin/python3.9 -m pip install --upgrade pip' command.\u001b[0m\n"
     ]
    }
   ],
   "source": [
    "!pip install msticpy\\[splunk]\n"
   ]
  },
  {
   "cell_type": "code",
   "execution_count": 1,
   "id": "ce1283c5",
   "metadata": {},
   "outputs": [
    {
     "name": "stderr",
     "output_type": "stream",
     "text": [
      "2023-04-18 15:20:19,840: WARNING - config validation error Missing or empty 'AzureSentinel' section (nbinit#697)\n",
      "2023-04-18 15:20:19,841: WARNING - Could not find msticpyconfig.yaml in standard search. (nbinit#710)\n"
     ]
    },
    {
     "data": {
      "text/html": [
       "<p style=''><font color='orange'><h3>Notebook setup completed with some warnings.</h3></p>"
      ],
      "text/plain": [
       "<IPython.core.display.HTML object>"
      ]
     },
     "metadata": {},
     "output_type": "display_data"
    },
    {
     "data": {
      "text/html": [
       "<p style=''>One or more configuration items were missing or set incorrectly.</p>"
      ],
      "text/plain": [
       "<IPython.core.display.HTML object>"
      ]
     },
     "metadata": {},
     "output_type": "display_data"
    },
    {
     "data": {
      "text/html": [
       "<p style=''>Please run the <i>Getting Started Guide for Azure Sentinel ML Notebooks</i> notebook. and the <a href='https://msticpy.readthedocs.io/en/latest/getting_started/msticpyconfig.html'>msticpy configuration guide</a>.</p>"
      ],
      "text/plain": [
       "<IPython.core.display.HTML object>"
      ]
     },
     "metadata": {},
     "output_type": "display_data"
    },
    {
     "data": {
      "text/html": [
       "<p style=''>This notebook may still run but with reduced functionality.</p>"
      ],
      "text/plain": [
       "<IPython.core.display.HTML object>"
      ]
     },
     "metadata": {},
     "output_type": "display_data"
    }
   ],
   "source": [
    "import msticpy as mp\n",
    "mp.init_notebook()"
   ]
  },
  {
   "cell_type": "code",
   "execution_count": 2,
   "id": "6ff5843a",
   "metadata": {},
   "outputs": [
    {
     "name": "stdout",
     "output_type": "stream",
     "text": [
      "connected\n"
     ]
    }
   ],
   "source": [
    "splunk_prov = mp.QueryProvider(\"Splunk\")\n",
    "splunk_prov.connect()"
   ]
  },
  {
   "cell_type": "code",
   "execution_count": 3,
   "id": "d9b855cb",
   "metadata": {},
   "outputs": [
    {
     "name": "stdout",
     "output_type": "stream",
     "text": [
      "Query:  get_events_parameterized\n",
      "Data source:  Splunk\n",
      "Generic parameterized query from index/source\n",
      "\n",
      "Parameters\n",
      "----------\n",
      "add_query_items: str (optional)\n",
      "    Additional query clauses\n",
      "    (default value is: | head 100)\n",
      "end: datetime\n",
      "    Query end time\n",
      "index: str (optional)\n",
      "    Splunk index name\n",
      "    (default value is: *)\n",
      "project_fields: str (optional)\n",
      "    Project Field names\n",
      "    (default value is: | table TimeCreated, host, EventID, EventDescripti...)\n",
      "source: str (optional)\n",
      "    Splunk source type\n",
      "    (default value is: *)\n",
      "start: datetime\n",
      "    Query start time\n",
      "timeformat: str (optional)\n",
      "    Datetime format to use in Splunk query\n",
      "    (default value is: \"%Y-%m-%d %H:%M:%S.%6N\")\n",
      "Query:\n",
      " search index={index} source={source} timeformat={timeformat} earliest={start} latest={end} {project_fields} {add_query_items}\n"
     ]
    }
   ],
   "source": [
    "splunk_prov.SplunkGeneral.get_events_parameterized('?')"
   ]
  },
  {
   "cell_type": "code",
   "execution_count": 4,
   "id": "b7c9915a",
   "metadata": {},
   "outputs": [
    {
     "data": {
      "text/plain": [
       "' search index=botsv2 source=WinEventLog:Microsoft-Windows-Sysmon/Operational timeformat=\"%Y-%m-%d %H:%M:%S\" earliest=\"2017-08-25 00:00:00\" latest=\"2017-08-25 10:00:00\" | table TimeCreated, host, EventID, EventDescription, User, process, cmdline, Image, parent_process, ParentCommandLine, dest, Hashes | head 100'"
      ]
     },
     "execution_count": 4,
     "metadata": {},
     "output_type": "execute_result"
    }
   ],
   "source": [
    "splunk_prov.SplunkGeneral.get_events_parameterized('print',\n",
    "    index=\"botsv2\",\n",
    "    source=\"WinEventLog:Microsoft-Windows-Sysmon/Operational\",\n",
    "    timeformat='\"%Y-%m-%d %H:%M:%S\"',\n",
    "    start=\"2017-08-25 00:00:00\",\n",
    "    end=\"2017-08-25 10:00:00\"\n",
    ")"
   ]
  },
  {
   "cell_type": "code",
   "execution_count": 5,
   "id": "2ffd9193",
   "metadata": {},
   "outputs": [
    {
     "name": "stderr",
     "output_type": "stream",
     "text": [
      "Waiting Splunk job to complete: 200.0it [00:03, 65.68it/s]                         \n"
     ]
    },
    {
     "data": {
      "text/plain": [
       "100"
      ]
     },
     "execution_count": 5,
     "metadata": {},
     "output_type": "execute_result"
    }
   ],
   "source": [
    "default_df = splunk_prov.SplunkGeneral.get_events_parameterized(\n",
    "    index=\"botsv2\",\n",
    "    source=\"WinEventLog:Microsoft-Windows-Sysmon/Operational\",\n",
    "    start=\"2017-08-25 00:00:00.000000\",\n",
    "    end=\"2017-08-25 10:00:00.000000\"\n",
    ")\n",
    "len(default_df) # 100 because of add_query_items = '| head 100' by default"
   ]
  },
  {
   "cell_type": "code",
   "execution_count": 6,
   "id": "b9d59ef6",
   "metadata": {},
   "outputs": [
    {
     "data": {
      "text/plain": [
       "' search index=botsv2 source=WinEventLog:Microsoft-Windows-Sysmon/Operational timeformat=\"%Y-%m-%d %H:%M:%S.%6N\" earliest=\"2017-08-25 00:00:00\" latest=\"2017-08-25 10:00:00\" | table TimeCreated, host, EventID, EventDescription, User, process, cmdline, Image, parent_process, ParentCommandLine, dest, Hashes '"
      ]
     },
     "execution_count": 6,
     "metadata": {},
     "output_type": "execute_result"
    }
   ],
   "source": [
    "splunk_prov.SplunkGeneral.get_events_parameterized('print',\n",
    "    index=\"botsv2\",\n",
    "    source=\"WinEventLog:Microsoft-Windows-Sysmon/Operational\",\n",
    "    start=\"2017-08-25 00:00:00.000000\",\n",
    "    end=\"2017-08-25 10:00:00.000000\",\n",
    "    add_query_items=''\n",
    ")"
   ]
  },
  {
   "cell_type": "code",
   "execution_count": 7,
   "id": "58e99159",
   "metadata": {},
   "outputs": [
    {
     "name": "stderr",
     "output_type": "stream",
     "text": [
      "Waiting Splunk job to complete: 100%|██████████| 100.0/100 [00:02<00:00, 48.91it/s]\n",
      "/Users/hacket/.pyenv/versions/3.9.5/lib/python3.9/site-packages/msticpy/data/drivers/splunk_driver.py:234: DeprecationWarning: ResultsReader is a deprecated function. Use the JSONResultsReader function instead in conjuction with the 'output_mode' query param set to 'json'\n",
      "  reader = sp_results.ResultsReader(query_job.results())\n"
     ]
    },
    {
     "data": {
      "text/plain": [
       "100"
      ]
     },
     "execution_count": 7,
     "metadata": {},
     "output_type": "execute_result"
    }
   ],
   "source": [
    "unlimited_df = splunk_prov.SplunkGeneral.get_events_parameterized(\n",
    "    index=\"botsv2\",\n",
    "    source=\"WinEventLog:Microsoft-Windows-Sysmon/Operational\",\n",
    "    start=\"2017-08-25 00:00:00.000000\",\n",
    "    end=\"2017-08-25 10:00:00.000000\",\n",
    "    add_query_items='',\n",
    "    count=0\n",
    ")\n",
    "len(unlimited_df)"
   ]
  },
  {
   "attachments": {},
   "cell_type": "markdown",
   "id": "31f10217",
   "metadata": {},
   "source": [
    "### => msticpy 2.4.0 has a bug to fetch full records from splunk !!!"
   ]
  },
  {
   "cell_type": "code",
   "execution_count": 8,
   "id": "c4cbdc2b",
   "metadata": {},
   "outputs": [
    {
     "name": "stderr",
     "output_type": "stream",
     "text": [
      "Waiting Splunk job to complete: 100%|██████████| 100.0/100 [00:01<00:00, 98.21it/s]\n",
      "/Users/hacket/.pyenv/versions/3.9.5/lib/python3.9/site-packages/msticpy/data/drivers/splunk_driver.py:234: DeprecationWarning: ResultsReader is a deprecated function. Use the JSONResultsReader function instead in conjuction with the 'output_mode' query param set to 'json'\n",
      "  reader = sp_results.ResultsReader(query_job.results())\n"
     ]
    },
    {
     "data": {
      "text/html": [
       "<div>\n",
       "<style scoped>\n",
       "    .dataframe tbody tr th:only-of-type {\n",
       "        vertical-align: middle;\n",
       "    }\n",
       "\n",
       "    .dataframe tbody tr th {\n",
       "        vertical-align: top;\n",
       "    }\n",
       "\n",
       "    .dataframe thead th {\n",
       "        text-align: right;\n",
       "    }\n",
       "</style>\n",
       "<table border=\"1\" class=\"dataframe\">\n",
       "  <thead>\n",
       "    <tr style=\"text-align: right;\">\n",
       "      <th></th>\n",
       "      <th>count</th>\n",
       "    </tr>\n",
       "  </thead>\n",
       "  <tbody>\n",
       "    <tr>\n",
       "      <th>0</th>\n",
       "      <td>11268</td>\n",
       "    </tr>\n",
       "  </tbody>\n",
       "</table>\n",
       "</div>"
      ],
      "text/plain": [
       "   count\n",
       "0  11268"
      ]
     },
     "execution_count": 8,
     "metadata": {},
     "output_type": "execute_result"
    }
   ],
   "source": [
    "# check total record counts of above query\n",
    "splunk_prov.SplunkGeneral.get_events_parameterized(\n",
    "    index=\"botsv2\",\n",
    "    source=\"WinEventLog:Microsoft-Windows-Sysmon/Operational\",\n",
    "    start=\"2017-08-25 00:00:00.000000\",\n",
    "    end=\"2017-08-25 10:00:00.000000\",\n",
    "    add_query_items='| stats count',\n",
    "    count=0\n",
    ")\n"
   ]
  },
  {
   "attachments": {},
   "cell_type": "markdown",
   "id": "74edfec0",
   "metadata": {},
   "source": [
    "The data store's record counts = 11268 expected !"
   ]
  },
  {
   "cell_type": "code",
   "execution_count": null,
   "id": "0f7dfefc",
   "metadata": {},
   "outputs": [],
   "source": []
  }
 ],
 "metadata": {
  "kernelspec": {
   "display_name": "Python 3 (ipykernel)",
   "language": "python",
   "name": "python3"
  },
  "language_info": {
   "codemirror_mode": {
    "name": "ipython",
    "version": 3
   },
   "file_extension": ".py",
   "mimetype": "text/x-python",
   "name": "python",
   "nbconvert_exporter": "python",
   "pygments_lexer": "ipython3",
   "version": "3.9.5"
  }
 },
 "nbformat": 4,
 "nbformat_minor": 5
}
