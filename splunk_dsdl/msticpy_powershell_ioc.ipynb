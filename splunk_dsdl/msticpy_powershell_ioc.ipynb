{
 "cells": [
  {
   "attachments": {},
   "cell_type": "markdown",
   "metadata": {},
   "source": [
    "# [msticpy] ParentCommandLine powershell - base64 decode & ioc extraction"
   ]
  },
  {
   "attachments": {},
   "cell_type": "markdown",
   "metadata": {},
   "source": [
    "## Preparation for install msticpy\n",
    "\n",
    "Example of phdrieger/mltk-container-golden-image-cpu:5.1.0 container:\n",
    "\n",
    "$ mkdir /srv/app/model/customlib\n",
    "\n",
    "$ pip install msticpy -t /srv/app/model/customlib"
   ]
  },
  {
   "attachments": {},
   "cell_type": "markdown",
   "metadata": {},
   "source": [
    "## Stage 0 - import libraries\n",
    "At stage 0 we define all imports necessary to run our subsequent code depending on various libraries."
   ]
  },
  {
   "cell_type": "code",
   "execution_count": 23,
   "metadata": {
    "deletable": false,
    "name": "mltkc_import"
   },
   "outputs": [],
   "source": [
    "# this definition exposes all python module imports that should be available in all subsequent commands\n",
    "import json\n",
    "import numpy as np\n",
    "import pandas as pd\n",
    "import os\n",
    "import sys,os.path\n",
    "sys.path.insert(0,\"/srv/app/model/customlib\")\n",
    "import msticpy as mp\n",
    "\n",
    "# ...\n",
    "# global constants\n",
    "MODEL_DIRECTORY = \"/srv/app/model/data/\"\n",
    "\n",
    "# define the algorism name and model name\n",
    "algo_name = \"msticpy_powershell_ioc\"\n",
    "model_name = \"process_b64_iocs_enrich\""
   ]
  },
  {
   "attachments": {},
   "cell_type": "markdown",
   "metadata": {},
   "source": [
    "## Stage 1 - get a data sample from Splunk\n",
    "There are currently 2 ways to retrieve data from Splunk: Option 1 is to interactively pull data from Splunk into the DSDL Jupyter Lab environment. This is useful when the Splunk REST API is accessible from the Jupyter environment and a valid Splunk auth token is defined in the DSDL app. This option has advantages to quickly experiment with different Splunk SPL queries and further interactively work with the search results in Jupyter.\n",
    "\n",
    "### Option 1 - pull data from Splunk"
   ]
  },
  {
   "cell_type": "code",
   "execution_count": 25,
   "metadata": {},
   "outputs": [],
   "source": [
    "# NOT EXPORTED\n",
    "from dsdlsupport import SplunkSearch as SplunkSearch\n",
    "search = SplunkSearch.SplunkSearch()\n",
    "df = search.as_df()"
   ]
  },
  {
   "attachments": {},
   "cell_type": "markdown",
   "metadata": {},
   "source": [
    "### Option 2 - push data from Splunk\n",
    "In Splunk run a search to pipe a dataset into your notebook environment. You utilize the `mode=stage` flag in the in the `| fit` command to do this. The search results are accessible then as csv file with the same model name that is defined in the `into app:<modelname>` part of the fit statement. Additionally, meta data is retrieved and accessible as json file. In the same way you can further work with the meta data object as it is exposed in the fit and apply function definitions below in stage 3 and 4."
   ]
  },
  {
   "attachments": {},
   "cell_type": "markdown",
   "metadata": {},
   "source": [
    "index=botsv2 \"powershell\" \"-enc\" source=\"WinEventLog*Microsoft-Windows-Sysmon*Operational*\"<br>\n",
    "| where LIKE(ParentCommandLine,\"%powershell%-enc%\") | stats count by ParentCommandLine<br>\n",
    "| fit MLTKContainer mode=stage algo=msticpy_powershell_ioc ParentCommandLine into app:process_b64_iocs_enrich<br>"
   ]
  },
  {
   "attachments": {},
   "cell_type": "markdown",
   "metadata": {},
   "source": [
    "After you run this search your data set sample is available as a csv inside the container to develop your model. The name is taken from the into keyword (\"barebone_model\" in the example above) or set to \"default\" if no into keyword is present. This step is intended to work with a subset of your data to create your custom model."
   ]
  },
  {
   "cell_type": "code",
   "execution_count": 2,
   "metadata": {
    "deletable": false,
    "name": "mltkc_stage"
   },
   "outputs": [],
   "source": [
    "# this cell is not executed from MLTK and should only be used for staging data into the notebook environment\n",
    "def stage(name):\n",
    "    with open(\"data/\"+name+\".csv\", 'r') as f:\n",
    "        df = pd.read_csv(f)\n",
    "    with open(\"data/\"+name+\".json\", 'r') as f:\n",
    "        param = json.load(f)\n",
    "    return df, param"
   ]
  },
  {
   "cell_type": "code",
   "execution_count": 3,
   "metadata": {},
   "outputs": [],
   "source": [
    "# THIS CELL IS NOT EXPORTED - free notebook cell for testing or development purposes\n",
    "df, param = stage(model_name)"
   ]
  },
  {
   "cell_type": "code",
   "execution_count": 30,
   "metadata": {},
   "outputs": [
    {
     "data": {
      "text/plain": [
       "{'options': {'params': {'mode': 'stage', 'algo': 'msticpy_powershell_ioc'},\n",
       "  'args': ['ParentCommandLine'],\n",
       "  'feature_variables': ['ParentCommandLine'],\n",
       "  'model_name': 'process_b64_iocs_enrich',\n",
       "  'algo_name': 'MLTKContainer',\n",
       "  'mlspl_limits': {'handle_new_cat': 'default',\n",
       "   'max_distinct_cat_values': '100',\n",
       "   'max_distinct_cat_values_for_classifiers': '100',\n",
       "   'max_distinct_cat_values_for_scoring': '100',\n",
       "   'max_fit_time': '600',\n",
       "   'max_inputs': '100000',\n",
       "   'max_memory_usage_mb': '4000',\n",
       "   'max_model_size_mb': '30',\n",
       "   'max_score_time': '600',\n",
       "   'use_sampling': 'true'},\n",
       "  'kfold_cv': None},\n",
       " 'feature_variables': ['ParentCommandLine']}"
      ]
     },
     "execution_count": 30,
     "metadata": {},
     "output_type": "execute_result"
    }
   ],
   "source": [
    "param"
   ]
  },
  {
   "attachments": {},
   "cell_type": "markdown",
   "metadata": {},
   "source": [
    "## Stage 2 - create and initialize a model"
   ]
  },
  {
   "cell_type": "code",
   "execution_count": 7,
   "metadata": {
    "deletable": false,
    "name": "mltkc_init"
   },
   "outputs": [],
   "source": [
    "# initialize your model\n",
    "# available inputs: data and parameters\n",
    "# returns the model object which will be used as a reference to call fit, apply and summary subsequently\n",
    "def init(df,param):\n",
    "    model = {}\n",
    "    model['hyperparameter'] = 0\n",
    "    model['desc'] = \"msticpy ioc enrichment from process command line\"\n",
    "    return model"
   ]
  },
  {
   "cell_type": "code",
   "execution_count": null,
   "metadata": {
    "deletable": false,
    "name": "mltkc_apply"
   },
   "outputs": [],
   "source": []
  },
  {
   "cell_type": "code",
   "execution_count": 8,
   "metadata": {
    "scrolled": true
   },
   "outputs": [
    {
     "name": "stdout",
     "output_type": "stream",
     "text": [
      "{'hyperparameter': 0, 'desc': 'msticpy ioc enrichment from process command line'}\n"
     ]
    }
   ],
   "source": [
    "# THIS CELL IS NOT EXPORTED - free notebook cell for testing or development purposes\n",
    "model = init(df,param)\n",
    "print(model)"
   ]
  },
  {
   "attachments": {},
   "cell_type": "markdown",
   "metadata": {},
   "source": [
    "## fit the model"
   ]
  },
  {
   "cell_type": "code",
   "execution_count": 9,
   "metadata": {
    "deletable": false,
    "name": "mltkc_fit"
   },
   "outputs": [],
   "source": [
    "# train your model\n",
    "# returns a fit info json object and may modify the model object\n",
    "def fit(model,df,param):\n",
    "    # model.fit()\n",
    "    info = {\"message\": \"passthru model creating the model's json file\"}\n",
    "    return info"
   ]
  },
  {
   "cell_type": "code",
   "execution_count": 10,
   "metadata": {},
   "outputs": [
    {
     "name": "stdout",
     "output_type": "stream",
     "text": [
      "{'message': \"passthru model creating the model's json file\"}\n"
     ]
    }
   ],
   "source": [
    "# THIS CELL IS NOT EXPORTED - free notebook cell for testing or development purposes\n",
    "print(fit(model,df,param))"
   ]
  },
  {
   "attachments": {},
   "cell_type": "markdown",
   "metadata": {},
   "source": [
    "## apply the model"
   ]
  },
  {
   "cell_type": "code",
   "execution_count": 13,
   "metadata": {},
   "outputs": [],
   "source": [
    "# NOT EXPORTED (just for debugging)\n",
    "def join_result(dec_df,ioc_input):\n",
    "    for input_string, iocs in ioc_input.items():\n",
    "        j=0\n",
    "        while j < len(dec_df['decoded_string']):\n",
    "            if dec_df['decode_validated'][j] == input_string:\n",
    "                dec_df.at[dec_df.index[j], 'ioc_ipv4'] = \",\".join(iocs[\"ipv4\"])\n",
    "                dec_df.at[dec_df.index[j], 'ioc_url'] = \",\".join(iocs[\"url\"])\n",
    "            j+=1    \n",
    "    return dec_df[[\"ParentCommandLine\",\"decode_validated\",\"ioc_ipv4\",\"ioc_url\"]]"
   ]
  },
  {
   "cell_type": "code",
   "execution_count": 13,
   "metadata": {},
   "outputs": [],
   "source": [
    "# NOT EXPORTED (just for debugging)\n",
    "def format_ioc(ioc_df):\n",
    "    ioc_input = {}\n",
    "    for row in ioc_df.itertuples():\n",
    "        if not row.Input in ioc_input:\n",
    "            ioc_input[row.Input] = { \"ipv4\":[],\"url\":[] }\n",
    "        if row.IoCType==\"ipv4\":\n",
    "            ioc_input[row.Input][\"ipv4\"].append(row.Observable)\n",
    "        elif row.IoCType==\"url\":\n",
    "            url = row.Observable\n",
    "        elif row.IoCType==\"linux_path\" and row.Observable[0]==\"/\" and \".php\"in row.Observable.split(\";\")[0]:\n",
    "            url_path = row.Observable.split(\";\")[0].rstrip(\"'\").rstrip('\"').rstrip()\n",
    "            uri = url + url_path\n",
    "            ioc_input[row.Input][\"url\"].append(uri)\n",
    "    return ioc_input"
   ]
  },
  {
   "cell_type": "code",
   "execution_count": 16,
   "metadata": {},
   "outputs": [],
   "source": [
    "# NOT EXPORTED\n",
    "def extract_ioc(dec_df):\n",
    "    i=0\n",
    "    while i < len(dec_df[\"decoded_string\"]):\n",
    "        dec_df.at[dec_df.index[i], 'decode_validated'] = dec_df[\"decoded_string\"][i].replace(\"\\x00\",\"\")\n",
    "        i+=1\n",
    "    ioc_df = dec_df.mp.ioc_extract(columns=['decode_validated'],include_paths=True,\\\n",
    "                ioc_types=['ipv4','ipv6','dns','url','email','windows_path','linux_path','md5_hash','sha1_hash','sha256_hash'])\n",
    "    return ioc_df"
   ]
  },
  {
   "cell_type": "code",
   "execution_count": 21,
   "metadata": {
    "name": "mltkc_apply"
   },
   "outputs": [],
   "source": [
    "# apply your model\n",
    "# returns the calculated results\n",
    "def apply(model,df,param):  \n",
    "    mp.init_notebook()\n",
    "    \n",
    "    # decode base64\n",
    "    dec_df = mp.transform.base64unpack.unpack_df(data=df, column='ParentCommandLine')\n",
    "    # remove nullbyte \\x00\n",
    "    i=0\n",
    "    while i < len(dec_df[\"decoded_string\"]):\n",
    "        dec_df.at[dec_df.index[i], 'decode_validated'] = dec_df[\"decoded_string\"][i].replace(\"\\x00\",\"\")\n",
    "        i+=1\n",
    "    # extract ioc\n",
    "    ioc_df = dec_df.mp.ioc_extract(columns=['decode_validated'],include_paths=True,\\\n",
    "                ioc_types=['ipv4','ipv6','dns','url','email','windows_path','linux_path','md5_hash','sha1_hash','sha256_hash'])\n",
    "    # format ioc to dict\n",
    "    ioc_input = {}\n",
    "    for row in ioc_df.itertuples():\n",
    "        if not row.Input in ioc_input:\n",
    "            ioc_input[row.Input] = { \"ipv4\":[],\"url\":[] }\n",
    "        if row.IoCType==\"ipv4\":\n",
    "            ioc_input[row.Input][\"ipv4\"].append(row.Observable)\n",
    "        elif row.IoCType==\"url\":\n",
    "            url = row.Observable\n",
    "        elif row.IoCType==\"linux_path\" and row.Observable[0]==\"/\" and \".php\"in row.Observable.split(\";\")[0]:\n",
    "            url_path = row.Observable.split(\";\")[0].rstrip(\"'\").rstrip('\"').rstrip()\n",
    "            uri = url + url_path\n",
    "            ioc_input[row.Input][\"url\"].append(uri)    \n",
    "    \n",
    "    # join result\n",
    "    for input_string, iocs in ioc_input.items():\n",
    "        j=0\n",
    "        while j < len(dec_df['decoded_string']):\n",
    "            if dec_df['decode_validated'][j] == input_string:\n",
    "                dec_df.at[dec_df.index[j], 'ioc_ipv4'] = \",\".join(iocs[\"ipv4\"])\n",
    "                dec_df.at[dec_df.index[j], 'ioc_url'] = \",\".join(iocs[\"url\"])\n",
    "            j+=1 \n",
    "    dec_ioc_df = dec_df[[\"ParentCommandLine\",\"decode_validated\",\"ioc_ipv4\",\"ioc_url\"]]\n",
    "\n",
    "    # ipwhois enrichment \n",
    "    dec_ioc_enrich_df = dec_ioc_df.mp.whois(ip_column=\"ioc_ipv4\")        \n",
    "\n",
    "    return dec_ioc_enrich_df[[\"ParentCommandLine\",\"decode_validated\",\"ioc_ipv4\",\"ioc_url\",\"asn\",\"asn_country_code\",\"asn_description\"]] #dec_ioc_enrich_df_completed   \n",
    "    "
   ]
  },
  {
   "cell_type": "code",
   "execution_count": null,
   "metadata": {},
   "outputs": [],
   "source": [
    "# THIS CELL IS NOT EXPORTED - free notebook cell for testing or development purposes\n",
    "print(apply(model,df,param))"
   ]
  },
  {
   "attachments": {},
   "cell_type": "markdown",
   "metadata": {},
   "source": [
    "## Stage 5 - save the model"
   ]
  },
  {
   "cell_type": "code",
   "execution_count": 13,
   "metadata": {
    "deletable": false,
    "name": "mltkc_save"
   },
   "outputs": [],
   "source": [
    "# save model to name in expected convention \"<algo_name>_<model_name>\"\n",
    "def save(model,name):\n",
    "    with open(MODEL_DIRECTORY + name + \".json\", 'w') as file:\n",
    "        json.dump(model, file)\n",
    "    return model"
   ]
  },
  {
   "cell_type": "code",
   "execution_count": 14,
   "metadata": {},
   "outputs": [
    {
     "data": {
      "text/plain": [
       "{'hyperparameter': 0,\n",
       " 'desc': 'msticpy ioc enrichment from process command line'}"
      ]
     },
     "execution_count": 14,
     "metadata": {},
     "output_type": "execute_result"
    }
   ],
   "source": [
    "save(model,algo_name+\"_\"+model_name)"
   ]
  },
  {
   "attachments": {},
   "cell_type": "markdown",
   "metadata": {},
   "source": [
    "## Stage 6 - load the model"
   ]
  },
  {
   "cell_type": "code",
   "execution_count": 15,
   "metadata": {
    "deletable": false,
    "name": "mltkc_load"
   },
   "outputs": [],
   "source": [
    "# load model from name in expected convention \"<algo_name>_<model_name>\"\n",
    "def load(name):\n",
    "    model = {}\n",
    "    with open(MODEL_DIRECTORY + name + \".json\", 'r') as file:\n",
    "        model = json.load(file)\n",
    "    return model"
   ]
  },
  {
   "cell_type": "code",
   "execution_count": 16,
   "metadata": {},
   "outputs": [
    {
     "data": {
      "text/plain": [
       "{'hyperparameter': 0,\n",
       " 'desc': 'msticpy ioc enrichment from process command line'}"
      ]
     },
     "execution_count": 16,
     "metadata": {},
     "output_type": "execute_result"
    }
   ],
   "source": [
    "load(algo_name+\"_\"+model_name)"
   ]
  },
  {
   "attachments": {},
   "cell_type": "markdown",
   "metadata": {},
   "source": [
    "## Stage 7 - provide a summary of the model"
   ]
  },
  {
   "cell_type": "code",
   "execution_count": 17,
   "metadata": {
    "deletable": false,
    "name": "mltkc_summary"
   },
   "outputs": [],
   "source": [
    "# return a model summary\n",
    "def summary(model=None):\n",
    "    returns = {\"version\": {\"numpy\": np.__version__, \"pandas\": pd.__version__} ,\"desc\": \"msticpy ioc enrichment from process command line\"}\n",
    "    return returns"
   ]
  },
  {
   "attachments": {},
   "cell_type": "markdown",
   "metadata": {},
   "source": [
    "After implementing your fit, apply, save and load you can train your model:<br>\n",
    "\n",
    "index=botsv2 \"powershell\" \"-enc\" source=\"WinEventLog*Microsoft-Windows-Sysmon*Operational*\" <br>\n",
    "| where LIKE(ParentCommandLine,\"%powershell%-enc%\") | stats count by ParentCommandLine <br>\n",
    "| fit MLTKContainer algo=msticpy_powershell_ioc ParentCommandLine into app:process_b64_iocs_enrich<br>"
   ]
  },
  {
   "attachments": {},
   "cell_type": "markdown",
   "metadata": {},
   "source": [
    "Or apply your model:<br>\n",
    "\n",
    "index=botsv2 \"powershell\" \"-enc\" source=\"WinEventLog*Microsoft-Windows-Sysmon*Operational*\"<br>\n",
    "| where LIKE(ParentCommandLine,\"%powershell%-enc%\") | stats count by ParentCommandLine<br>\n",
    "| apply process_b64_iocs_enrich<br>"
   ]
  },
  {
   "cell_type": "code",
   "execution_count": null,
   "metadata": {},
   "outputs": [
    {
     "data": {
      "text/plain": [
       "{'version': {'numpy': '1.22.1', 'pandas': '1.5.3'},\n",
       " 'desc': 'msticpy ioc enrichment from process command line'}"
      ]
     },
     "execution_count": 18,
     "metadata": {},
     "output_type": "execute_result"
    }
   ],
   "source": [
    "summary()"
   ]
  },
  {
   "cell_type": "code",
   "execution_count": null,
   "metadata": {},
   "outputs": [],
   "source": []
  },
  {
   "cell_type": "code",
   "execution_count": null,
   "metadata": {},
   "outputs": [],
   "source": []
  },
  {
   "cell_type": "code",
   "execution_count": null,
   "metadata": {},
   "outputs": [],
   "source": []
  },
  {
   "attachments": {},
   "cell_type": "markdown",
   "metadata": {},
   "source": [
    "## Send data back to Splunk HEC\n",
    "When you configured the Splunk HEC Settings in the DSDL app you can easily send back data to an index with [Splunk's HTTP Event Collector (HEC)](https://docs.splunk.com/Documentation/Splunk/latest/Data/UsetheHTTPEventCollector). Read more about data formats and options in the [documentation](https://docs.splunk.com/Documentation/Splunk/latest/Data/FormateventsforHTTPEventCollector#Event_metadata).\n",
    "\n",
    "### Use cases\n",
    "- you want to offload longer running, possibly distributed computations that need to deliver results asynchroneously back into Splunk. \n",
    "- you might not want to present results back into the search pipeline after your `| fit` or `| apply` command. \n",
    "- you can easily utilize this approach for any logging purposes or other profiling tasks in your ML code so you can actively monitor and analyze your processes.\n",
    "\n",
    "### Example"
   ]
  },
  {
   "cell_type": "code",
   "execution_count": 19,
   "metadata": {},
   "outputs": [],
   "source": [
    "from dsdlsupport import SplunkHEC as SplunkHEC\n",
    "hec = SplunkHEC.SplunkHEC()"
   ]
  },
  {
   "cell_type": "code",
   "execution_count": null,
   "metadata": {},
   "outputs": [],
   "source": [
    "# example to send 10 hello world events\n",
    "response = hec.send_hello_world(10)"
   ]
  },
  {
   "cell_type": "code",
   "execution_count": null,
   "metadata": {},
   "outputs": [],
   "source": [
    "print(\"HEC endpoint %s \\nreturned with status code %s \\nand response message: %s\" % (response.url, response.status_code, response.text))"
   ]
  },
  {
   "cell_type": "code",
   "execution_count": 21,
   "metadata": {},
   "outputs": [],
   "source": [
    "# example to send a JSON object, e.g. to log some data\n",
    "from datetime import datetime\n",
    "response = hec.send({'event': {'message': 'operation done', 'log_level': 'INFO' }, 'time': datetime.now().timestamp()})"
   ]
  },
  {
   "cell_type": "code",
   "execution_count": null,
   "metadata": {},
   "outputs": [],
   "source": [
    "print(\"HEC endpoint %s \\nreturned with status code %s \\nand response message: %s\" % (response.url, response.status_code, response.text))"
   ]
  },
  {
   "attachments": {},
   "cell_type": "markdown",
   "metadata": {},
   "source": [
    "## End of Stages\n",
    "All subsequent cells are not tagged and can be used for further freeform code"
   ]
  },
  {
   "cell_type": "code",
   "execution_count": null,
   "metadata": {},
   "outputs": [],
   "source": []
  },
  {
   "cell_type": "code",
   "execution_count": null,
   "metadata": {},
   "outputs": [],
   "source": []
  }
 ],
 "metadata": {
  "kernelspec": {
   "display_name": "Python 3 (ipykernel)",
   "language": "python",
   "name": "python3"
  },
  "language_info": {
   "codemirror_mode": {
    "name": "ipython",
    "version": 3
   },
   "file_extension": ".py",
   "mimetype": "text/x-python",
   "name": "python",
   "nbconvert_exporter": "python",
   "pygments_lexer": "ipython3",
   "version": "3.9.13"
  }
 },
 "nbformat": 4,
 "nbformat_minor": 4
}
