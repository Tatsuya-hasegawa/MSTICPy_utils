{
 "cells": [
  {
   "attachments": {},
   "cell_type": "markdown",
   "metadata": {},
   "source": [
    "## Anomary Detection with timeseries_anomalies_stl \n",
    "\n",
    "data: splunk buttercup game added iplocation result"
   ]
  },
  {
   "cell_type": "code",
   "execution_count": 22,
   "metadata": {},
   "outputs": [
    {
     "name": "stdout",
     "output_type": "stream",
     "text": [
      "Requirement already satisfied: statsmodels in /Users/hacket/opt/anaconda3/envs/msticpy/lib/python3.9/site-packages (0.12.1)\n",
      "Collecting statsmodels\n",
      "  Downloading statsmodels-0.13.5-cp39-cp39-macosx_10_9_x86_64.whl (9.7 MB)\n",
      "\u001b[K     |████████████████████████████████| 9.7 MB 11.8 MB/s eta 0:00:01\n",
      "\u001b[?25hRequirement already satisfied: pandas>=0.25 in /Users/hacket/opt/anaconda3/envs/msticpy/lib/python3.9/site-packages (from statsmodels) (1.4.2)\n",
      "Requirement already satisfied: numpy>=1.17 in /Users/hacket/opt/anaconda3/envs/msticpy/lib/python3.9/site-packages (from statsmodels) (1.22.3)\n",
      "Requirement already satisfied: packaging>=21.3 in /Users/hacket/opt/anaconda3/envs/msticpy/lib/python3.9/site-packages (from statsmodels) (21.3)\n",
      "Requirement already satisfied: scipy>=1.3 in /Users/hacket/opt/anaconda3/envs/msticpy/lib/python3.9/site-packages (from statsmodels) (1.10.1)\n",
      "Requirement already satisfied: patsy>=0.5.2 in /Users/hacket/opt/anaconda3/envs/msticpy/lib/python3.9/site-packages (from statsmodels) (0.5.3)\n",
      "Requirement already satisfied: pyparsing!=3.0.5,>=2.0.2 in /Users/hacket/opt/anaconda3/envs/msticpy/lib/python3.9/site-packages (from packaging>=21.3->statsmodels) (3.0.4)\n",
      "Requirement already satisfied: python-dateutil>=2.8.1 in /Users/hacket/opt/anaconda3/envs/msticpy/lib/python3.9/site-packages (from pandas>=0.25->statsmodels) (2.8.2)\n",
      "Requirement already satisfied: pytz>=2020.1 in /Users/hacket/opt/anaconda3/envs/msticpy/lib/python3.9/site-packages (from pandas>=0.25->statsmodels) (2021.3)\n",
      "Requirement already satisfied: six in /Users/hacket/opt/anaconda3/envs/msticpy/lib/python3.9/site-packages (from patsy>=0.5.2->statsmodels) (1.16.0)\n",
      "Installing collected packages: statsmodels\n",
      "  Attempting uninstall: statsmodels\n",
      "    Found existing installation: statsmodels 0.12.1\n",
      "    Uninstalling statsmodels-0.12.1:\n",
      "      Successfully uninstalled statsmodels-0.12.1\n",
      "Successfully installed statsmodels-0.13.5\n"
     ]
    }
   ],
   "source": [
    "%pip install statsmodels --upgrade"
   ]
  },
  {
   "cell_type": "code",
   "execution_count": 51,
   "metadata": {},
   "outputs": [
    {
     "name": "stdout",
     "output_type": "stream",
     "text": [
      "Mon May  8 13:18:46 JST 2023\n",
      "Python 3.9.12\n",
      "sys.version\n",
      " 3.9.12 (main, Apr  5 2022, 01:53:17) \n",
      "[Clang 12.0.0 ]\n"
     ]
    }
   ],
   "source": [
    "\n",
    "!date\n",
    "!python -V # check if python version is later than 3.8\n",
    "\n",
    "import sys\n",
    "print(\"sys.version\\n\",sys.version)"
   ]
  },
  {
   "cell_type": "code",
   "execution_count": 52,
   "metadata": {},
   "outputs": [
    {
     "name": "stdout",
     "output_type": "stream",
     "text": [
      "2.4.0\n"
     ]
    }
   ],
   "source": [
    "import msticpy\n",
    "print(msticpy.__version__)"
   ]
  },
  {
   "cell_type": "code",
   "execution_count": null,
   "metadata": {},
   "outputs": [],
   "source": [
    "#mp.init_notebook()"
   ]
  },
  {
   "cell_type": "code",
   "execution_count": 139,
   "metadata": {},
   "outputs": [
    {
     "data": {
      "text/html": [
       "<div>\n",
       "<style scoped>\n",
       "    .dataframe tbody tr th:only-of-type {\n",
       "        vertical-align: middle;\n",
       "    }\n",
       "\n",
       "    .dataframe tbody tr th {\n",
       "        vertical-align: top;\n",
       "    }\n",
       "\n",
       "    .dataframe thead th {\n",
       "        text-align: right;\n",
       "    }\n",
       "</style>\n",
       "<table border=\"1\" class=\"dataframe\">\n",
       "  <thead>\n",
       "    <tr style=\"text-align: right;\">\n",
       "      <th></th>\n",
       "      <th>Country</th>\n",
       "      <th>action</th>\n",
       "      <th>bytes</th>\n",
       "      <th>req_time</th>\n",
       "      <th>status</th>\n",
       "      <th>date_clock</th>\n",
       "      <th>count</th>\n",
       "    </tr>\n",
       "  </thead>\n",
       "  <tbody>\n",
       "    <tr>\n",
       "      <th>0</th>\n",
       "      <td>Netherlands</td>\n",
       "      <td>addtocart</td>\n",
       "      <td>2744</td>\n",
       "      <td>08/Sep/2022:07:19:24</td>\n",
       "      <td>200</td>\n",
       "      <td>2022-09-08 07</td>\n",
       "      <td>1</td>\n",
       "    </tr>\n",
       "    <tr>\n",
       "      <th>1</th>\n",
       "      <td>Netherlands</td>\n",
       "      <td>purchase</td>\n",
       "      <td>1736</td>\n",
       "      <td>08/Sep/2022:07:19:26</td>\n",
       "      <td>200</td>\n",
       "      <td>2022-09-08 07</td>\n",
       "      <td>1</td>\n",
       "    </tr>\n",
       "    <tr>\n",
       "      <th>2</th>\n",
       "      <td>Netherlands</td>\n",
       "      <td>purchase</td>\n",
       "      <td>989</td>\n",
       "      <td>08/Sep/2022:07:19:25</td>\n",
       "      <td>200</td>\n",
       "      <td>2022-09-08 07</td>\n",
       "      <td>1</td>\n",
       "    </tr>\n",
       "    <tr>\n",
       "      <th>3</th>\n",
       "      <td>Netherlands</td>\n",
       "      <td>addtocart</td>\n",
       "      <td>1581</td>\n",
       "      <td>08/Sep/2022:07:19:24</td>\n",
       "      <td>200</td>\n",
       "      <td>2022-09-08 07</td>\n",
       "      <td>1</td>\n",
       "    </tr>\n",
       "    <tr>\n",
       "      <th>4</th>\n",
       "      <td>Netherlands</td>\n",
       "      <td>NaN</td>\n",
       "      <td>749</td>\n",
       "      <td>08/Sep/2022:07:19:24</td>\n",
       "      <td>200</td>\n",
       "      <td>2022-09-08 07</td>\n",
       "      <td>1</td>\n",
       "    </tr>\n",
       "  </tbody>\n",
       "</table>\n",
       "</div>"
      ],
      "text/plain": [
       "       Country     action  bytes              req_time  status     date_clock  \\\n",
       "0  Netherlands  addtocart   2744  08/Sep/2022:07:19:24     200  2022-09-08 07   \n",
       "1  Netherlands   purchase   1736  08/Sep/2022:07:19:26     200  2022-09-08 07   \n",
       "2  Netherlands   purchase    989  08/Sep/2022:07:19:25     200  2022-09-08 07   \n",
       "3  Netherlands  addtocart   1581  08/Sep/2022:07:19:24     200  2022-09-08 07   \n",
       "4  Netherlands        NaN    749  08/Sep/2022:07:19:24     200  2022-09-08 07   \n",
       "\n",
       "   count  \n",
       "0      1  \n",
       "1      1  \n",
       "2      1  \n",
       "3      1  \n",
       "4      1  "
      ]
     },
     "execution_count": 139,
     "metadata": {},
     "output_type": "execute_result"
    }
   ],
   "source": [
    "import pandas as pd\n",
    "\n",
    "df = pd.read_csv(\n",
    "    \"../data/buttercupgame_iplocation.csv\", infer_datetime_format=True,\n",
    "    usecols=[\"req_time\",\"bytes\",\"Country\",\"status\",\"action\"]\n",
    "    )\n",
    "df[\"date_clock\"] = pd.to_datetime(df[\"req_time\"],  format=\"%d/%b/%Y:%H:%M:%S\", errors='coerce').dt.strftime(\"%Y-%m-%d %H\")\n",
    "df['count'] = 1\n",
    "df.head()"
   ]
  },
  {
   "cell_type": "code",
   "execution_count": 141,
   "metadata": {},
   "outputs": [
    {
     "data": {
      "text/html": [
       "<div>\n",
       "<style scoped>\n",
       "    .dataframe tbody tr th:only-of-type {\n",
       "        vertical-align: middle;\n",
       "    }\n",
       "\n",
       "    .dataframe tbody tr th {\n",
       "        vertical-align: top;\n",
       "    }\n",
       "\n",
       "    .dataframe thead th {\n",
       "        text-align: right;\n",
       "    }\n",
       "</style>\n",
       "<table border=\"1\" class=\"dataframe\">\n",
       "  <thead>\n",
       "    <tr style=\"text-align: right;\">\n",
       "      <th></th>\n",
       "      <th>date_clock</th>\n",
       "      <th>action</th>\n",
       "      <th>count</th>\n",
       "    </tr>\n",
       "  </thead>\n",
       "  <tbody>\n",
       "    <tr>\n",
       "      <th>0</th>\n",
       "      <td>2022-09-01 18</td>\n",
       "      <td>addtocart</td>\n",
       "      <td>17</td>\n",
       "    </tr>\n",
       "    <tr>\n",
       "      <th>1</th>\n",
       "      <td>2022-09-01 18</td>\n",
       "      <td>changequantity</td>\n",
       "      <td>7</td>\n",
       "    </tr>\n",
       "    <tr>\n",
       "      <th>2</th>\n",
       "      <td>2022-09-01 18</td>\n",
       "      <td>purchase</td>\n",
       "      <td>17</td>\n",
       "    </tr>\n",
       "    <tr>\n",
       "      <th>3</th>\n",
       "      <td>2022-09-01 18</td>\n",
       "      <td>remove</td>\n",
       "      <td>9</td>\n",
       "    </tr>\n",
       "    <tr>\n",
       "      <th>4</th>\n",
       "      <td>2022-09-01 18</td>\n",
       "      <td>view</td>\n",
       "      <td>20</td>\n",
       "    </tr>\n",
       "  </tbody>\n",
       "</table>\n",
       "</div>"
      ],
      "text/plain": [
       "      date_clock          action  count\n",
       "0  2022-09-01 18       addtocart     17\n",
       "1  2022-09-01 18  changequantity      7\n",
       "2  2022-09-01 18        purchase     17\n",
       "3  2022-09-01 18          remove      9\n",
       "4  2022-09-01 18            view     20"
      ]
     },
     "execution_count": 141,
     "metadata": {},
     "output_type": "execute_result"
    }
   ],
   "source": [
    "\n",
    "\n",
    "df_action = df.groupby(['date_clock','action'])['count'].sum().reset_index()\n",
    "df_action.head()\n"
   ]
  },
  {
   "cell_type": "code",
   "execution_count": 142,
   "metadata": {},
   "outputs": [
    {
     "data": {
      "text/html": [
       "<div>\n",
       "<style scoped>\n",
       "    .dataframe tbody tr th:only-of-type {\n",
       "        vertical-align: middle;\n",
       "    }\n",
       "\n",
       "    .dataframe tbody tr th {\n",
       "        vertical-align: top;\n",
       "    }\n",
       "\n",
       "    .dataframe thead th {\n",
       "        text-align: right;\n",
       "    }\n",
       "</style>\n",
       "<table border=\"1\" class=\"dataframe\">\n",
       "  <thead>\n",
       "    <tr style=\"text-align: right;\">\n",
       "      <th></th>\n",
       "      <th>date_clock</th>\n",
       "      <th>action</th>\n",
       "      <th>count</th>\n",
       "    </tr>\n",
       "  </thead>\n",
       "  <tbody>\n",
       "    <tr>\n",
       "      <th>0</th>\n",
       "      <td>2022-09-01 18</td>\n",
       "      <td>addtocart</td>\n",
       "      <td>17</td>\n",
       "    </tr>\n",
       "    <tr>\n",
       "      <th>5</th>\n",
       "      <td>2022-09-01 19</td>\n",
       "      <td>addtocart</td>\n",
       "      <td>40</td>\n",
       "    </tr>\n",
       "    <tr>\n",
       "      <th>10</th>\n",
       "      <td>2022-09-01 20</td>\n",
       "      <td>addtocart</td>\n",
       "      <td>26</td>\n",
       "    </tr>\n",
       "    <tr>\n",
       "      <th>15</th>\n",
       "      <td>2022-09-01 21</td>\n",
       "      <td>addtocart</td>\n",
       "      <td>46</td>\n",
       "    </tr>\n",
       "    <tr>\n",
       "      <th>20</th>\n",
       "      <td>2022-09-01 22</td>\n",
       "      <td>addtocart</td>\n",
       "      <td>24</td>\n",
       "    </tr>\n",
       "  </tbody>\n",
       "</table>\n",
       "</div>"
      ],
      "text/plain": [
       "       date_clock     action  count\n",
       "0   2022-09-01 18  addtocart     17\n",
       "5   2022-09-01 19  addtocart     40\n",
       "10  2022-09-01 20  addtocart     26\n",
       "15  2022-09-01 21  addtocart     46\n",
       "20  2022-09-01 22  addtocart     24"
      ]
     },
     "execution_count": 142,
     "metadata": {},
     "output_type": "execute_result"
    }
   ],
   "source": [
    "df_action = df_action[df_action.action==\"addtocart\"]\n",
    "df_action.head()"
   ]
  },
  {
   "cell_type": "code",
   "execution_count": 143,
   "metadata": {},
   "outputs": [
    {
     "data": {
      "text/html": [
       "<div>\n",
       "<style scoped>\n",
       "    .dataframe tbody tr th:only-of-type {\n",
       "        vertical-align: middle;\n",
       "    }\n",
       "\n",
       "    .dataframe tbody tr th {\n",
       "        vertical-align: top;\n",
       "    }\n",
       "\n",
       "    .dataframe thead th {\n",
       "        text-align: right;\n",
       "    }\n",
       "</style>\n",
       "<table border=\"1\" class=\"dataframe\">\n",
       "  <thead>\n",
       "    <tr style=\"text-align: right;\">\n",
       "      <th></th>\n",
       "      <th>date_clock</th>\n",
       "      <th>count</th>\n",
       "      <th>residual</th>\n",
       "      <th>trend</th>\n",
       "      <th>seasonal</th>\n",
       "      <th>weights</th>\n",
       "      <th>baseline</th>\n",
       "      <th>score</th>\n",
       "      <th>anomalies</th>\n",
       "    </tr>\n",
       "  </thead>\n",
       "  <tbody>\n",
       "    <tr>\n",
       "      <th>0</th>\n",
       "      <td>2022-09-01 18</td>\n",
       "      <td>17</td>\n",
       "      <td>-2</td>\n",
       "      <td>34</td>\n",
       "      <td>-14</td>\n",
       "      <td>1</td>\n",
       "      <td>19</td>\n",
       "      <td>-0.424389</td>\n",
       "      <td>0</td>\n",
       "    </tr>\n",
       "    <tr>\n",
       "      <th>1</th>\n",
       "      <td>2022-09-01 19</td>\n",
       "      <td>40</td>\n",
       "      <td>1</td>\n",
       "      <td>34</td>\n",
       "      <td>4</td>\n",
       "      <td>1</td>\n",
       "      <td>38</td>\n",
       "      <td>0.201091</td>\n",
       "      <td>0</td>\n",
       "    </tr>\n",
       "    <tr>\n",
       "      <th>2</th>\n",
       "      <td>2022-09-01 20</td>\n",
       "      <td>26</td>\n",
       "      <td>-3</td>\n",
       "      <td>34</td>\n",
       "      <td>-4</td>\n",
       "      <td>1</td>\n",
       "      <td>29</td>\n",
       "      <td>-0.632882</td>\n",
       "      <td>0</td>\n",
       "    </tr>\n",
       "    <tr>\n",
       "      <th>3</th>\n",
       "      <td>2022-09-01 21</td>\n",
       "      <td>46</td>\n",
       "      <td>3</td>\n",
       "      <td>34</td>\n",
       "      <td>8</td>\n",
       "      <td>1</td>\n",
       "      <td>42</td>\n",
       "      <td>0.618078</td>\n",
       "      <td>0</td>\n",
       "    </tr>\n",
       "    <tr>\n",
       "      <th>4</th>\n",
       "      <td>2022-09-01 22</td>\n",
       "      <td>24</td>\n",
       "      <td>-2</td>\n",
       "      <td>34</td>\n",
       "      <td>-7</td>\n",
       "      <td>1</td>\n",
       "      <td>26</td>\n",
       "      <td>-0.424389</td>\n",
       "      <td>0</td>\n",
       "    </tr>\n",
       "  </tbody>\n",
       "</table>\n",
       "</div>"
      ],
      "text/plain": [
       "      date_clock  count  residual  trend  seasonal  weights  baseline  \\\n",
       "0  2022-09-01 18     17        -2     34       -14        1        19   \n",
       "1  2022-09-01 19     40         1     34         4        1        38   \n",
       "2  2022-09-01 20     26        -3     34        -4        1        29   \n",
       "3  2022-09-01 21     46         3     34         8        1        42   \n",
       "4  2022-09-01 22     24        -2     34        -7        1        26   \n",
       "\n",
       "      score  anomalies  \n",
       "0 -0.424389          0  \n",
       "1  0.201091          0  \n",
       "2 -0.632882          0  \n",
       "3  0.618078          0  \n",
       "4 -0.424389          0  "
      ]
     },
     "execution_count": 143,
     "metadata": {},
     "output_type": "execute_result"
    }
   ],
   "source": [
    "from msticpy.analysis.timeseries import timeseries_anomalies_stl\n",
    "df_count = df_action[['date_clock','count']]\n",
    "df_count = df_count.set_index('date_clock')\n",
    "output = timeseries_anomalies_stl(df_count)\n",
    "output.head()"
   ]
  },
  {
   "cell_type": "code",
   "execution_count": 144,
   "metadata": {},
   "outputs": [
    {
     "data": {
      "text/html": [
       "<div>\n",
       "<style scoped>\n",
       "    .dataframe tbody tr th:only-of-type {\n",
       "        vertical-align: middle;\n",
       "    }\n",
       "\n",
       "    .dataframe tbody tr th {\n",
       "        vertical-align: top;\n",
       "    }\n",
       "\n",
       "    .dataframe thead th {\n",
       "        text-align: right;\n",
       "    }\n",
       "</style>\n",
       "<table border=\"1\" class=\"dataframe\">\n",
       "  <thead>\n",
       "    <tr style=\"text-align: right;\">\n",
       "      <th></th>\n",
       "      <th>date_clock</th>\n",
       "      <th>count</th>\n",
       "      <th>residual</th>\n",
       "      <th>trend</th>\n",
       "      <th>seasonal</th>\n",
       "      <th>weights</th>\n",
       "      <th>baseline</th>\n",
       "      <th>score</th>\n",
       "      <th>anomalies</th>\n",
       "    </tr>\n",
       "  </thead>\n",
       "  <tbody>\n",
       "    <tr>\n",
       "      <th>94</th>\n",
       "      <td>2022-09-05 16</td>\n",
       "      <td>52</td>\n",
       "      <td>15</td>\n",
       "      <td>33</td>\n",
       "      <td>3</td>\n",
       "      <td>1</td>\n",
       "      <td>36</td>\n",
       "      <td>3.119998</td>\n",
       "      <td>1</td>\n",
       "    </tr>\n",
       "  </tbody>\n",
       "</table>\n",
       "</div>"
      ],
      "text/plain": [
       "       date_clock  count  residual  trend  seasonal  weights  baseline  \\\n",
       "94  2022-09-05 16     52        15     33         3        1        36   \n",
       "\n",
       "       score  anomalies  \n",
       "94  3.119998          1  "
      ]
     },
     "execution_count": 144,
     "metadata": {},
     "output_type": "execute_result"
    }
   ],
   "source": [
    "output[output.anomalies == 1]"
   ]
  },
  {
   "cell_type": "code",
   "execution_count": 146,
   "metadata": {},
   "outputs": [
    {
     "name": "stderr",
     "output_type": "stream",
     "text": [
      "/var/folders/9j/5q4qwns11lv47mtj3ykbp5_40000gn/T/ipykernel_3437/3785166171.py:7: DeprecationWarning: Call to deprecated function (or staticmethod) display_timeseries_anomolies. (Will be removed in version 2.0.0. Please use display_timeseries_anomalies) -- Deprecated since version 1.7.0.\n",
      "  timeseries_anomalies_plot = display_timeseries_anomolies(\n"
     ]
    },
    {
     "data": {
      "text/html": [
       "\n",
       "    <div class=\"bk-root\">\n",
       "        <a href=\"https://bokeh.org\" target=\"_blank\" class=\"bk-logo bk-logo-small bk-logo-notebook\"></a>\n",
       "        <span id=\"8346\">Loading BokehJS ...</span>\n",
       "    </div>"
      ]
     },
     "metadata": {},
     "output_type": "display_data"
    },
    {
     "data": {
      "application/javascript": "\n(function(root) {\n  function now() {\n    return new Date();\n  }\n\n  const force = true;\n\n  if (typeof root._bokeh_onload_callbacks === \"undefined\" || force === true) {\n    root._bokeh_onload_callbacks = [];\n    root._bokeh_is_loading = undefined;\n  }\n\n  const JS_MIME_TYPE = 'application/javascript';\n  const HTML_MIME_TYPE = 'text/html';\n  const EXEC_MIME_TYPE = 'application/vnd.bokehjs_exec.v0+json';\n  const CLASS_NAME = 'output_bokeh rendered_html';\n\n  /**\n   * Render data to the DOM node\n   */\n  function render(props, node) {\n    const script = document.createElement(\"script\");\n    node.appendChild(script);\n  }\n\n  /**\n   * Handle when an output is cleared or removed\n   */\n  function handleClearOutput(event, handle) {\n    const cell = handle.cell;\n\n    const id = cell.output_area._bokeh_element_id;\n    const server_id = cell.output_area._bokeh_server_id;\n    // Clean up Bokeh references\n    if (id != null && id in Bokeh.index) {\n      Bokeh.index[id].model.document.clear();\n      delete Bokeh.index[id];\n    }\n\n    if (server_id !== undefined) {\n      // Clean up Bokeh references\n      const cmd_clean = \"from bokeh.io.state import curstate; print(curstate().uuid_to_server['\" + server_id + \"'].get_sessions()[0].document.roots[0]._id)\";\n      cell.notebook.kernel.execute(cmd_clean, {\n        iopub: {\n          output: function(msg) {\n            const id = msg.content.text.trim();\n            if (id in Bokeh.index) {\n              Bokeh.index[id].model.document.clear();\n              delete Bokeh.index[id];\n            }\n          }\n        }\n      });\n      // Destroy server and session\n      const cmd_destroy = \"import bokeh.io.notebook as ion; ion.destroy_server('\" + server_id + \"')\";\n      cell.notebook.kernel.execute(cmd_destroy);\n    }\n  }\n\n  /**\n   * Handle when a new output is added\n   */\n  function handleAddOutput(event, handle) {\n    const output_area = handle.output_area;\n    const output = handle.output;\n\n    // limit handleAddOutput to display_data with EXEC_MIME_TYPE content only\n    if ((output.output_type != \"display_data\") || (!Object.prototype.hasOwnProperty.call(output.data, EXEC_MIME_TYPE))) {\n      return\n    }\n\n    const toinsert = output_area.element.find(\".\" + CLASS_NAME.split(' ')[0]);\n\n    if (output.metadata[EXEC_MIME_TYPE][\"id\"] !== undefined) {\n      toinsert[toinsert.length - 1].firstChild.textContent = output.data[JS_MIME_TYPE];\n      // store reference to embed id on output_area\n      output_area._bokeh_element_id = output.metadata[EXEC_MIME_TYPE][\"id\"];\n    }\n    if (output.metadata[EXEC_MIME_TYPE][\"server_id\"] !== undefined) {\n      const bk_div = document.createElement(\"div\");\n      bk_div.innerHTML = output.data[HTML_MIME_TYPE];\n      const script_attrs = bk_div.children[0].attributes;\n      for (let i = 0; i < script_attrs.length; i++) {\n        toinsert[toinsert.length - 1].firstChild.setAttribute(script_attrs[i].name, script_attrs[i].value);\n        toinsert[toinsert.length - 1].firstChild.textContent = bk_div.children[0].textContent\n      }\n      // store reference to server id on output_area\n      output_area._bokeh_server_id = output.metadata[EXEC_MIME_TYPE][\"server_id\"];\n    }\n  }\n\n  function register_renderer(events, OutputArea) {\n\n    function append_mime(data, metadata, element) {\n      // create a DOM node to render to\n      const toinsert = this.create_output_subarea(\n        metadata,\n        CLASS_NAME,\n        EXEC_MIME_TYPE\n      );\n      this.keyboard_manager.register_events(toinsert);\n      // Render to node\n      const props = {data: data, metadata: metadata[EXEC_MIME_TYPE]};\n      render(props, toinsert[toinsert.length - 1]);\n      element.append(toinsert);\n      return toinsert\n    }\n\n    /* Handle when an output is cleared or removed */\n    events.on('clear_output.CodeCell', handleClearOutput);\n    events.on('delete.Cell', handleClearOutput);\n\n    /* Handle when a new output is added */\n    events.on('output_added.OutputArea', handleAddOutput);\n\n    /**\n     * Register the mime type and append_mime function with output_area\n     */\n    OutputArea.prototype.register_mime_type(EXEC_MIME_TYPE, append_mime, {\n      /* Is output safe? */\n      safe: true,\n      /* Index of renderer in `output_area.display_order` */\n      index: 0\n    });\n  }\n\n  // register the mime type if in Jupyter Notebook environment and previously unregistered\n  if (root.Jupyter !== undefined) {\n    const events = require('base/js/events');\n    const OutputArea = require('notebook/js/outputarea').OutputArea;\n\n    if (OutputArea.prototype.mime_types().indexOf(EXEC_MIME_TYPE) == -1) {\n      register_renderer(events, OutputArea);\n    }\n  }\n\n  \n  if (typeof (root._bokeh_timeout) === \"undefined\" || force === true) {\n    root._bokeh_timeout = Date.now() + 5000;\n    root._bokeh_failed_load = false;\n  }\n\n  const NB_LOAD_WARNING = {'data': {'text/html':\n     \"<div style='background-color: #fdd'>\\n\"+\n     \"<p>\\n\"+\n     \"BokehJS does not appear to have successfully loaded. If loading BokehJS from CDN, this \\n\"+\n     \"may be due to a slow or bad network connection. Possible fixes:\\n\"+\n     \"</p>\\n\"+\n     \"<ul>\\n\"+\n     \"<li>re-rerun `output_notebook()` to attempt to load from CDN again, or</li>\\n\"+\n     \"<li>use INLINE resources instead, as so:</li>\\n\"+\n     \"</ul>\\n\"+\n     \"<code>\\n\"+\n     \"from bokeh.resources import INLINE\\n\"+\n     \"output_notebook(resources=INLINE)\\n\"+\n     \"</code>\\n\"+\n     \"</div>\"}};\n\n  function display_loaded() {\n    const el = document.getElementById(\"8346\");\n    if (el != null) {\n      el.textContent = \"BokehJS is loading...\";\n    }\n    if (root.Bokeh !== undefined) {\n      if (el != null) {\n        el.textContent = \"BokehJS \" + root.Bokeh.version + \" successfully loaded.\";\n      }\n    } else if (Date.now() < root._bokeh_timeout) {\n      setTimeout(display_loaded, 100)\n    }\n  }\n\n\n  function run_callbacks() {\n    try {\n      root._bokeh_onload_callbacks.forEach(function(callback) {\n        if (callback != null)\n          callback();\n      });\n    } finally {\n      delete root._bokeh_onload_callbacks\n    }\n    console.debug(\"Bokeh: all callbacks have finished\");\n  }\n\n  function load_libs(css_urls, js_urls, callback) {\n    if (css_urls == null) css_urls = [];\n    if (js_urls == null) js_urls = [];\n\n    root._bokeh_onload_callbacks.push(callback);\n    if (root._bokeh_is_loading > 0) {\n      console.debug(\"Bokeh: BokehJS is being loaded, scheduling callback at\", now());\n      return null;\n    }\n    if (js_urls == null || js_urls.length === 0) {\n      run_callbacks();\n      return null;\n    }\n    console.debug(\"Bokeh: BokehJS not loaded, scheduling load and callback at\", now());\n    root._bokeh_is_loading = css_urls.length + js_urls.length;\n\n    function on_load() {\n      root._bokeh_is_loading--;\n      if (root._bokeh_is_loading === 0) {\n        console.debug(\"Bokeh: all BokehJS libraries/stylesheets loaded\");\n        run_callbacks()\n      }\n    }\n\n    function on_error(url) {\n      console.error(\"failed to load \" + url);\n    }\n\n    for (let i = 0; i < css_urls.length; i++) {\n      const url = css_urls[i];\n      const element = document.createElement(\"link\");\n      element.onload = on_load;\n      element.onerror = on_error.bind(null, url);\n      element.rel = \"stylesheet\";\n      element.type = \"text/css\";\n      element.href = url;\n      console.debug(\"Bokeh: injecting link tag for BokehJS stylesheet: \", url);\n      document.body.appendChild(element);\n    }\n\n    for (let i = 0; i < js_urls.length; i++) {\n      const url = js_urls[i];\n      const element = document.createElement('script');\n      element.onload = on_load;\n      element.onerror = on_error.bind(null, url);\n      element.async = false;\n      element.src = url;\n      console.debug(\"Bokeh: injecting script tag for BokehJS library: \", url);\n      document.head.appendChild(element);\n    }\n  };\n\n  function inject_raw_css(css) {\n    const element = document.createElement(\"style\");\n    element.appendChild(document.createTextNode(css));\n    document.body.appendChild(element);\n  }\n\n  \n  const js_urls = [\"https://cdn.bokeh.org/bokeh/release/bokeh-2.4.2.min.js\", \"https://cdn.bokeh.org/bokeh/release/bokeh-gl-2.4.2.min.js\", \"https://cdn.bokeh.org/bokeh/release/bokeh-widgets-2.4.2.min.js\", \"https://cdn.bokeh.org/bokeh/release/bokeh-tables-2.4.2.min.js\", \"https://cdn.bokeh.org/bokeh/release/bokeh-mathjax-2.4.2.min.js\"];\n  const css_urls = [];\n  \n\n  const inline_js = [\n    function(Bokeh) {\n      Bokeh.set_log_level(\"info\");\n    },\n    function(Bokeh) {\n    \n    \n    }\n  ];\n\n  function run_inline_js() {\n    \n    if (root.Bokeh !== undefined || force === true) {\n      \n    for (let i = 0; i < inline_js.length; i++) {\n      inline_js[i].call(root, root.Bokeh);\n    }\n    if (force === true) {\n        display_loaded();\n      }} else if (Date.now() < root._bokeh_timeout) {\n      setTimeout(run_inline_js, 100);\n    } else if (!root._bokeh_failed_load) {\n      console.log(\"Bokeh: BokehJS failed to load within specified timeout.\");\n      root._bokeh_failed_load = true;\n    } else if (force !== true) {\n      const cell = $(document.getElementById(\"8346\")).parents('.cell').data().cell;\n      cell.output_area.append_execute_result(NB_LOAD_WARNING)\n    }\n\n  }\n\n  if (root._bokeh_is_loading === 0) {\n    console.debug(\"Bokeh: BokehJS loaded, going straight to plotting\");\n    run_inline_js();\n  } else {\n    load_libs(css_urls, js_urls, function() {\n      console.debug(\"Bokeh: BokehJS plotting callback run at\", now());\n      run_inline_js();\n    });\n  }\n}(window));",
      "application/vnd.bokehjs_load.v0+json": ""
     },
     "metadata": {},
     "output_type": "display_data"
    },
    {
     "data": {
      "text/html": [
       "\n",
       "\n",
       "\n",
       "\n",
       "\n",
       "\n",
       "  <div class=\"bk-root\" id=\"33e232ab-a5ae-4857-bd62-01520a0427ac\" data-root-id=\"8563\"></div>\n"
      ]
     },
     "metadata": {},
     "output_type": "display_data"
    },
    {
     "data": {
      "application/javascript": "(function(root) {\n  function embed_document(root) {\n    \n  const docs_json = {\"70465022-a210-4640-b276-2bf87def5374\":{\"defs\":[],\"roots\":{\"references\":[{\"attributes\":{\"children\":[{\"id\":\"8380\"},{\"id\":\"8532\"}]},\"id\":\"8563\",\"type\":\"Column\"},{\"attributes\":{\"fill_alpha\":{\"value\":0.1},\"fill_color\":{\"value\":\"#1f77b4\"},\"hatch_alpha\":{\"value\":0.1},\"line_alpha\":{\"value\":0.1},\"line_color\":{\"value\":\"navy\"},\"x\":{\"field\":\"date_clock\"},\"y\":{\"field\":\"count\"}},\"id\":\"8418\",\"type\":\"Circle\"},{\"attributes\":{\"months\":[0,6]},\"id\":\"8440\",\"type\":\"MonthsTicker\"},{\"attributes\":{\"coordinates\":null,\"data_source\":{\"id\":\"8347\"},\"glyph\":{\"id\":\"8417\"},\"group\":null,\"hover_glyph\":null,\"muted_glyph\":{\"id\":\"8419\"},\"nonselection_glyph\":{\"id\":\"8418\"},\"view\":{\"id\":\"8421\"}},\"id\":\"8420\",\"type\":\"GlyphRenderer\"},{\"attributes\":{},\"id\":\"8441\",\"type\":\"YearsTicker\"},{\"attributes\":{\"mantissas\":[1,2,5],\"max_interval\":500.0,\"num_minor_ticks\":0},\"id\":\"8430\",\"type\":\"AdaptiveTicker\"},{\"attributes\":{\"click_policy\":\"hide\",\"coordinates\":null,\"group\":null,\"items\":[{\"id\":\"8443\"},{\"id\":\"8470\"},{\"id\":\"8500\"}],\"location\":\"top_left\"},\"id\":\"8442\",\"type\":\"Legend\"},{\"attributes\":{\"fill_alpha\":{\"value\":0.2},\"fill_color\":{\"value\":\"#1f77b4\"},\"hatch_alpha\":{\"value\":0.2},\"line_alpha\":{\"value\":0.2},\"line_color\":{\"value\":\"navy\"},\"x\":{\"field\":\"date_clock\"},\"y\":{\"field\":\"count\"}},\"id\":\"8419\",\"type\":\"Circle\"},{\"attributes\":{\"source\":{\"id\":\"8347\"}},\"id\":\"8421\",\"type\":\"CDSView\"},{\"attributes\":{\"label\":{\"value\":\"observed\"},\"renderers\":[{\"id\":\"8420\"}]},\"id\":\"8443\",\"type\":\"LegendItem\"},{\"attributes\":{\"end\":1662750720000.0,\"start\":1661964480000.0},\"id\":\"8535\",\"type\":\"Range1d\"},{\"attributes\":{\"below\":[{\"id\":\"8543\"},{\"id\":\"8548\"}],\"center\":[{\"id\":\"8546\"}],\"height\":120,\"renderers\":[{\"id\":\"8556\"}],\"title\":{\"id\":\"8533\"},\"toolbar\":{\"id\":\"8547\"},\"toolbar_location\":null,\"width\":1200,\"x_range\":{\"id\":\"8535\"},\"x_scale\":{\"id\":\"8539\"},\"y_range\":{\"id\":\"8537\"},\"y_scale\":{\"id\":\"8541\"}},\"id\":\"8532\",\"subtype\":\"Figure\",\"type\":\"Plot\"},{\"attributes\":{\"callback\":null,\"formatters\":{\"@date_clock\":\"datetime\"},\"tooltips\":[[\"date_clock\",\"@date_clock{%F %T.%3N}\"],[\"count\",\"@count\"],[\"residual\",\"@residual\"],[\"trend\",\"@trend\"],[\"seasonal\",\"@seasonal\"],[\"weights\",\"@weights\"],[\"baseline\",\"@baseline\"],[\"score\",\"@score\"]]},\"id\":\"8348\",\"type\":\"HoverTool\"},{\"attributes\":{\"coordinates\":null,\"fill_alpha\":0.2,\"fill_color\":\"navy\",\"group\":null,\"level\":\"overlay\",\"line_alpha\":1.0,\"line_color\":\"black\",\"line_dash\":[2,2],\"line_width\":0.5,\"syncable\":false},\"id\":\"8559\",\"type\":\"BoxAnnotation\"},{\"attributes\":{\"data\":{\"anomalies\":[0,0,0,0,0,0,0,0,0,0,0,0,0,0,0,0,0,0,0,0,0,0,0,0,0,0,0,0,0,0,0,0,0,0,0,0,0,0,0,0,0,0,0,0,0,0,0,0,0,0,0,0,0,0,0,0,0,0,0,0,0,0,0,0,0,0,0,0,0,0,0,0,0,0,0,0,0,0,0,0,0,0,0,0,0,0,0,0,0,0,0,0,0,0,1,0,0,0,0,0,0,0,0,0,0,0,0,0,0,0,0,0,0,0,0,0,0,0,0,0,0,0,0,0,0,0,0,0,0,0,0,0,0,0,0,0,0,0,0,0,0,0,0,0,0,0,0,0,0,0,0,0,0,0,0,0,0,0,0,0,0,0,0,0,0,0,0,0,0],\"baseline\":[19,38,29,42,26,29,39,40,32,54,35,23,30,27,36,27,34,25,33,33,34,43,35,40,26,38,31,39,30,33,37,43,36,54,35,28,30,28,34,26,33,28,33,34,33,46,38,41,33,39,34,36,33,36,35,45,38,52,33,30,28,26,29,23,29,28,29,30,28,43,36,39,36,36,33,31,34,35,31,46,39,49,29,31,25,24,24,21,26,28,27,28,26,44,36,39,38,36,32,32,34,32,34,50,40,50,29,33,29,26,24,22,29,29,26,29,27,44,34,38,34,36,31,31,33,28,35,54,38,50,28,31,30,25,22,22,32,29,24,28,29,43,33,39,31,38,32,33,34,25,40,60,39,52,29,33,35,27,23,24,38,30,23,29,32,43,30,40,27],\"count\":[17,40,26,46,24,26,46,48,28,55,35,24,29,29,36,30,29,25,31,31,38,47,37,40,25,34,35,32,35,38,33,26,44,52,40,26,38,27,34,26,39,29,38,39,33,38,39,42,39,43,35,42,34,33,31,54,38,59,24,27,21,24,34,18,35,29,29,29,23,52,26,41,44,37,38,28,28,44,27,54,32,41,36,44,20,30,16,23,22,28,23,27,26,39,52,35,34,37,32,28,42,38,34,44,49,54,31,29,33,23,28,22,19,34,32,26,31,48,33,44,38,29,24,32,40,22,46,42,44,49,21,31,32,25,18,24,29,23,24,37,24,47,33,38,36,44,38,36,28,27,34,71,33,54,33,34,34,28,26,24,46,33,22,25,35,40,29,40,23],\"date_clock\":{\"__ndarray__\":\"AABQW6MveEIAADjKpi94QgAAIDmqL3hCAAAIqK0veEIAAPAWsS94QgAA2IW0L3hCAADA9LcveEIAAKhjuy94QgAAkNK+L3hCAAB4QcIveEIAAGCwxS94QgAASB/JL3hCAAAwjswveEIAABj9zy94QgAAAGzTL3hCAADo2tYveEIAANBJ2i94QgAAuLjdL3hCAACgJ+EveEIAAIiW5C94QgAAcAXoL3hCAABYdOsveEIAAEDj7i94QgAAKFLyL3hCAAAQwfUveEIAAPgv+S94QgAA4J78L3hCAADIDQAweEIAALB8AzB4QgAAmOsGMHhCAACAWgoweEIAAGjJDTB4QgAAUDgRMHhCAAA4pxQweEIAACAWGDB4QgAACIUbMHhCAADw8x4weEIAANhiIjB4QgAAwNElMHhCAACoQCkweEIAAJCvLDB4QgAAeB4wMHhCAABgjTMweEIAAEj8NjB4QgAAMGs6MHhCAAAY2j0weEIAAABJQTB4QgAA6LdEMHhCAADQJkgweEIAALiVSzB4QgAAoARPMHhCAACIc1IweEIAAHDiVTB4QgAAWFFZMHhCAABAwFwweEIAACgvYDB4QgAAEJ5jMHhCAAD4DGcweEIAAOB7ajB4QgAAyOptMHhCAACwWXEweEIAAJjIdDB4QgAAgDd4MHhCAABopnsweEIAAFAVfzB4QgAAOISCMHhCAAAg84UweEIAAAhiiTB4QgAA8NCMMHhCAADYP5AweEIAAMCukzB4QgAAqB2XMHhCAACQjJoweEIAAHj7nTB4QgAAYGqhMHhCAABI2aQweEIAADBIqDB4QgAAGLerMHhCAAAAJq8weEIAAOiUsjB4QgAA0AO2MHhCAAC4crkweEIAAKDhvDB4QgAAiFDAMHhCAABwv8MweEIAAFguxzB4QgAAQJ3KMHhCAAAoDM4weEIAABB70TB4QgAA+OnUMHhCAADgWNgweEIAAMjH2zB4QgAAsDbfMHhCAACYpeIweEIAAIAU5jB4QgAAaIPpMHhCAABQ8uwweEIAADhh8DB4QgAAINDzMHhCAAAIP/cweEIAAPCt+jB4QgAA2Bz+MHhCAADAiwExeEIAAKj6BDF4QgAAkGkIMXhCAAB42AsxeEIAAGBHDzF4QgAASLYSMXhCAAAwJRYxeEIAABiUGTF4QgAAAAMdMXhCAADocSAxeEIAANDgIzF4QgAAuE8nMXhCAACgvioxeEIAAIgtLjF4QgAAcJwxMXhCAABYCzUxeEIAAEB6ODF4QgAAKOk7MXhCAAAQWD8xeEIAAPjGQjF4QgAA4DVGMXhCAADIpEkxeEIAALATTTF4QgAAmIJQMXhCAACA8VMxeEIAAGhgVzF4QgAAUM9aMXhCAAA4Pl4xeEIAACCtYTF4QgAACBxlMXhCAADwimgxeEIAANj5azF4QgAAwGhvMXhCAACo13IxeEIAAJBGdjF4QgAAeLV5MXhCAABgJH0xeEIAAEiTgDF4QgAAMAKEMXhCAAAYcYcxeEIAAADgijF4QgAA6E6OMXhCAADQvZExeEIAALgslTF4QgAAoJuYMXhCAACICpwxeEIAAHB5nzF4QgAAWOiiMXhCAABAV6YxeEIAACjGqTF4QgAAEDWtMXhCAAD4o7AxeEIAAOAStDF4QgAAyIG3MXhCAACw8LoxeEIAAJhfvjF4QgAAgM7BMXhCAABoPcUxeEIAAFCsyDF4QgAAOBvMMXhCAAAgis8xeEIAAAj50jF4QgAA8GfWMXhCAADY1tkxeEIAAMBF3TF4QgAAqLTgMXhCAACQI+QxeEI=\",\"dtype\":\"float64\",\"order\":\"little\",\"shape\":[169]},\"index\":[0,1,2,3,4,5,6,7,8,9,10,11,12,13,14,15,16,17,18,19,20,21,22,23,24,25,26,27,28,29,30,31,32,33,34,35,36,37,38,39,40,41,42,43,44,45,46,47,48,49,50,51,52,53,54,55,56,57,58,59,60,61,62,63,64,65,66,67,68,69,70,71,72,73,74,75,76,77,78,79,80,81,82,83,84,85,86,87,88,89,90,91,92,93,94,95,96,97,98,99,100,101,102,103,104,105,106,107,108,109,110,111,112,113,114,115,116,117,118,119,120,121,122,123,124,125,126,127,128,129,130,131,132,133,134,135,136,137,138,139,140,141,142,143,144,145,146,147,148,149,150,151,152,153,154,155,156,157,158,159,160,161,162,163,164,165,166,167,168],\"residual\":[-2,1,-3,3,-2,-3,6,7,-4,0,0,0,-1,1,0,2,-5,0,-2,-2,3,3,1,0,-1,-4,3,-7,4,4,-4,-17,7,-2,4,-2,7,-1,0,0,5,0,4,4,0,-8,0,0,5,3,0,5,0,-3,-4,8,0,6,-9,-3,-7,-2,4,-5,5,0,0,-1,-5,8,-10,1,7,0,4,-3,-6,8,-4,7,-7,-8,6,12,-5,5,-8,1,-4,0,-4,-1,0,-5,15,-4,-4,0,0,-4,7,5,0,-6,8,3,1,-4,3,-3,3,0,-10,4,5,-3,3,3,-1,5,3,-7,-7,0,6,-6,10,-12,5,-1,-7,0,1,0,-4,1,-3,-6,0,8,-5,3,0,-1,4,5,5,2,-6,1,-6,10,-6,1,3,0,-1,0,2,0,7,2,-1,-4,2,-3,-1,0,-4],\"score\":{\"__ndarray__\":\"oh0zay8p278V3LoTW73JPximcd6RQOS/k+WeFkvH4z+iHTNrLynbvximcd6RQOS/tZWTyJzl8z9Zof/cmTv3P1+9SQeM7Oq/FCGw9LFRfr8UIbD0sVF+vxQhsPSxUX6/Jt4FM3aiy78V3LoTW73JPxQhsPSxUX6/mZyN26E22j9T6hAYQ8zwvxQhsPSxUX6/oh0zay8p27+iHTNrLynbv5PlnhZLx+M/k+WeFkvH4z8V3LoTW73JPxQhsPSxUX6/Jt4FM3aiy79fvUkHjOzqv5PlnhZLx+M/mgHpQD1497/b/HY/RXPqP9v8dj9Fc+o/X71JB4zs6r8Au5AGEGoMwFmh/9yZO/c/oh0zay8p27/b/HY/RXPqP6IdM2svKdu/WaH/3Jk79z8m3gUzdqLLvxQhsPSxUX6/FCGw9LFRfr8Riie0n4/wPxQhsPSxUX6/2/x2P0Vz6j/b/HY/RXPqPxQhsPSxUX6/Pg1VVTrO+r8UIbD0sVF+vxQhsPSxUX6/EYontJ+P8D+T5Z4WS8fjPxQhsPSxUX6/EYontJ+P8D8UIbD0sVF+vximcd6RQOS/X71JB4zs6r/8rGvxlpH6PxQhsPSxUX6/tZWTyJzl8z/iGMFpNyT+vximcd6RQOS/mgHpQD1497+iHTNrLynbv9v8dj9Fc+o/U+oQGEPM8L8Riie0n4/wPxQhsPSxUX6/FCGw9LFRfr8m3gUzdqLLv1PqEBhDzPC//Kxr8ZaR+j9DkhY/Gr0AwBXcuhNbvck/WaH/3Jk79z8UIbD0sVF+v9v8dj9Fc+o/GKZx3pFA5L/39XwsQCL0v/ysa/GWkfo/X71JB4zs6r9Zof/cmTv3P5oB6UA9ePe/Pg1VVTrO+r+1lZPInOXzP8btjaHF9ANAU+oQGEPM8L8Riie0n4/wPz4NVVU6zvq/Fdy6E1u9yT9fvUkHjOzqvxQhsPSxUX6/X71JB4zs6r8m3gUzdqLLvxQhsPSxUX6/U+oQGEPM8L87/y9AwfUIQF+9SQeM7Oq/X71JB4zs6r8UIbD0sVF+vxQhsPSxUX6/X71JB4zs6r9Zof/cmTv3PxGKJ7Sfj/A/FCGw9LFRfr/39XwsQCL0v/ysa/GWkfo/k+WeFkvH4z8V3LoTW73JP1+9SQeM7Oq/k+WeFkvH4z8YpnHekUDkv5PlnhZLx+M/FCGw9LFRfr9DkhY/Gr0AwNv8dj9Fc+o/EYontJ+P8D8YpnHekUDkv5PlnhZLx+M/k+WeFkvH4z8m3gUzdqLLvxGKJ7Sfj/A/k+WeFkvH4z+aAelAPXj3v5oB6UA9ePe/FCGw9LFRfr+1lZPInOXzP/f1fCxAIvS/IuIhjcieAEDmnYJTFxMEwBGKJ7Sfj/A/Jt4FM3aiy7+aAelAPXj3vxQhsPSxUX6/Fdy6E1u9yT8UIbD0sVF+v1+9SQeM7Oq/Fdy6E1u9yT8YpnHekUDkv/f1fCxAIvS/FCGw9LFRfr/8rGvxlpH6P1PqEBhDzPC/k+WeFkvH4z8UIbD0sVF+vybeBTN2osu/2/x2P0Vz6j8Riie0n4/wPxGKJ7Sfj/A/mZyN26E22j/39XwsQCL0vxXcuhNbvck/9/V8LEAi9L8i4iGNyJ4AQPf1fCxAIvS/Fdy6E1u9yT+T5Z4WS8fjPxQhsPSxUX6/Jt4FM3aiy78UIbD0sVF+v5mcjduhNto/FCGw9LFRfr9Zof/cmTv3P5mcjduhNto/Jt4FM3aiy79fvUkHjOzqv5mcjduhNto/GKZx3pFA5L8m3gUzdqLLvxQhsPSxUX6/X71JB4zs6r8=\",\"dtype\":\"float64\",\"order\":\"little\",\"shape\":[169]},\"seasonal\":[-14,4,-4,8,-7,-4,5,5,-1,20,1,-11,-3,-6,2,-7,0,-8,-1,0,0,9,1,5,-7,4,-2,4,-4,-1,2,8,0,19,0,-7,-5,-7,-1,-8,-2,-7,-2,-2,-2,9,2,5,-2,3,-1,1,-1,1,0,10,3,17,-1,-4,-6,-7,-5,-10,-4,-5,-3,-3,-4,10,3,5,3,3,0,-1,0,2,-1,13,6,16,-3,-1,-7,-8,-8,-11,-6,-4,-5,-4,-6,11,3,6,4,3,0,-1,1,0,1,17,6,17,-4,0,-4,-7,-9,-11,-4,-4,-7,-4,-5,10,1,5,1,3,-1,-1,0,-4,3,21,5,17,-4,0,-2,-7,-10,-10,-1,-4,-9,-5,-4,9,0,5,-2,4,-1,0,0,-8,5,25,5,18,-5,-1,0,-7,-11,-9,3,-4,-11,-5,-2,8,-4,5,-7],\"trend\":[34,34,34,34,34,34,34,34,34,34,34,34,34,34,34,34,34,34,34,34,34,34,34,34,34,34,34,34,34,34,35,35,35,35,35,35,35,35,35,35,36,36,36,36,36,36,36,36,35,35,35,35,35,35,35,35,34,34,34,34,34,34,34,34,33,33,33,33,33,33,33,33,33,33,33,33,33,33,33,33,33,32,32,32,32,32,33,33,33,33,33,33,33,33,33,33,33,33,33,33,33,33,33,33,33,33,34,34,34,34,33,33,33,33,33,33,33,33,33,33,33,32,32,32,32,32,32,32,32,32,32,32,32,32,33,33,33,33,33,33,33,33,33,34,34,34,34,34,34,34,34,34,34,34,34,34,34,34,34,34,34,34,34,34,34,34,34,34,34],\"weights\":[1,1,1,1,1,1,1,1,1,1,1,1,1,1,1,1,1,1,1,1,1,1,1,1,1,1,1,1,1,1,1,1,1,1,1,1,1,1,1,1,1,1,1,1,1,1,1,1,1,1,1,1,1,1,1,1,1,1,1,1,1,1,1,1,1,1,1,1,1,1,1,1,1,1,1,1,1,1,1,1,1,1,1,1,1,1,1,1,1,1,1,1,1,1,1,1,1,1,1,1,1,1,1,1,1,1,1,1,1,1,1,1,1,1,1,1,1,1,1,1,1,1,1,1,1,1,1,1,1,1,1,1,1,1,1,1,1,1,1,1,1,1,1,1,1,1,1,1,1,1,1,1,1,1,1,1,1,1,1,1,1,1,1,1,1,1,1,1,1]},\"selected\":{\"id\":\"8428\"},\"selection_policy\":{\"id\":\"8427\"}},\"id\":\"8347\",\"type\":\"ColumnDataSource\"},{\"attributes\":{\"fill_alpha\":{\"value\":0.2},\"fill_color\":{\"value\":\"blue\"},\"hatch_alpha\":{\"value\":0.2},\"hatch_color\":{\"value\":\"blue\"},\"line_alpha\":{\"value\":0.2},\"line_color\":{\"value\":\"blue\"},\"x\":{\"field\":\"date_clock\"},\"y\":{\"field\":\"score\"}},\"id\":\"8555\",\"type\":\"Circle\"},{\"attributes\":{},\"id\":\"8537\",\"type\":\"DataRange1d\"},{\"attributes\":{\"coordinates\":null,\"formatter\":{\"id\":\"8549\"},\"group\":null,\"major_label_policy\":{\"id\":\"8571\"},\"ticker\":{\"id\":\"8544\"}},\"id\":\"8543\",\"type\":\"DatetimeAxis\"},{\"attributes\":{},\"id\":\"8539\",\"type\":\"LinearScale\"},{\"attributes\":{\"coordinates\":null,\"group\":null,\"text\":\"Range Selector\"},\"id\":\"8533\",\"type\":\"Title\"},{\"attributes\":{\"num_minor_ticks\":5,\"tickers\":[{\"id\":\"8592\"},{\"id\":\"8593\"},{\"id\":\"8594\"},{\"id\":\"8595\"},{\"id\":\"8596\"},{\"id\":\"8597\"},{\"id\":\"8598\"},{\"id\":\"8599\"},{\"id\":\"8600\"},{\"id\":\"8601\"},{\"id\":\"8602\"},{\"id\":\"8603\"}]},\"id\":\"8544\",\"type\":\"DatetimeTicker\"},{\"attributes\":{\"axis\":{\"id\":\"8543\"},\"coordinates\":null,\"group\":null,\"ticker\":null},\"id\":\"8546\",\"type\":\"Grid\"},{\"attributes\":{\"fill_alpha\":{\"value\":0.1},\"fill_color\":{\"value\":\"blue\"},\"hatch_alpha\":{\"value\":0.1},\"hatch_color\":{\"value\":\"blue\"},\"line_alpha\":{\"value\":0.1},\"line_color\":{\"value\":\"blue\"},\"x\":{\"field\":\"date_clock\"},\"y\":{\"field\":\"score\"}},\"id\":\"8554\",\"type\":\"Circle\"},{\"attributes\":{},\"id\":\"8541\",\"type\":\"LinearScale\"},{\"attributes\":{\"overlay\":{\"id\":\"8559\"},\"x_range\":{\"id\":\"8383\"},\"y_range\":null},\"id\":\"8558\",\"type\":\"RangeTool\"},{\"attributes\":{\"source\":{\"id\":\"8551\"}},\"id\":\"8557\",\"type\":\"CDSView\"},{\"attributes\":{\"bottom_units\":\"screen\",\"coordinates\":null,\"fill_alpha\":0.5,\"fill_color\":\"lightgrey\",\"group\":null,\"left_units\":\"screen\",\"level\":\"overlay\",\"line_alpha\":1.0,\"line_color\":\"black\",\"line_dash\":[4,4],\"line_width\":2,\"right_units\":\"screen\",\"syncable\":false,\"top_units\":\"screen\"},\"id\":\"8404\",\"type\":\"BoxAnnotation\"},{\"attributes\":{},\"id\":\"8589\",\"type\":\"UnionRenderers\"},{\"attributes\":{\"axis_label\":\"date_clock\",\"coordinates\":null,\"formatter\":{\"id\":\"8412\"},\"group\":null,\"major_label_policy\":{\"id\":\"8426\"},\"ticker\":{\"id\":\"8392\"}},\"id\":\"8391\",\"type\":\"DatetimeAxis\"},{\"attributes\":{\"num_minor_ticks\":10,\"tickers\":[{\"id\":\"8430\"},{\"id\":\"8431\"},{\"id\":\"8432\"},{\"id\":\"8433\"},{\"id\":\"8434\"},{\"id\":\"8435\"},{\"id\":\"8436\"},{\"id\":\"8437\"},{\"id\":\"8438\"},{\"id\":\"8439\"},{\"id\":\"8440\"},{\"id\":\"8441\"}]},\"id\":\"8392\",\"type\":\"DatetimeTicker\"},{\"attributes\":{},\"id\":\"8424\",\"type\":\"AllLabels\"},{\"attributes\":{\"base\":60,\"mantissas\":[1,2,5,10,15,20,30],\"max_interval\":1800000.0,\"min_interval\":1000.0,\"num_minor_ticks\":0},\"id\":\"8593\",\"type\":\"AdaptiveTicker\"},{\"attributes\":{},\"id\":\"8426\",\"type\":\"AllLabels\"},{\"attributes\":{\"dimensions\":\"width\"},\"id\":\"8403\",\"type\":\"PanTool\"},{\"attributes\":{\"dimensions\":\"width\"},\"id\":\"8399\",\"type\":\"WheelZoomTool\"},{\"attributes\":{\"base\":24,\"mantissas\":[1,2,4,6,8,12],\"max_interval\":43200000.0,\"min_interval\":3600000.0,\"num_minor_ticks\":0},\"id\":\"8594\",\"type\":\"AdaptiveTicker\"},{\"attributes\":{},\"id\":\"8402\",\"type\":\"SaveTool\"},{\"attributes\":{\"axis_label\":\"count\",\"coordinates\":null,\"formatter\":{\"id\":\"8414\"},\"group\":null,\"major_label_policy\":{\"id\":\"8424\"},\"ticker\":{\"id\":\"8396\"}},\"id\":\"8395\",\"type\":\"LinearAxis\"},{\"attributes\":{},\"id\":\"8427\",\"type\":\"UnionRenderers\"},{\"attributes\":{},\"id\":\"8590\",\"type\":\"Selection\"},{\"attributes\":{},\"id\":\"8428\",\"type\":\"Selection\"},{\"attributes\":{\"overlay\":{\"id\":\"8404\"}},\"id\":\"8400\",\"type\":\"BoxZoomTool\"},{\"attributes\":{\"line_alpha\":0.1,\"line_color\":\"green\",\"x\":{\"field\":\"date_clock\"},\"y\":{\"field\":\"baseline\"}},\"id\":\"8446\",\"type\":\"Line\"},{\"attributes\":{\"axis\":{\"id\":\"8395\"},\"coordinates\":null,\"dimension\":1,\"grid_line_color\":null,\"group\":null,\"ticker\":null},\"id\":\"8398\",\"type\":\"Grid\"},{\"attributes\":{\"coordinates\":null,\"data_source\":{\"id\":\"8347\"},\"glyph\":{\"id\":\"8445\"},\"group\":null,\"hover_glyph\":null,\"muted_glyph\":{\"id\":\"8447\"},\"nonselection_glyph\":{\"id\":\"8446\"},\"view\":{\"id\":\"8449\"}},\"id\":\"8448\",\"type\":\"GlyphRenderer\"},{\"attributes\":{\"days\":[1,4,7,10,13,16,19,22,25,28]},\"id\":\"8596\",\"type\":\"DaysTicker\"},{\"attributes\":{},\"id\":\"8389\",\"type\":\"LinearScale\"},{\"attributes\":{\"source\":{\"id\":\"8347\"}},\"id\":\"8449\",\"type\":\"CDSView\"},{\"attributes\":{\"line_color\":\"green\",\"x\":{\"field\":\"date_clock\"},\"y\":{\"field\":\"baseline\"}},\"id\":\"8445\",\"type\":\"Line\"},{\"attributes\":{\"line_alpha\":0.2,\"line_color\":\"green\",\"x\":{\"field\":\"date_clock\"},\"y\":{\"field\":\"baseline\"}},\"id\":\"8447\",\"type\":\"Line\"},{\"attributes\":{\"data\":{\"baseline\":[36],\"count\":[52],\"date_clock\":{\"__ndarray__\":\"AACAFOYweEI=\",\"dtype\":\"float64\",\"order\":\"little\",\"shape\":[1]},\"index\":[94],\"level_0\":[0],\"residual\":[15],\"score\":{\"__ndarray__\":\"O/8vQMH1CEA=\",\"dtype\":\"float64\",\"order\":\"little\",\"shape\":[1]},\"seasonal\":[3],\"trend\":[33],\"weights\":[1]},\"selected\":{\"id\":\"8486\"},\"selection_policy\":{\"id\":\"8485\"}},\"id\":\"8471\",\"type\":\"ColumnDataSource\"},{\"attributes\":{\"mantissas\":[1,2,5],\"max_interval\":500.0,\"num_minor_ticks\":0},\"id\":\"8592\",\"type\":\"AdaptiveTicker\"},{\"attributes\":{\"below\":[{\"id\":\"8391\"}],\"center\":[{\"id\":\"8394\"},{\"id\":\"8398\"},{\"id\":\"8442\"}],\"height\":300,\"left\":[{\"id\":\"8395\"}],\"min_border_left\":50,\"renderers\":[{\"id\":\"8420\"},{\"id\":\"8448\"},{\"id\":\"8476\"}],\"title\":{\"id\":\"8381\"},\"toolbar\":{\"id\":\"8405\"},\"toolbar_location\":\"above\",\"width\":1200,\"x_range\":{\"id\":\"8383\"},\"x_scale\":{\"id\":\"8387\"},\"y_range\":{\"id\":\"8385\"},\"y_scale\":{\"id\":\"8389\"}},\"id\":\"8380\",\"subtype\":\"Figure\",\"type\":\"Plot\"},{\"attributes\":{\"coordinates\":null,\"data_source\":{\"id\":\"8551\"},\"glyph\":{\"id\":\"8553\"},\"group\":null,\"hover_glyph\":null,\"muted_glyph\":{\"id\":\"8555\"},\"nonselection_glyph\":{\"id\":\"8554\"},\"view\":{\"id\":\"8557\"}},\"id\":\"8556\",\"type\":\"GlyphRenderer\"},{\"attributes\":{\"label\":{\"value\":\"baseline\"},\"renderers\":[{\"id\":\"8448\"}]},\"id\":\"8470\",\"type\":\"LegendItem\"},{\"attributes\":{\"days\":[1,8,15,22]},\"id\":\"8597\",\"type\":\"DaysTicker\"},{\"attributes\":{\"base\":60,\"mantissas\":[1,2,5,10,15,20,30],\"max_interval\":1800000.0,\"min_interval\":1000.0,\"num_minor_ticks\":0},\"id\":\"8431\",\"type\":\"AdaptiveTicker\"},{\"attributes\":{\"base\":24,\"mantissas\":[1,2,4,6,8,12],\"max_interval\":43200000.0,\"min_interval\":3600000.0,\"num_minor_ticks\":0},\"id\":\"8432\",\"type\":\"AdaptiveTicker\"},{\"attributes\":{\"days\":[1,2,3,4,5,6,7,8,9,10,11,12,13,14,15,16,17,18,19,20,21,22,23,24,25,26,27,28,29,30,31]},\"id\":\"8595\",\"type\":\"DaysTicker\"},{\"attributes\":{\"months\":[0,4,8]},\"id\":\"8439\",\"type\":\"MonthsTicker\"},{\"attributes\":{\"fill_color\":{\"value\":\"#1f77b4\"},\"line_color\":{\"value\":\"navy\"},\"x\":{\"field\":\"date_clock\"},\"y\":{\"field\":\"count\"}},\"id\":\"8417\",\"type\":\"Circle\"},{\"attributes\":{\"months\":[0,1,2,3,4,5,6,7,8,9,10,11]},\"id\":\"8437\",\"type\":\"MonthsTicker\"},{\"attributes\":{\"days\":[1,15]},\"id\":\"8436\",\"type\":\"DaysTicker\"},{\"attributes\":{},\"id\":\"8401\",\"type\":\"ResetTool\"},{\"attributes\":{\"days\":[1,2,3,4,5,6,7,8,9,10,11,12,13,14,15,16,17,18,19,20,21,22,23,24,25,26,27,28,29,30,31]},\"id\":\"8433\",\"type\":\"DaysTicker\"},{\"attributes\":{\"days\":[1,4,7,10,13,16,19,22,25,28]},\"id\":\"8434\",\"type\":\"DaysTicker\"},{\"attributes\":{\"days\":[1,8,15,22]},\"id\":\"8435\",\"type\":\"DaysTicker\"},{\"attributes\":{\"axis\":{\"id\":\"8391\"},\"coordinates\":null,\"grid_line_color\":null,\"group\":null,\"ticker\":null},\"id\":\"8394\",\"type\":\"Grid\"},{\"attributes\":{\"tools\":[{\"id\":\"8348\"},{\"id\":\"8399\"},{\"id\":\"8400\"},{\"id\":\"8401\"},{\"id\":\"8402\"},{\"id\":\"8403\"}]},\"id\":\"8405\",\"type\":\"Toolbar\"},{\"attributes\":{\"months\":[0,2,4,6,8,10]},\"id\":\"8438\",\"type\":\"MonthsTicker\"},{\"attributes\":{},\"id\":\"8396\",\"type\":\"BasicTicker\"},{\"attributes\":{\"months\":[0,1,2,3,4,5,6,7,8,9,10,11]},\"id\":\"8599\",\"type\":\"MonthsTicker\"},{\"attributes\":{},\"id\":\"8603\",\"type\":\"YearsTicker\"},{\"attributes\":{\"days\":[1,15]},\"id\":\"8598\",\"type\":\"DaysTicker\"},{\"attributes\":{\"months\":[0,6]},\"id\":\"8602\",\"type\":\"MonthsTicker\"},{\"attributes\":{\"end\":1662690240000.0,\"start\":1662024960000.0},\"id\":\"8383\",\"type\":\"Range1d\"},{\"attributes\":{\"months\":[0,2,4,6,8,10]},\"id\":\"8600\",\"type\":\"MonthsTicker\"},{\"attributes\":{\"align\":\"right\",\"coordinates\":null,\"group\":null,\"text\":\"Drag the middle or edges of the selection box to change the range in the main chart\",\"text_font_size\":\"10px\"},\"id\":\"8548\",\"type\":\"Title\"},{\"attributes\":{\"months\":[0,4,8]},\"id\":\"8601\",\"type\":\"MonthsTicker\"},{\"attributes\":{},\"id\":\"8486\",\"type\":\"Selection\"},{\"attributes\":{\"format\":\"00\"},\"id\":\"8414\",\"type\":\"NumeralTickFormatter\"},{\"attributes\":{\"label\":{\"value\":\"anomalies\"},\"renderers\":[{\"id\":\"8476\"}]},\"id\":\"8500\",\"type\":\"LegendItem\"},{\"attributes\":{\"fill_alpha\":{\"value\":0.2},\"fill_color\":{\"value\":\"firebrick\"},\"hatch_color\":{\"value\":\"firebrick\"},\"line_color\":{\"value\":\"firebrick\"},\"marker\":{\"value\":\"circle_x\"},\"size\":{\"value\":12},\"x\":{\"field\":\"date_clock\"},\"y\":{\"field\":\"count\"}},\"id\":\"8473\",\"type\":\"Scatter\"},{\"attributes\":{\"fill_alpha\":{\"value\":0.2},\"fill_color\":{\"value\":\"firebrick\"},\"hatch_alpha\":{\"value\":0.2},\"hatch_color\":{\"value\":\"firebrick\"},\"line_alpha\":{\"value\":0.2},\"line_color\":{\"value\":\"firebrick\"},\"marker\":{\"value\":\"circle_x\"},\"size\":{\"value\":12},\"x\":{\"field\":\"date_clock\"},\"y\":{\"field\":\"count\"}},\"id\":\"8475\",\"type\":\"Scatter\"},{\"attributes\":{\"coordinates\":null,\"group\":null,\"text\":\"Time Series Anomalies Visualization\"},\"id\":\"8381\",\"type\":\"Title\"},{\"attributes\":{},\"id\":\"8387\",\"type\":\"LinearScale\"},{\"attributes\":{},\"id\":\"8485\",\"type\":\"UnionRenderers\"},{\"attributes\":{\"source\":{\"id\":\"8471\"}},\"id\":\"8477\",\"type\":\"CDSView\"},{\"attributes\":{},\"id\":\"8571\",\"type\":\"AllLabels\"},{\"attributes\":{\"coordinates\":null,\"data_source\":{\"id\":\"8471\"},\"glyph\":{\"id\":\"8473\"},\"group\":null,\"hover_glyph\":null,\"muted_glyph\":{\"id\":\"8475\"},\"nonselection_glyph\":{\"id\":\"8474\"},\"view\":{\"id\":\"8477\"}},\"id\":\"8476\",\"type\":\"GlyphRenderer\"},{\"attributes\":{\"days\":[\"%m-%d %H:%M\"],\"hours\":[\"%H:%M:%S\"],\"milliseconds\":[\"%H:%M:%S.%3N\"],\"minutes\":[\"%H:%M:%S\"],\"seconds\":[\"%H:%M:%S\"]},\"id\":\"8412\",\"type\":\"DatetimeTickFormatter\"},{\"attributes\":{\"fill_alpha\":{\"value\":0.1},\"fill_color\":{\"value\":\"firebrick\"},\"hatch_alpha\":{\"value\":0.1},\"hatch_color\":{\"value\":\"firebrick\"},\"line_alpha\":{\"value\":0.1},\"line_color\":{\"value\":\"firebrick\"},\"marker\":{\"value\":\"circle_x\"},\"size\":{\"value\":12},\"x\":{\"field\":\"date_clock\"},\"y\":{\"field\":\"count\"}},\"id\":\"8474\",\"type\":\"Scatter\"},{\"attributes\":{\"days\":[\"%m-%d %H:%M\"],\"hours\":[\"%H:%M:%S\"],\"milliseconds\":[\"%H:%M:%S.%3N\"],\"minutes\":[\"%H:%M:%S\"],\"seconds\":[\"%H:%M:%S\"]},\"id\":\"8549\",\"type\":\"DatetimeTickFormatter\"},{\"attributes\":{\"fill_color\":{\"value\":\"blue\"},\"hatch_color\":{\"value\":\"blue\"},\"line_color\":{\"value\":\"blue\"},\"x\":{\"field\":\"date_clock\"},\"y\":{\"field\":\"score\"}},\"id\":\"8553\",\"type\":\"Circle\"},{\"attributes\":{\"data\":{\"anomalies\":[0,0,0,0,0,0,0,0,0,0,0,0,0,0,0,0,0,0,0,0,0,0,0,0,0,0,0,0,0,0,0,0,0,0,0,0,0,0,0,0,0,0,0,0,0,0,0,0,0,0,0,0,0,0,0,0,0,0,0,0,0,0,0,0,0,0,0,0,0,0,0,0,0,0,0,0,0,0,0,0,0,0,0,0,0,0,0,0,0,0,0,0,0,0,1,0,0,0,0,0,0,0,0,0,0,0,0,0,0,0,0,0,0,0,0,0,0,0,0,0,0,0,0,0,0,0,0,0,0,0,0,0,0,0,0,0,0,0,0,0,0,0,0,0,0,0,0,0,0,0,0,0,0,0,0,0,0,0,0,0,0,0,0,0,0,0,0,0,0],\"baseline\":[19,38,29,42,26,29,39,40,32,54,35,23,30,27,36,27,34,25,33,33,34,43,35,40,26,38,31,39,30,33,37,43,36,54,35,28,30,28,34,26,33,28,33,34,33,46,38,41,33,39,34,36,33,36,35,45,38,52,33,30,28,26,29,23,29,28,29,30,28,43,36,39,36,36,33,31,34,35,31,46,39,49,29,31,25,24,24,21,26,28,27,28,26,44,36,39,38,36,32,32,34,32,34,50,40,50,29,33,29,26,24,22,29,29,26,29,27,44,34,38,34,36,31,31,33,28,35,54,38,50,28,31,30,25,22,22,32,29,24,28,29,43,33,39,31,38,32,33,34,25,40,60,39,52,29,33,35,27,23,24,38,30,23,29,32,43,30,40,27],\"count\":[17,40,26,46,24,26,46,48,28,55,35,24,29,29,36,30,29,25,31,31,38,47,37,40,25,34,35,32,35,38,33,26,44,52,40,26,38,27,34,26,39,29,38,39,33,38,39,42,39,43,35,42,34,33,31,54,38,59,24,27,21,24,34,18,35,29,29,29,23,52,26,41,44,37,38,28,28,44,27,54,32,41,36,44,20,30,16,23,22,28,23,27,26,39,52,35,34,37,32,28,42,38,34,44,49,54,31,29,33,23,28,22,19,34,32,26,31,48,33,44,38,29,24,32,40,22,46,42,44,49,21,31,32,25,18,24,29,23,24,37,24,47,33,38,36,44,38,36,28,27,34,71,33,54,33,34,34,28,26,24,46,33,22,25,35,40,29,40,23],\"date_clock\":{\"__ndarray__\":\"AABQW6MveEIAADjKpi94QgAAIDmqL3hCAAAIqK0veEIAAPAWsS94QgAA2IW0L3hCAADA9LcveEIAAKhjuy94QgAAkNK+L3hCAAB4QcIveEIAAGCwxS94QgAASB/JL3hCAAAwjswveEIAABj9zy94QgAAAGzTL3hCAADo2tYveEIAANBJ2i94QgAAuLjdL3hCAACgJ+EveEIAAIiW5C94QgAAcAXoL3hCAABYdOsveEIAAEDj7i94QgAAKFLyL3hCAAAQwfUveEIAAPgv+S94QgAA4J78L3hCAADIDQAweEIAALB8AzB4QgAAmOsGMHhCAACAWgoweEIAAGjJDTB4QgAAUDgRMHhCAAA4pxQweEIAACAWGDB4QgAACIUbMHhCAADw8x4weEIAANhiIjB4QgAAwNElMHhCAACoQCkweEIAAJCvLDB4QgAAeB4wMHhCAABgjTMweEIAAEj8NjB4QgAAMGs6MHhCAAAY2j0weEIAAABJQTB4QgAA6LdEMHhCAADQJkgweEIAALiVSzB4QgAAoARPMHhCAACIc1IweEIAAHDiVTB4QgAAWFFZMHhCAABAwFwweEIAACgvYDB4QgAAEJ5jMHhCAAD4DGcweEIAAOB7ajB4QgAAyOptMHhCAACwWXEweEIAAJjIdDB4QgAAgDd4MHhCAABopnsweEIAAFAVfzB4QgAAOISCMHhCAAAg84UweEIAAAhiiTB4QgAA8NCMMHhCAADYP5AweEIAAMCukzB4QgAAqB2XMHhCAACQjJoweEIAAHj7nTB4QgAAYGqhMHhCAABI2aQweEIAADBIqDB4QgAAGLerMHhCAAAAJq8weEIAAOiUsjB4QgAA0AO2MHhCAAC4crkweEIAAKDhvDB4QgAAiFDAMHhCAABwv8MweEIAAFguxzB4QgAAQJ3KMHhCAAAoDM4weEIAABB70TB4QgAA+OnUMHhCAADgWNgweEIAAMjH2zB4QgAAsDbfMHhCAACYpeIweEIAAIAU5jB4QgAAaIPpMHhCAABQ8uwweEIAADhh8DB4QgAAINDzMHhCAAAIP/cweEIAAPCt+jB4QgAA2Bz+MHhCAADAiwExeEIAAKj6BDF4QgAAkGkIMXhCAAB42AsxeEIAAGBHDzF4QgAASLYSMXhCAAAwJRYxeEIAABiUGTF4QgAAAAMdMXhCAADocSAxeEIAANDgIzF4QgAAuE8nMXhCAACgvioxeEIAAIgtLjF4QgAAcJwxMXhCAABYCzUxeEIAAEB6ODF4QgAAKOk7MXhCAAAQWD8xeEIAAPjGQjF4QgAA4DVGMXhCAADIpEkxeEIAALATTTF4QgAAmIJQMXhCAACA8VMxeEIAAGhgVzF4QgAAUM9aMXhCAAA4Pl4xeEIAACCtYTF4QgAACBxlMXhCAADwimgxeEIAANj5azF4QgAAwGhvMXhCAACo13IxeEIAAJBGdjF4QgAAeLV5MXhCAABgJH0xeEIAAEiTgDF4QgAAMAKEMXhCAAAYcYcxeEIAAADgijF4QgAA6E6OMXhCAADQvZExeEIAALgslTF4QgAAoJuYMXhCAACICpwxeEIAAHB5nzF4QgAAWOiiMXhCAABAV6YxeEIAACjGqTF4QgAAEDWtMXhCAAD4o7AxeEIAAOAStDF4QgAAyIG3MXhCAACw8LoxeEIAAJhfvjF4QgAAgM7BMXhCAABoPcUxeEIAAFCsyDF4QgAAOBvMMXhCAAAgis8xeEIAAAj50jF4QgAA8GfWMXhCAADY1tkxeEIAAMBF3TF4QgAAqLTgMXhCAACQI+QxeEI=\",\"dtype\":\"float64\",\"order\":\"little\",\"shape\":[169]},\"index\":[0,1,2,3,4,5,6,7,8,9,10,11,12,13,14,15,16,17,18,19,20,21,22,23,24,25,26,27,28,29,30,31,32,33,34,35,36,37,38,39,40,41,42,43,44,45,46,47,48,49,50,51,52,53,54,55,56,57,58,59,60,61,62,63,64,65,66,67,68,69,70,71,72,73,74,75,76,77,78,79,80,81,82,83,84,85,86,87,88,89,90,91,92,93,94,95,96,97,98,99,100,101,102,103,104,105,106,107,108,109,110,111,112,113,114,115,116,117,118,119,120,121,122,123,124,125,126,127,128,129,130,131,132,133,134,135,136,137,138,139,140,141,142,143,144,145,146,147,148,149,150,151,152,153,154,155,156,157,158,159,160,161,162,163,164,165,166,167,168],\"residual\":[-2,1,-3,3,-2,-3,6,7,-4,0,0,0,-1,1,0,2,-5,0,-2,-2,3,3,1,0,-1,-4,3,-7,4,4,-4,-17,7,-2,4,-2,7,-1,0,0,5,0,4,4,0,-8,0,0,5,3,0,5,0,-3,-4,8,0,6,-9,-3,-7,-2,4,-5,5,0,0,-1,-5,8,-10,1,7,0,4,-3,-6,8,-4,7,-7,-8,6,12,-5,5,-8,1,-4,0,-4,-1,0,-5,15,-4,-4,0,0,-4,7,5,0,-6,8,3,1,-4,3,-3,3,0,-10,4,5,-3,3,3,-1,5,3,-7,-7,0,6,-6,10,-12,5,-1,-7,0,1,0,-4,1,-3,-6,0,8,-5,3,0,-1,4,5,5,2,-6,1,-6,10,-6,1,3,0,-1,0,2,0,7,2,-1,-4,2,-3,-1,0,-4],\"score\":{\"__ndarray__\":\"oh0zay8p278V3LoTW73JPximcd6RQOS/k+WeFkvH4z+iHTNrLynbvximcd6RQOS/tZWTyJzl8z9Zof/cmTv3P1+9SQeM7Oq/FCGw9LFRfr8UIbD0sVF+vxQhsPSxUX6/Jt4FM3aiy78V3LoTW73JPxQhsPSxUX6/mZyN26E22j9T6hAYQ8zwvxQhsPSxUX6/oh0zay8p27+iHTNrLynbv5PlnhZLx+M/k+WeFkvH4z8V3LoTW73JPxQhsPSxUX6/Jt4FM3aiy79fvUkHjOzqv5PlnhZLx+M/mgHpQD1497/b/HY/RXPqP9v8dj9Fc+o/X71JB4zs6r8Au5AGEGoMwFmh/9yZO/c/oh0zay8p27/b/HY/RXPqP6IdM2svKdu/WaH/3Jk79z8m3gUzdqLLvxQhsPSxUX6/FCGw9LFRfr8Riie0n4/wPxQhsPSxUX6/2/x2P0Vz6j/b/HY/RXPqPxQhsPSxUX6/Pg1VVTrO+r8UIbD0sVF+vxQhsPSxUX6/EYontJ+P8D+T5Z4WS8fjPxQhsPSxUX6/EYontJ+P8D8UIbD0sVF+vximcd6RQOS/X71JB4zs6r/8rGvxlpH6PxQhsPSxUX6/tZWTyJzl8z/iGMFpNyT+vximcd6RQOS/mgHpQD1497+iHTNrLynbv9v8dj9Fc+o/U+oQGEPM8L8Riie0n4/wPxQhsPSxUX6/FCGw9LFRfr8m3gUzdqLLv1PqEBhDzPC//Kxr8ZaR+j9DkhY/Gr0AwBXcuhNbvck/WaH/3Jk79z8UIbD0sVF+v9v8dj9Fc+o/GKZx3pFA5L/39XwsQCL0v/ysa/GWkfo/X71JB4zs6r9Zof/cmTv3P5oB6UA9ePe/Pg1VVTrO+r+1lZPInOXzP8btjaHF9ANAU+oQGEPM8L8Riie0n4/wPz4NVVU6zvq/Fdy6E1u9yT9fvUkHjOzqvxQhsPSxUX6/X71JB4zs6r8m3gUzdqLLvxQhsPSxUX6/U+oQGEPM8L87/y9AwfUIQF+9SQeM7Oq/X71JB4zs6r8UIbD0sVF+vxQhsPSxUX6/X71JB4zs6r9Zof/cmTv3PxGKJ7Sfj/A/FCGw9LFRfr/39XwsQCL0v/ysa/GWkfo/k+WeFkvH4z8V3LoTW73JP1+9SQeM7Oq/k+WeFkvH4z8YpnHekUDkv5PlnhZLx+M/FCGw9LFRfr9DkhY/Gr0AwNv8dj9Fc+o/EYontJ+P8D8YpnHekUDkv5PlnhZLx+M/k+WeFkvH4z8m3gUzdqLLvxGKJ7Sfj/A/k+WeFkvH4z+aAelAPXj3v5oB6UA9ePe/FCGw9LFRfr+1lZPInOXzP/f1fCxAIvS/IuIhjcieAEDmnYJTFxMEwBGKJ7Sfj/A/Jt4FM3aiy7+aAelAPXj3vxQhsPSxUX6/Fdy6E1u9yT8UIbD0sVF+v1+9SQeM7Oq/Fdy6E1u9yT8YpnHekUDkv/f1fCxAIvS/FCGw9LFRfr/8rGvxlpH6P1PqEBhDzPC/k+WeFkvH4z8UIbD0sVF+vybeBTN2osu/2/x2P0Vz6j8Riie0n4/wPxGKJ7Sfj/A/mZyN26E22j/39XwsQCL0vxXcuhNbvck/9/V8LEAi9L8i4iGNyJ4AQPf1fCxAIvS/Fdy6E1u9yT+T5Z4WS8fjPxQhsPSxUX6/Jt4FM3aiy78UIbD0sVF+v5mcjduhNto/FCGw9LFRfr9Zof/cmTv3P5mcjduhNto/Jt4FM3aiy79fvUkHjOzqv5mcjduhNto/GKZx3pFA5L8m3gUzdqLLvxQhsPSxUX6/X71JB4zs6r8=\",\"dtype\":\"float64\",\"order\":\"little\",\"shape\":[169]},\"seasonal\":[-14,4,-4,8,-7,-4,5,5,-1,20,1,-11,-3,-6,2,-7,0,-8,-1,0,0,9,1,5,-7,4,-2,4,-4,-1,2,8,0,19,0,-7,-5,-7,-1,-8,-2,-7,-2,-2,-2,9,2,5,-2,3,-1,1,-1,1,0,10,3,17,-1,-4,-6,-7,-5,-10,-4,-5,-3,-3,-4,10,3,5,3,3,0,-1,0,2,-1,13,6,16,-3,-1,-7,-8,-8,-11,-6,-4,-5,-4,-6,11,3,6,4,3,0,-1,1,0,1,17,6,17,-4,0,-4,-7,-9,-11,-4,-4,-7,-4,-5,10,1,5,1,3,-1,-1,0,-4,3,21,5,17,-4,0,-2,-7,-10,-10,-1,-4,-9,-5,-4,9,0,5,-2,4,-1,0,0,-8,5,25,5,18,-5,-1,0,-7,-11,-9,3,-4,-11,-5,-2,8,-4,5,-7],\"trend\":[34,34,34,34,34,34,34,34,34,34,34,34,34,34,34,34,34,34,34,34,34,34,34,34,34,34,34,34,34,34,35,35,35,35,35,35,35,35,35,35,36,36,36,36,36,36,36,36,35,35,35,35,35,35,35,35,34,34,34,34,34,34,34,34,33,33,33,33,33,33,33,33,33,33,33,33,33,33,33,33,33,32,32,32,32,32,33,33,33,33,33,33,33,33,33,33,33,33,33,33,33,33,33,33,33,33,34,34,34,34,33,33,33,33,33,33,33,33,33,33,33,32,32,32,32,32,32,32,32,32,32,32,32,32,33,33,33,33,33,33,33,33,33,34,34,34,34,34,34,34,34,34,34,34,34,34,34,34,34,34,34,34,34,34,34,34,34,34,34],\"weights\":[1,1,1,1,1,1,1,1,1,1,1,1,1,1,1,1,1,1,1,1,1,1,1,1,1,1,1,1,1,1,1,1,1,1,1,1,1,1,1,1,1,1,1,1,1,1,1,1,1,1,1,1,1,1,1,1,1,1,1,1,1,1,1,1,1,1,1,1,1,1,1,1,1,1,1,1,1,1,1,1,1,1,1,1,1,1,1,1,1,1,1,1,1,1,1,1,1,1,1,1,1,1,1,1,1,1,1,1,1,1,1,1,1,1,1,1,1,1,1,1,1,1,1,1,1,1,1,1,1,1,1,1,1,1,1,1,1,1,1,1,1,1,1,1,1,1,1,1,1,1,1,1,1,1,1,1,1,1,1,1,1,1,1,1,1,1,1,1,1]},\"selected\":{\"id\":\"8590\"},\"selection_policy\":{\"id\":\"8589\"}},\"id\":\"8551\",\"type\":\"ColumnDataSource\"},{\"attributes\":{\"active_multi\":{\"id\":\"8558\"},\"tools\":[{\"id\":\"8558\"}]},\"id\":\"8547\",\"type\":\"Toolbar\"},{\"attributes\":{},\"id\":\"8385\",\"type\":\"DataRange1d\"}],\"root_ids\":[\"8563\"]},\"title\":\"Bokeh Application\",\"version\":\"2.4.2\"}};\n  const render_items = [{\"docid\":\"70465022-a210-4640-b276-2bf87def5374\",\"root_ids\":[\"8563\"],\"roots\":{\"8563\":\"33e232ab-a5ae-4857-bd62-01520a0427ac\"}}];\n  root.Bokeh.embed.embed_items_notebook(docs_json, render_items);\n\n  }\n  if (root.Bokeh !== undefined) {\n    embed_document(root);\n  } else {\n    let attempts = 0;\n    const timer = setInterval(function(root) {\n      if (root.Bokeh !== undefined) {\n        clearInterval(timer);\n        embed_document(root);\n      } else {\n        attempts++;\n        if (attempts > 100) {\n          clearInterval(timer);\n          console.log(\"Bokeh: ERROR: Unable to run BokehJS code because BokehJS library is missing\");\n        }\n      }\n    }, 10, root)\n  }\n})(window);",
      "application/vnd.bokehjs_exec.v0+json": ""
     },
     "metadata": {
      "application/vnd.bokehjs_exec.v0+json": {
       "id": "8563"
      }
     },
     "output_type": "display_data"
    }
   ],
   "source": [
    "from msticpy.nbtools.timeseries import display_timeseries_anomolies\n",
    "\n",
    "# display_timeseries_anomolies関数の使用上、事前に結果のタイムフィールドにdatetime型を適用し、かつ時系列順に並び替える\n",
    "output['date_clock'] = pd.to_datetime(output['date_clock'])\n",
    "output = output.sort_values(by='date_clock')\n",
    "\n",
    "timeseries_anomalies_plot = display_timeseries_anomolies(\n",
    "    data=output, \n",
    "    y='count',\n",
    "    time_column='date_clock'\n",
    "    )"
   ]
  },
  {
   "attachments": {},
   "cell_type": "markdown",
   "metadata": {},
   "source": []
  }
 ],
 "metadata": {
  "kernelspec": {
   "display_name": "Python 3",
   "language": "python",
   "name": "python3"
  },
  "language_info": {
   "codemirror_mode": {
    "name": "ipython",
    "version": 3
   },
   "file_extension": ".py",
   "mimetype": "text/x-python",
   "name": "python",
   "nbconvert_exporter": "python",
   "pygments_lexer": "ipython3",
   "version": "3.9.12"
  },
  "orig_nbformat": 4
 },
 "nbformat": 4,
 "nbformat_minor": 2
}
